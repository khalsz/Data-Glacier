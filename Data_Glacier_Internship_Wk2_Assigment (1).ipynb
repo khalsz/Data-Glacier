{
  "nbformat": 4,
  "nbformat_minor": 0,
  "metadata": {
    "colab": {
      "name": "Data Glacier Internship Wk2 Assigment.ipynb",
      "provenance": [],
      "collapsed_sections": []
    },
    "kernelspec": {
      "name": "python3",
      "display_name": "Python 3"
    },
    "language_info": {
      "name": "python"
    }
  },
  "cells": [
    {
      "cell_type": "markdown",
      "source": [
        "##Importing Libraries "
      ],
      "metadata": {
        "id": "aLaVv7ZqRIiq"
      }
    },
    {
      "cell_type": "code",
      "source": [
        "#Importing Libraries \n",
        "import pandas as pd\n",
        "from matplotlib import pyplot as plt\n",
        "import numpy as np\n",
        "import seaborn as sns\n",
        "import xlrd\n",
        "from datetime import datetime\n",
        "import statsmodels.api as sm\n",
        "from statsmodels.formula.api import ols\n",
        "import statsmodels.api as sm\n",
        "from sklearn.preprocessing import StandardScaler\n",
        "from seaborn import pairplot\n",
        "from scipy.stats import pearsonr\n",
        "import numpy as np\n",
        "from scipy.stats import kendalltau"
      ],
      "metadata": {
        "id": "6NIjPK7I9efJ"
      },
      "execution_count": 19,
      "outputs": []
    },
    {
      "cell_type": "markdown",
      "source": [
        "##Saving data links"
      ],
      "metadata": {
        "id": "fq2Ch625RP8x"
      }
    },
    {
      "cell_type": "code",
      "execution_count": 20,
      "metadata": {
        "id": "dsnb0-iS8hPL"
      },
      "outputs": [],
      "source": [
        "#Saving data link\n",
        "cabdata_link = 'https://raw.githubusercontent.com/DataGlacier/DataSets/main/Cab_Data.csv'\n",
        "citydata_link = 'https://raw.githubusercontent.com/DataGlacier/DataSets/main/City.csv'\n",
        "customerdata_link = 'https://raw.githubusercontent.com/DataGlacier/DataSets/main/Customer_ID.csv'\n",
        "tranx_link = 'https://raw.githubusercontent.com/DataGlacier/DataSets/main/Transaction_ID.csv'\n"
      ]
    },
    {
      "cell_type": "markdown",
      "source": [
        "##Loading the data"
      ],
      "metadata": {
        "id": "jCYb1_GxRThn"
      }
    },
    {
      "cell_type": "code",
      "source": [
        "#loading data\n",
        "cabdata = pd.read_csv(cabdata_link)\n",
        "citydata = pd.read_csv(citydata_link)\n",
        "customerdata = pd.read_csv(customerdata_link)\n",
        "tranxdata = pd.read_csv(tranx_link)"
      ],
      "metadata": {
        "id": "vhQ9XQrB9baV"
      },
      "execution_count": 21,
      "outputs": []
    },
    {
      "cell_type": "markdown",
      "source": [
        "##Checking the data info"
      ],
      "metadata": {
        "id": "QTh789ZWRX1h"
      }
    },
    {
      "cell_type": "code",
      "source": [
        "print('This is cab data dimension:')\n",
        "print(cabdata.shape)"
      ],
      "metadata": {
        "colab": {
          "base_uri": "https://localhost:8080/"
        },
        "id": "m1RGr_I7ozyb",
        "outputId": "e7ec3567-0994-43da-8350-ffc658b53a68"
      },
      "execution_count": 22,
      "outputs": [
        {
          "output_type": "stream",
          "name": "stdout",
          "text": [
            "This is cab data dimension:\n",
            "(359392, 7)\n"
          ]
        }
      ]
    },
    {
      "cell_type": "code",
      "source": [
        "print('This is cab data type info:')\n",
        "print(cabdata.info(), '\\n')\n",
        "\n",
        "\n",
        "print('This is cab data descriptive info:')\n",
        "print(cabdata.describe(), '\\n')"
      ],
      "metadata": {
        "id": "EhSy3cp99vh7",
        "colab": {
          "base_uri": "https://localhost:8080/"
        },
        "outputId": "1cc3efc1-aaec-4ead-f45a-0706e90cbc4f"
      },
      "execution_count": 23,
      "outputs": [
        {
          "output_type": "stream",
          "name": "stdout",
          "text": [
            "This is cab data type info:\n",
            "<class 'pandas.core.frame.DataFrame'>\n",
            "RangeIndex: 359392 entries, 0 to 359391\n",
            "Data columns (total 7 columns):\n",
            " #   Column          Non-Null Count   Dtype  \n",
            "---  ------          --------------   -----  \n",
            " 0   Transaction ID  359392 non-null  int64  \n",
            " 1   Date of Travel  359392 non-null  int64  \n",
            " 2   Company         359392 non-null  object \n",
            " 3   City            359392 non-null  object \n",
            " 4   KM Travelled    359392 non-null  float64\n",
            " 5   Price Charged   359392 non-null  float64\n",
            " 6   Cost of Trip    359392 non-null  float64\n",
            "dtypes: float64(3), int64(2), object(2)\n",
            "memory usage: 19.2+ MB\n",
            "None \n",
            "\n",
            "This is cab data descriptive info:\n",
            "       Transaction ID  Date of Travel   KM Travelled  Price Charged  \\\n",
            "count    3.593920e+05   359392.000000  359392.000000  359392.000000   \n",
            "mean     1.022076e+07    42964.067998      22.567254     423.443311   \n",
            "std      1.268058e+05      307.467197      12.233526     274.378911   \n",
            "min      1.000001e+07    42371.000000       1.900000      15.600000   \n",
            "25%      1.011081e+07    42697.000000      12.000000     206.437500   \n",
            "50%      1.022104e+07    42988.000000      22.440000     386.360000   \n",
            "75%      1.033094e+07    43232.000000      32.960000     583.660000   \n",
            "max      1.044011e+07    43465.000000      48.000000    2048.030000   \n",
            "\n",
            "        Cost of Trip  \n",
            "count  359392.000000  \n",
            "mean      286.190113  \n",
            "std       157.993661  \n",
            "min        19.000000  \n",
            "25%       151.200000  \n",
            "50%       282.480000  \n",
            "75%       413.683200  \n",
            "max       691.200000   \n",
            "\n"
          ]
        }
      ]
    },
    {
      "cell_type": "code",
      "source": [
        "cabdata.head()"
      ],
      "metadata": {
        "colab": {
          "base_uri": "https://localhost:8080/",
          "height": 206
        },
        "id": "R5ZB97MXcLSf",
        "outputId": "ccc0e732-06fd-4194-8206-0725a2ab7133"
      },
      "execution_count": 119,
      "outputs": [
        {
          "output_type": "execute_result",
          "data": {
            "text/plain": [
              "   Transaction_ID  Date_of_Travel   Company        City  KM_Travelled  \\\n",
              "0        10000011            2016  Pink Cab  ATLANTA GA         30.45   \n",
              "1        10000012            2016  Pink Cab  ATLANTA GA         28.62   \n",
              "2        10000013            2016  Pink Cab  ATLANTA GA          9.04   \n",
              "3        10000014            2016  Pink Cab  ATLANTA GA         33.17   \n",
              "4        10000015            2016  Pink Cab  ATLANTA GA          8.73   \n",
              "\n",
              "   Price_Charged  Cost_of_Trip  month  \n",
              "0         370.95       313.635      1  \n",
              "1         358.52       334.854      1  \n",
              "2         125.20        97.632      1  \n",
              "3         377.40       351.602      1  \n",
              "4         114.62        97.776      1  "
            ],
            "text/html": [
              "\n",
              "  <div id=\"df-408ccc91-bd7b-4b02-a985-050ab9a0b54d\">\n",
              "    <div class=\"colab-df-container\">\n",
              "      <div>\n",
              "<style scoped>\n",
              "    .dataframe tbody tr th:only-of-type {\n",
              "        vertical-align: middle;\n",
              "    }\n",
              "\n",
              "    .dataframe tbody tr th {\n",
              "        vertical-align: top;\n",
              "    }\n",
              "\n",
              "    .dataframe thead th {\n",
              "        text-align: right;\n",
              "    }\n",
              "</style>\n",
              "<table border=\"1\" class=\"dataframe\">\n",
              "  <thead>\n",
              "    <tr style=\"text-align: right;\">\n",
              "      <th></th>\n",
              "      <th>Transaction_ID</th>\n",
              "      <th>Date_of_Travel</th>\n",
              "      <th>Company</th>\n",
              "      <th>City</th>\n",
              "      <th>KM_Travelled</th>\n",
              "      <th>Price_Charged</th>\n",
              "      <th>Cost_of_Trip</th>\n",
              "      <th>month</th>\n",
              "    </tr>\n",
              "  </thead>\n",
              "  <tbody>\n",
              "    <tr>\n",
              "      <th>0</th>\n",
              "      <td>10000011</td>\n",
              "      <td>2016</td>\n",
              "      <td>Pink Cab</td>\n",
              "      <td>ATLANTA GA</td>\n",
              "      <td>30.45</td>\n",
              "      <td>370.95</td>\n",
              "      <td>313.635</td>\n",
              "      <td>1</td>\n",
              "    </tr>\n",
              "    <tr>\n",
              "      <th>1</th>\n",
              "      <td>10000012</td>\n",
              "      <td>2016</td>\n",
              "      <td>Pink Cab</td>\n",
              "      <td>ATLANTA GA</td>\n",
              "      <td>28.62</td>\n",
              "      <td>358.52</td>\n",
              "      <td>334.854</td>\n",
              "      <td>1</td>\n",
              "    </tr>\n",
              "    <tr>\n",
              "      <th>2</th>\n",
              "      <td>10000013</td>\n",
              "      <td>2016</td>\n",
              "      <td>Pink Cab</td>\n",
              "      <td>ATLANTA GA</td>\n",
              "      <td>9.04</td>\n",
              "      <td>125.20</td>\n",
              "      <td>97.632</td>\n",
              "      <td>1</td>\n",
              "    </tr>\n",
              "    <tr>\n",
              "      <th>3</th>\n",
              "      <td>10000014</td>\n",
              "      <td>2016</td>\n",
              "      <td>Pink Cab</td>\n",
              "      <td>ATLANTA GA</td>\n",
              "      <td>33.17</td>\n",
              "      <td>377.40</td>\n",
              "      <td>351.602</td>\n",
              "      <td>1</td>\n",
              "    </tr>\n",
              "    <tr>\n",
              "      <th>4</th>\n",
              "      <td>10000015</td>\n",
              "      <td>2016</td>\n",
              "      <td>Pink Cab</td>\n",
              "      <td>ATLANTA GA</td>\n",
              "      <td>8.73</td>\n",
              "      <td>114.62</td>\n",
              "      <td>97.776</td>\n",
              "      <td>1</td>\n",
              "    </tr>\n",
              "  </tbody>\n",
              "</table>\n",
              "</div>\n",
              "      <button class=\"colab-df-convert\" onclick=\"convertToInteractive('df-408ccc91-bd7b-4b02-a985-050ab9a0b54d')\"\n",
              "              title=\"Convert this dataframe to an interactive table.\"\n",
              "              style=\"display:none;\">\n",
              "        \n",
              "  <svg xmlns=\"http://www.w3.org/2000/svg\" height=\"24px\"viewBox=\"0 0 24 24\"\n",
              "       width=\"24px\">\n",
              "    <path d=\"M0 0h24v24H0V0z\" fill=\"none\"/>\n",
              "    <path d=\"M18.56 5.44l.94 2.06.94-2.06 2.06-.94-2.06-.94-.94-2.06-.94 2.06-2.06.94zm-11 1L8.5 8.5l.94-2.06 2.06-.94-2.06-.94L8.5 2.5l-.94 2.06-2.06.94zm10 10l.94 2.06.94-2.06 2.06-.94-2.06-.94-.94-2.06-.94 2.06-2.06.94z\"/><path d=\"M17.41 7.96l-1.37-1.37c-.4-.4-.92-.59-1.43-.59-.52 0-1.04.2-1.43.59L10.3 9.45l-7.72 7.72c-.78.78-.78 2.05 0 2.83L4 21.41c.39.39.9.59 1.41.59.51 0 1.02-.2 1.41-.59l7.78-7.78 2.81-2.81c.8-.78.8-2.07 0-2.86zM5.41 20L4 18.59l7.72-7.72 1.47 1.35L5.41 20z\"/>\n",
              "  </svg>\n",
              "      </button>\n",
              "      \n",
              "  <style>\n",
              "    .colab-df-container {\n",
              "      display:flex;\n",
              "      flex-wrap:wrap;\n",
              "      gap: 12px;\n",
              "    }\n",
              "\n",
              "    .colab-df-convert {\n",
              "      background-color: #E8F0FE;\n",
              "      border: none;\n",
              "      border-radius: 50%;\n",
              "      cursor: pointer;\n",
              "      display: none;\n",
              "      fill: #1967D2;\n",
              "      height: 32px;\n",
              "      padding: 0 0 0 0;\n",
              "      width: 32px;\n",
              "    }\n",
              "\n",
              "    .colab-df-convert:hover {\n",
              "      background-color: #E2EBFA;\n",
              "      box-shadow: 0px 1px 2px rgba(60, 64, 67, 0.3), 0px 1px 3px 1px rgba(60, 64, 67, 0.15);\n",
              "      fill: #174EA6;\n",
              "    }\n",
              "\n",
              "    [theme=dark] .colab-df-convert {\n",
              "      background-color: #3B4455;\n",
              "      fill: #D2E3FC;\n",
              "    }\n",
              "\n",
              "    [theme=dark] .colab-df-convert:hover {\n",
              "      background-color: #434B5C;\n",
              "      box-shadow: 0px 1px 3px 1px rgba(0, 0, 0, 0.15);\n",
              "      filter: drop-shadow(0px 1px 2px rgba(0, 0, 0, 0.3));\n",
              "      fill: #FFFFFF;\n",
              "    }\n",
              "  </style>\n",
              "\n",
              "      <script>\n",
              "        const buttonEl =\n",
              "          document.querySelector('#df-408ccc91-bd7b-4b02-a985-050ab9a0b54d button.colab-df-convert');\n",
              "        buttonEl.style.display =\n",
              "          google.colab.kernel.accessAllowed ? 'block' : 'none';\n",
              "\n",
              "        async function convertToInteractive(key) {\n",
              "          const element = document.querySelector('#df-408ccc91-bd7b-4b02-a985-050ab9a0b54d');\n",
              "          const dataTable =\n",
              "            await google.colab.kernel.invokeFunction('convertToInteractive',\n",
              "                                                     [key], {});\n",
              "          if (!dataTable) return;\n",
              "\n",
              "          const docLinkHtml = 'Like what you see? Visit the ' +\n",
              "            '<a target=\"_blank\" href=https://colab.research.google.com/notebooks/data_table.ipynb>data table notebook</a>'\n",
              "            + ' to learn more about interactive tables.';\n",
              "          element.innerHTML = '';\n",
              "          dataTable['output_type'] = 'display_data';\n",
              "          await google.colab.output.renderOutput(dataTable, element);\n",
              "          const docLink = document.createElement('div');\n",
              "          docLink.innerHTML = docLinkHtml;\n",
              "          element.appendChild(docLink);\n",
              "        }\n",
              "      </script>\n",
              "    </div>\n",
              "  </div>\n",
              "  "
            ]
          },
          "metadata": {},
          "execution_count": 119
        }
      ]
    },
    {
      "cell_type": "code",
      "source": [
        "print('This is city data dimension:')\n",
        "print(citydata.shape)"
      ],
      "metadata": {
        "id": "SPlUJd2bo36X",
        "colab": {
          "base_uri": "https://localhost:8080/"
        },
        "outputId": "8a34f6af-5bd5-4ac1-f4fe-504d373a3ea5"
      },
      "execution_count": 25,
      "outputs": [
        {
          "output_type": "stream",
          "name": "stdout",
          "text": [
            "This is city data dimension:\n",
            "(20, 3)\n"
          ]
        }
      ]
    },
    {
      "cell_type": "code",
      "source": [
        "print('This is city data type info:')\n",
        "print(citydata.info(), '\\n')\n",
        "\n",
        "\n",
        "print('This is city data descriptive info:')\n",
        "print(citydata.describe(), '\\n')"
      ],
      "metadata": {
        "id": "FCMuVkJ_Tqgi",
        "colab": {
          "base_uri": "https://localhost:8080/"
        },
        "outputId": "e7e2acaf-0012-4c56-d914-56cefb9625a1"
      },
      "execution_count": 26,
      "outputs": [
        {
          "output_type": "stream",
          "name": "stdout",
          "text": [
            "This is city data type info:\n",
            "<class 'pandas.core.frame.DataFrame'>\n",
            "RangeIndex: 20 entries, 0 to 19\n",
            "Data columns (total 3 columns):\n",
            " #   Column      Non-Null Count  Dtype \n",
            "---  ------      --------------  ----- \n",
            " 0   City        20 non-null     object\n",
            " 1   Population  20 non-null     object\n",
            " 2   Users       20 non-null     object\n",
            "dtypes: object(3)\n",
            "memory usage: 608.0+ bytes\n",
            "None \n",
            "\n",
            "This is city data descriptive info:\n",
            "               City   Population      Users\n",
            "count            20           20         20\n",
            "unique           20           20         20\n",
            "top     NEW YORK NY   8,405,837    302,149 \n",
            "freq              1            1          1 \n",
            "\n"
          ]
        }
      ]
    },
    {
      "cell_type": "code",
      "source": [
        "print('This is customer data dimension:')\n",
        "print(customerdata.shape)"
      ],
      "metadata": {
        "colab": {
          "base_uri": "https://localhost:8080/"
        },
        "id": "u_g5Y8nFo6mG",
        "outputId": "2c786d57-8705-448c-a348-f5e1300536cb"
      },
      "execution_count": 27,
      "outputs": [
        {
          "output_type": "stream",
          "name": "stdout",
          "text": [
            "This is customer data dimension:\n",
            "(49171, 4)\n"
          ]
        }
      ]
    },
    {
      "cell_type": "code",
      "source": [
        "print('This is customer data type info:')\n",
        "print(customerdata.info(), '\\n')\n",
        "\n",
        "\n",
        "print('This is customer data descriptive info:')\n",
        "print(customerdata.describe(), '\\n')\n"
      ],
      "metadata": {
        "id": "DIz6NbJuTr1b",
        "colab": {
          "base_uri": "https://localhost:8080/"
        },
        "outputId": "09a30e9d-c6dd-4bcb-b966-4b6f17e00455"
      },
      "execution_count": 28,
      "outputs": [
        {
          "output_type": "stream",
          "name": "stdout",
          "text": [
            "This is customer data type info:\n",
            "<class 'pandas.core.frame.DataFrame'>\n",
            "RangeIndex: 49171 entries, 0 to 49170\n",
            "Data columns (total 4 columns):\n",
            " #   Column              Non-Null Count  Dtype \n",
            "---  ------              --------------  ----- \n",
            " 0   Customer ID         49171 non-null  int64 \n",
            " 1   Gender              49171 non-null  object\n",
            " 2   Age                 49171 non-null  int64 \n",
            " 3   Income (USD/Month)  49171 non-null  int64 \n",
            "dtypes: int64(3), object(1)\n",
            "memory usage: 1.5+ MB\n",
            "None \n",
            "\n",
            "This is customer data descriptive info:\n",
            "        Customer ID           Age  Income (USD/Month)\n",
            "count  49171.000000  49171.000000        49171.000000\n",
            "mean   28398.252283     35.363121        15015.631856\n",
            "std    17714.137333     12.599066         8002.208253\n",
            "min        1.000000     18.000000         2000.000000\n",
            "25%    12654.500000     25.000000         8289.500000\n",
            "50%    27631.000000     33.000000        14656.000000\n",
            "75%    43284.500000     42.000000        21035.000000\n",
            "max    60000.000000     65.000000        35000.000000 \n",
            "\n"
          ]
        }
      ]
    },
    {
      "cell_type": "code",
      "source": [
        "print('This is Transaction data dimension:')\n",
        "print(tranxdata.shape)"
      ],
      "metadata": {
        "id": "o21gtLlno-TH",
        "colab": {
          "base_uri": "https://localhost:8080/"
        },
        "outputId": "844a3aaa-96b3-4574-e9e6-23fa63fbf8e2"
      },
      "execution_count": 29,
      "outputs": [
        {
          "output_type": "stream",
          "name": "stdout",
          "text": [
            "This is Transaction data dimension:\n",
            "(440098, 3)\n"
          ]
        }
      ]
    },
    {
      "cell_type": "code",
      "source": [
        "print('This is Transaction data type info:')\n",
        "print(tranxdata.info(), '\\n')\n",
        "\n",
        "\n",
        "print('This is Transaction data descriptive info:')\n",
        "print(tranxdata.describe(), '\\n')"
      ],
      "metadata": {
        "id": "nSELCq9pTtBq",
        "colab": {
          "base_uri": "https://localhost:8080/"
        },
        "outputId": "4e95bcc2-71f3-4173-9a10-08c3ed6da494"
      },
      "execution_count": 30,
      "outputs": [
        {
          "output_type": "stream",
          "name": "stdout",
          "text": [
            "This is Transaction data type info:\n",
            "<class 'pandas.core.frame.DataFrame'>\n",
            "RangeIndex: 440098 entries, 0 to 440097\n",
            "Data columns (total 3 columns):\n",
            " #   Column          Non-Null Count   Dtype \n",
            "---  ------          --------------   ----- \n",
            " 0   Transaction ID  440098 non-null  int64 \n",
            " 1   Customer ID     440098 non-null  int64 \n",
            " 2   Payment_Mode    440098 non-null  object\n",
            "dtypes: int64(2), object(1)\n",
            "memory usage: 10.1+ MB\n",
            "None \n",
            "\n",
            "This is Transaction data descriptive info:\n",
            "       Transaction ID    Customer ID\n",
            "count    4.400980e+05  440098.000000\n",
            "mean     1.022006e+07   23619.513120\n",
            "std      1.270455e+05   21195.549816\n",
            "min      1.000001e+07       1.000000\n",
            "25%      1.011004e+07    3530.000000\n",
            "50%      1.022006e+07   15168.000000\n",
            "75%      1.033008e+07   43884.000000\n",
            "max      1.044011e+07   60000.000000 \n",
            "\n"
          ]
        }
      ]
    },
    {
      "cell_type": "code",
      "source": [
        "print(cabdata.isnull().sum())\n",
        "print(citydata.isnull().sum())\n",
        "print(customerdata.isnull().sum())\n",
        "print(tranxdata.isnull().sum())"
      ],
      "metadata": {
        "id": "a1kJs9G0l4uo",
        "colab": {
          "base_uri": "https://localhost:8080/"
        },
        "outputId": "ae47303e-b2c6-4e45-bea3-1e9d259bccac"
      },
      "execution_count": 31,
      "outputs": [
        {
          "output_type": "stream",
          "name": "stdout",
          "text": [
            "Transaction ID    0\n",
            "Date of Travel    0\n",
            "Company           0\n",
            "City              0\n",
            "KM Travelled      0\n",
            "Price Charged     0\n",
            "Cost of Trip      0\n",
            "dtype: int64\n",
            "City          0\n",
            "Population    0\n",
            "Users         0\n",
            "dtype: int64\n",
            "Customer ID           0\n",
            "Gender                0\n",
            "Age                   0\n",
            "Income (USD/Month)    0\n",
            "dtype: int64\n",
            "Transaction ID    0\n",
            "Customer ID       0\n",
            "Payment_Mode      0\n",
            "dtype: int64\n"
          ]
        }
      ]
    },
    {
      "cell_type": "markdown",
      "source": [
        "###The number of cities in City data and how many times they are represented."
      ],
      "metadata": {
        "id": "ELEc6ZG9VDAG"
      }
    },
    {
      "cell_type": "markdown",
      "source": [
        "### Replacing ',' with '' in Population and User variables in City data "
      ],
      "metadata": {
        "id": "bk0NRvzaVY7s"
      }
    },
    {
      "cell_type": "code",
      "source": [
        "citydata['Population'] = citydata['Population'].str.replace(',', '')\n",
        "citydata['Users'] = citydata['Users'].str.replace(',', '')"
      ],
      "metadata": {
        "id": "4Bkg4E6lGndf"
      },
      "execution_count": 32,
      "outputs": []
    },
    {
      "cell_type": "markdown",
      "source": [
        "### Converting Population and Users variable in City data to integer"
      ],
      "metadata": {
        "id": "KFEz7pAOVpjB"
      }
    },
    {
      "cell_type": "code",
      "source": [
        "citydata[['Population', 'Users']] = citydata[['Population', 'Users']].astype(int)"
      ],
      "metadata": {
        "id": "o8t1MTTouRBk"
      },
      "execution_count": 33,
      "outputs": []
    },
    {
      "cell_type": "markdown",
      "source": [
        "### COnverting date column in Cab data to Year Month and Day format"
      ],
      "metadata": {
        "id": "evqaqkt1V0sU"
      }
    },
    {
      "cell_type": "code",
      "source": [
        "cabdata.loc[:, 'Date of Travel'] = cabdata.loc[:, 'Date of Travel'].map(lambda x: datetime(*xlrd.xldate_as_tuple(x, 0)))"
      ],
      "metadata": {
        "id": "W-cO2YW5RJFb"
      },
      "execution_count": 34,
      "outputs": []
    },
    {
      "cell_type": "code",
      "source": [
        "cabdata['month'] = cabdata['Date of Travel'].dt.month"
      ],
      "metadata": {
        "id": "hAy2jwScI-rT"
      },
      "execution_count": 35,
      "outputs": []
    },
    {
      "cell_type": "code",
      "source": [
        "cabdata.loc[:, 'Date of Travel'] = cabdata['Date of Travel'].dt.year"
      ],
      "metadata": {
        "id": "2oGA70-aAd9x"
      },
      "execution_count": 36,
      "outputs": []
    },
    {
      "cell_type": "markdown",
      "source": [
        "### Replacing ' ' in data frame column names with '_'"
      ],
      "metadata": {
        "id": "oQuKY8m2WduC"
      }
    },
    {
      "cell_type": "code",
      "source": [
        "cabdata.columns = [c.replace(' ', '_') for c in cabdata.columns] \n",
        "customerdata.columns = [c.replace(' ', '_') for c in customerdata.columns] \n",
        "tranxdata.columns = [c.replace(' ', '_') for c in tranxdata.columns] "
      ],
      "metadata": {
        "id": "ZDGQFCNZWeax"
      },
      "execution_count": 37,
      "outputs": []
    },
    {
      "cell_type": "markdown",
      "source": [
        "###Merging Cab data and Transaction data "
      ],
      "metadata": {
        "id": "BNIWUWHbXpRY"
      }
    },
    {
      "cell_type": "code",
      "source": [
        "merged_data_df = pd.merge(cabdata,  tranxdata, how = 'outer', on = 'Transaction_ID')\n",
        "merged_data_df['Profit'] = merged_data_df['Price_Charged'] - merged_data_df['Cost_of_Trip']\n",
        "merged_data_df"
      ],
      "metadata": {
        "colab": {
          "base_uri": "https://localhost:8080/",
          "height": 424
        },
        "id": "t4PY_2Y0eOOZ",
        "outputId": "753118c9-cf34-4969-f40f-3f5334ebd322"
      },
      "execution_count": 38,
      "outputs": [
        {
          "output_type": "execute_result",
          "data": {
            "text/plain": [
              "        Transaction_ID  Date_of_Travel   Company        City  KM_Travelled  \\\n",
              "0             10000011          2016.0  Pink Cab  ATLANTA GA         30.45   \n",
              "1             10000012          2016.0  Pink Cab  ATLANTA GA         28.62   \n",
              "2             10000013          2016.0  Pink Cab  ATLANTA GA          9.04   \n",
              "3             10000014          2016.0  Pink Cab  ATLANTA GA         33.17   \n",
              "4             10000015          2016.0  Pink Cab  ATLANTA GA          8.73   \n",
              "...                ...             ...       ...         ...           ...   \n",
              "440093        10440078             NaN       NaN         NaN           NaN   \n",
              "440094        10440091             NaN       NaN         NaN           NaN   \n",
              "440095        10440102             NaN       NaN         NaN           NaN   \n",
              "440096        10440103             NaN       NaN         NaN           NaN   \n",
              "440097        10440108             NaN       NaN         NaN           NaN   \n",
              "\n",
              "        Price_Charged  Cost_of_Trip  month  Customer_ID Payment_Mode  Profit  \n",
              "0              370.95       313.635    1.0        29290         Card  57.315  \n",
              "1              358.52       334.854    1.0        27703         Card  23.666  \n",
              "2              125.20        97.632    1.0        28712         Cash  27.568  \n",
              "3              377.40       351.602    1.0        28020         Cash  25.798  \n",
              "4              114.62        97.776    1.0        27182         Card  16.844  \n",
              "...               ...           ...    ...          ...          ...     ...  \n",
              "440093            NaN           NaN    NaN        51612         Cash     NaN  \n",
              "440094            NaN           NaN    NaN        53963         Card     NaN  \n",
              "440095            NaN           NaN    NaN        52526         Cash     NaN  \n",
              "440096            NaN           NaN    NaN        53171         Card     NaN  \n",
              "440097            NaN           NaN    NaN        51587         Card     NaN  \n",
              "\n",
              "[440098 rows x 11 columns]"
            ],
            "text/html": [
              "\n",
              "  <div id=\"df-aa16d169-f1a7-42b7-9d7b-30931bc13048\">\n",
              "    <div class=\"colab-df-container\">\n",
              "      <div>\n",
              "<style scoped>\n",
              "    .dataframe tbody tr th:only-of-type {\n",
              "        vertical-align: middle;\n",
              "    }\n",
              "\n",
              "    .dataframe tbody tr th {\n",
              "        vertical-align: top;\n",
              "    }\n",
              "\n",
              "    .dataframe thead th {\n",
              "        text-align: right;\n",
              "    }\n",
              "</style>\n",
              "<table border=\"1\" class=\"dataframe\">\n",
              "  <thead>\n",
              "    <tr style=\"text-align: right;\">\n",
              "      <th></th>\n",
              "      <th>Transaction_ID</th>\n",
              "      <th>Date_of_Travel</th>\n",
              "      <th>Company</th>\n",
              "      <th>City</th>\n",
              "      <th>KM_Travelled</th>\n",
              "      <th>Price_Charged</th>\n",
              "      <th>Cost_of_Trip</th>\n",
              "      <th>month</th>\n",
              "      <th>Customer_ID</th>\n",
              "      <th>Payment_Mode</th>\n",
              "      <th>Profit</th>\n",
              "    </tr>\n",
              "  </thead>\n",
              "  <tbody>\n",
              "    <tr>\n",
              "      <th>0</th>\n",
              "      <td>10000011</td>\n",
              "      <td>2016.0</td>\n",
              "      <td>Pink Cab</td>\n",
              "      <td>ATLANTA GA</td>\n",
              "      <td>30.45</td>\n",
              "      <td>370.95</td>\n",
              "      <td>313.635</td>\n",
              "      <td>1.0</td>\n",
              "      <td>29290</td>\n",
              "      <td>Card</td>\n",
              "      <td>57.315</td>\n",
              "    </tr>\n",
              "    <tr>\n",
              "      <th>1</th>\n",
              "      <td>10000012</td>\n",
              "      <td>2016.0</td>\n",
              "      <td>Pink Cab</td>\n",
              "      <td>ATLANTA GA</td>\n",
              "      <td>28.62</td>\n",
              "      <td>358.52</td>\n",
              "      <td>334.854</td>\n",
              "      <td>1.0</td>\n",
              "      <td>27703</td>\n",
              "      <td>Card</td>\n",
              "      <td>23.666</td>\n",
              "    </tr>\n",
              "    <tr>\n",
              "      <th>2</th>\n",
              "      <td>10000013</td>\n",
              "      <td>2016.0</td>\n",
              "      <td>Pink Cab</td>\n",
              "      <td>ATLANTA GA</td>\n",
              "      <td>9.04</td>\n",
              "      <td>125.20</td>\n",
              "      <td>97.632</td>\n",
              "      <td>1.0</td>\n",
              "      <td>28712</td>\n",
              "      <td>Cash</td>\n",
              "      <td>27.568</td>\n",
              "    </tr>\n",
              "    <tr>\n",
              "      <th>3</th>\n",
              "      <td>10000014</td>\n",
              "      <td>2016.0</td>\n",
              "      <td>Pink Cab</td>\n",
              "      <td>ATLANTA GA</td>\n",
              "      <td>33.17</td>\n",
              "      <td>377.40</td>\n",
              "      <td>351.602</td>\n",
              "      <td>1.0</td>\n",
              "      <td>28020</td>\n",
              "      <td>Cash</td>\n",
              "      <td>25.798</td>\n",
              "    </tr>\n",
              "    <tr>\n",
              "      <th>4</th>\n",
              "      <td>10000015</td>\n",
              "      <td>2016.0</td>\n",
              "      <td>Pink Cab</td>\n",
              "      <td>ATLANTA GA</td>\n",
              "      <td>8.73</td>\n",
              "      <td>114.62</td>\n",
              "      <td>97.776</td>\n",
              "      <td>1.0</td>\n",
              "      <td>27182</td>\n",
              "      <td>Card</td>\n",
              "      <td>16.844</td>\n",
              "    </tr>\n",
              "    <tr>\n",
              "      <th>...</th>\n",
              "      <td>...</td>\n",
              "      <td>...</td>\n",
              "      <td>...</td>\n",
              "      <td>...</td>\n",
              "      <td>...</td>\n",
              "      <td>...</td>\n",
              "      <td>...</td>\n",
              "      <td>...</td>\n",
              "      <td>...</td>\n",
              "      <td>...</td>\n",
              "      <td>...</td>\n",
              "    </tr>\n",
              "    <tr>\n",
              "      <th>440093</th>\n",
              "      <td>10440078</td>\n",
              "      <td>NaN</td>\n",
              "      <td>NaN</td>\n",
              "      <td>NaN</td>\n",
              "      <td>NaN</td>\n",
              "      <td>NaN</td>\n",
              "      <td>NaN</td>\n",
              "      <td>NaN</td>\n",
              "      <td>51612</td>\n",
              "      <td>Cash</td>\n",
              "      <td>NaN</td>\n",
              "    </tr>\n",
              "    <tr>\n",
              "      <th>440094</th>\n",
              "      <td>10440091</td>\n",
              "      <td>NaN</td>\n",
              "      <td>NaN</td>\n",
              "      <td>NaN</td>\n",
              "      <td>NaN</td>\n",
              "      <td>NaN</td>\n",
              "      <td>NaN</td>\n",
              "      <td>NaN</td>\n",
              "      <td>53963</td>\n",
              "      <td>Card</td>\n",
              "      <td>NaN</td>\n",
              "    </tr>\n",
              "    <tr>\n",
              "      <th>440095</th>\n",
              "      <td>10440102</td>\n",
              "      <td>NaN</td>\n",
              "      <td>NaN</td>\n",
              "      <td>NaN</td>\n",
              "      <td>NaN</td>\n",
              "      <td>NaN</td>\n",
              "      <td>NaN</td>\n",
              "      <td>NaN</td>\n",
              "      <td>52526</td>\n",
              "      <td>Cash</td>\n",
              "      <td>NaN</td>\n",
              "    </tr>\n",
              "    <tr>\n",
              "      <th>440096</th>\n",
              "      <td>10440103</td>\n",
              "      <td>NaN</td>\n",
              "      <td>NaN</td>\n",
              "      <td>NaN</td>\n",
              "      <td>NaN</td>\n",
              "      <td>NaN</td>\n",
              "      <td>NaN</td>\n",
              "      <td>NaN</td>\n",
              "      <td>53171</td>\n",
              "      <td>Card</td>\n",
              "      <td>NaN</td>\n",
              "    </tr>\n",
              "    <tr>\n",
              "      <th>440097</th>\n",
              "      <td>10440108</td>\n",
              "      <td>NaN</td>\n",
              "      <td>NaN</td>\n",
              "      <td>NaN</td>\n",
              "      <td>NaN</td>\n",
              "      <td>NaN</td>\n",
              "      <td>NaN</td>\n",
              "      <td>NaN</td>\n",
              "      <td>51587</td>\n",
              "      <td>Card</td>\n",
              "      <td>NaN</td>\n",
              "    </tr>\n",
              "  </tbody>\n",
              "</table>\n",
              "<p>440098 rows × 11 columns</p>\n",
              "</div>\n",
              "      <button class=\"colab-df-convert\" onclick=\"convertToInteractive('df-aa16d169-f1a7-42b7-9d7b-30931bc13048')\"\n",
              "              title=\"Convert this dataframe to an interactive table.\"\n",
              "              style=\"display:none;\">\n",
              "        \n",
              "  <svg xmlns=\"http://www.w3.org/2000/svg\" height=\"24px\"viewBox=\"0 0 24 24\"\n",
              "       width=\"24px\">\n",
              "    <path d=\"M0 0h24v24H0V0z\" fill=\"none\"/>\n",
              "    <path d=\"M18.56 5.44l.94 2.06.94-2.06 2.06-.94-2.06-.94-.94-2.06-.94 2.06-2.06.94zm-11 1L8.5 8.5l.94-2.06 2.06-.94-2.06-.94L8.5 2.5l-.94 2.06-2.06.94zm10 10l.94 2.06.94-2.06 2.06-.94-2.06-.94-.94-2.06-.94 2.06-2.06.94z\"/><path d=\"M17.41 7.96l-1.37-1.37c-.4-.4-.92-.59-1.43-.59-.52 0-1.04.2-1.43.59L10.3 9.45l-7.72 7.72c-.78.78-.78 2.05 0 2.83L4 21.41c.39.39.9.59 1.41.59.51 0 1.02-.2 1.41-.59l7.78-7.78 2.81-2.81c.8-.78.8-2.07 0-2.86zM5.41 20L4 18.59l7.72-7.72 1.47 1.35L5.41 20z\"/>\n",
              "  </svg>\n",
              "      </button>\n",
              "      \n",
              "  <style>\n",
              "    .colab-df-container {\n",
              "      display:flex;\n",
              "      flex-wrap:wrap;\n",
              "      gap: 12px;\n",
              "    }\n",
              "\n",
              "    .colab-df-convert {\n",
              "      background-color: #E8F0FE;\n",
              "      border: none;\n",
              "      border-radius: 50%;\n",
              "      cursor: pointer;\n",
              "      display: none;\n",
              "      fill: #1967D2;\n",
              "      height: 32px;\n",
              "      padding: 0 0 0 0;\n",
              "      width: 32px;\n",
              "    }\n",
              "\n",
              "    .colab-df-convert:hover {\n",
              "      background-color: #E2EBFA;\n",
              "      box-shadow: 0px 1px 2px rgba(60, 64, 67, 0.3), 0px 1px 3px 1px rgba(60, 64, 67, 0.15);\n",
              "      fill: #174EA6;\n",
              "    }\n",
              "\n",
              "    [theme=dark] .colab-df-convert {\n",
              "      background-color: #3B4455;\n",
              "      fill: #D2E3FC;\n",
              "    }\n",
              "\n",
              "    [theme=dark] .colab-df-convert:hover {\n",
              "      background-color: #434B5C;\n",
              "      box-shadow: 0px 1px 3px 1px rgba(0, 0, 0, 0.15);\n",
              "      filter: drop-shadow(0px 1px 2px rgba(0, 0, 0, 0.3));\n",
              "      fill: #FFFFFF;\n",
              "    }\n",
              "  </style>\n",
              "\n",
              "      <script>\n",
              "        const buttonEl =\n",
              "          document.querySelector('#df-aa16d169-f1a7-42b7-9d7b-30931bc13048 button.colab-df-convert');\n",
              "        buttonEl.style.display =\n",
              "          google.colab.kernel.accessAllowed ? 'block' : 'none';\n",
              "\n",
              "        async function convertToInteractive(key) {\n",
              "          const element = document.querySelector('#df-aa16d169-f1a7-42b7-9d7b-30931bc13048');\n",
              "          const dataTable =\n",
              "            await google.colab.kernel.invokeFunction('convertToInteractive',\n",
              "                                                     [key], {});\n",
              "          if (!dataTable) return;\n",
              "\n",
              "          const docLinkHtml = 'Like what you see? Visit the ' +\n",
              "            '<a target=\"_blank\" href=https://colab.research.google.com/notebooks/data_table.ipynb>data table notebook</a>'\n",
              "            + ' to learn more about interactive tables.';\n",
              "          element.innerHTML = '';\n",
              "          dataTable['output_type'] = 'display_data';\n",
              "          await google.colab.output.renderOutput(dataTable, element);\n",
              "          const docLink = document.createElement('div');\n",
              "          docLink.innerHTML = docLinkHtml;\n",
              "          element.appendChild(docLink);\n",
              "        }\n",
              "      </script>\n",
              "    </div>\n",
              "  </div>\n",
              "  "
            ]
          },
          "metadata": {},
          "execution_count": 38
        }
      ]
    },
    {
      "cell_type": "markdown",
      "source": [
        "###Merging Customer data with the merged data"
      ],
      "metadata": {
        "id": "9bAR-8qqXuC1"
      }
    },
    {
      "cell_type": "code",
      "source": [
        "merged_data_df2 = pd.merge(merged_data_df, customerdata, how = 'outer', on = 'Customer_ID')\n",
        "merged_data_df2.rename(columns = {'Income_(USD/Month)': 'Income'}, inplace = True)\n",
        "merged_data_df2"
      ],
      "metadata": {
        "colab": {
          "base_uri": "https://localhost:8080/",
          "height": 424
        },
        "id": "yR8f5Ak-G0I_",
        "outputId": "2e4f60a8-6c51-48cf-bd4c-08066cdfab74"
      },
      "execution_count": 39,
      "outputs": [
        {
          "output_type": "execute_result",
          "data": {
            "text/plain": [
              "        Transaction_ID  Date_of_Travel     Company        City  KM_Travelled  \\\n",
              "0             10000011          2016.0    Pink Cab  ATLANTA GA         30.45   \n",
              "1             10351127          2018.0  Yellow Cab  ATLANTA GA         26.19   \n",
              "2             10412921          2018.0  Yellow Cab  ATLANTA GA         42.55   \n",
              "3             10000012          2016.0    Pink Cab  ATLANTA GA         28.62   \n",
              "4             10320494          2018.0  Yellow Cab  ATLANTA GA         36.38   \n",
              "...                ...             ...         ...         ...           ...   \n",
              "440093        10439406             NaN         NaN         NaN           NaN   \n",
              "440094        10439409             NaN         NaN         NaN           NaN   \n",
              "440095        10439413             NaN         NaN         NaN           NaN   \n",
              "440096        10439418             NaN         NaN         NaN           NaN   \n",
              "440097        10439820             NaN         NaN         NaN           NaN   \n",
              "\n",
              "        Price_Charged  Cost_of_Trip  month  Customer_ID Payment_Mode  \\\n",
              "0              370.95      313.6350    1.0        29290         Card   \n",
              "1              598.70      317.4228    7.0        29290         Cash   \n",
              "2              792.05      597.4020   11.0        29290         Card   \n",
              "3              358.52      334.8540    1.0        27703         Card   \n",
              "4              721.10      467.1192    4.0        27703         Card   \n",
              "...               ...           ...    ...          ...          ...   \n",
              "440093            NaN           NaN    NaN        23382         Card   \n",
              "440094            NaN           NaN    NaN        21420         Card   \n",
              "440095            NaN           NaN    NaN        49888         Card   \n",
              "440096            NaN           NaN    NaN        46456         Cash   \n",
              "440097            NaN           NaN    NaN        14971         Card   \n",
              "\n",
              "          Profit  Gender  Age  Income  \n",
              "0        57.3150    Male   28   10813  \n",
              "1       281.2772    Male   28   10813  \n",
              "2       194.6480    Male   28   10813  \n",
              "3        23.6660    Male   27    9237  \n",
              "4       253.9808    Male   27    9237  \n",
              "...          ...     ...  ...     ...  \n",
              "440093       NaN  Female   51   18919  \n",
              "440094       NaN  Female   18    4531  \n",
              "440095       NaN    Male   23    3226  \n",
              "440096       NaN    Male   20   30662  \n",
              "440097       NaN    Male   30   15346  \n",
              "\n",
              "[440098 rows x 14 columns]"
            ],
            "text/html": [
              "\n",
              "  <div id=\"df-c58cadec-7152-4849-afe5-969a276bc7c0\">\n",
              "    <div class=\"colab-df-container\">\n",
              "      <div>\n",
              "<style scoped>\n",
              "    .dataframe tbody tr th:only-of-type {\n",
              "        vertical-align: middle;\n",
              "    }\n",
              "\n",
              "    .dataframe tbody tr th {\n",
              "        vertical-align: top;\n",
              "    }\n",
              "\n",
              "    .dataframe thead th {\n",
              "        text-align: right;\n",
              "    }\n",
              "</style>\n",
              "<table border=\"1\" class=\"dataframe\">\n",
              "  <thead>\n",
              "    <tr style=\"text-align: right;\">\n",
              "      <th></th>\n",
              "      <th>Transaction_ID</th>\n",
              "      <th>Date_of_Travel</th>\n",
              "      <th>Company</th>\n",
              "      <th>City</th>\n",
              "      <th>KM_Travelled</th>\n",
              "      <th>Price_Charged</th>\n",
              "      <th>Cost_of_Trip</th>\n",
              "      <th>month</th>\n",
              "      <th>Customer_ID</th>\n",
              "      <th>Payment_Mode</th>\n",
              "      <th>Profit</th>\n",
              "      <th>Gender</th>\n",
              "      <th>Age</th>\n",
              "      <th>Income</th>\n",
              "    </tr>\n",
              "  </thead>\n",
              "  <tbody>\n",
              "    <tr>\n",
              "      <th>0</th>\n",
              "      <td>10000011</td>\n",
              "      <td>2016.0</td>\n",
              "      <td>Pink Cab</td>\n",
              "      <td>ATLANTA GA</td>\n",
              "      <td>30.45</td>\n",
              "      <td>370.95</td>\n",
              "      <td>313.6350</td>\n",
              "      <td>1.0</td>\n",
              "      <td>29290</td>\n",
              "      <td>Card</td>\n",
              "      <td>57.3150</td>\n",
              "      <td>Male</td>\n",
              "      <td>28</td>\n",
              "      <td>10813</td>\n",
              "    </tr>\n",
              "    <tr>\n",
              "      <th>1</th>\n",
              "      <td>10351127</td>\n",
              "      <td>2018.0</td>\n",
              "      <td>Yellow Cab</td>\n",
              "      <td>ATLANTA GA</td>\n",
              "      <td>26.19</td>\n",
              "      <td>598.70</td>\n",
              "      <td>317.4228</td>\n",
              "      <td>7.0</td>\n",
              "      <td>29290</td>\n",
              "      <td>Cash</td>\n",
              "      <td>281.2772</td>\n",
              "      <td>Male</td>\n",
              "      <td>28</td>\n",
              "      <td>10813</td>\n",
              "    </tr>\n",
              "    <tr>\n",
              "      <th>2</th>\n",
              "      <td>10412921</td>\n",
              "      <td>2018.0</td>\n",
              "      <td>Yellow Cab</td>\n",
              "      <td>ATLANTA GA</td>\n",
              "      <td>42.55</td>\n",
              "      <td>792.05</td>\n",
              "      <td>597.4020</td>\n",
              "      <td>11.0</td>\n",
              "      <td>29290</td>\n",
              "      <td>Card</td>\n",
              "      <td>194.6480</td>\n",
              "      <td>Male</td>\n",
              "      <td>28</td>\n",
              "      <td>10813</td>\n",
              "    </tr>\n",
              "    <tr>\n",
              "      <th>3</th>\n",
              "      <td>10000012</td>\n",
              "      <td>2016.0</td>\n",
              "      <td>Pink Cab</td>\n",
              "      <td>ATLANTA GA</td>\n",
              "      <td>28.62</td>\n",
              "      <td>358.52</td>\n",
              "      <td>334.8540</td>\n",
              "      <td>1.0</td>\n",
              "      <td>27703</td>\n",
              "      <td>Card</td>\n",
              "      <td>23.6660</td>\n",
              "      <td>Male</td>\n",
              "      <td>27</td>\n",
              "      <td>9237</td>\n",
              "    </tr>\n",
              "    <tr>\n",
              "      <th>4</th>\n",
              "      <td>10320494</td>\n",
              "      <td>2018.0</td>\n",
              "      <td>Yellow Cab</td>\n",
              "      <td>ATLANTA GA</td>\n",
              "      <td>36.38</td>\n",
              "      <td>721.10</td>\n",
              "      <td>467.1192</td>\n",
              "      <td>4.0</td>\n",
              "      <td>27703</td>\n",
              "      <td>Card</td>\n",
              "      <td>253.9808</td>\n",
              "      <td>Male</td>\n",
              "      <td>27</td>\n",
              "      <td>9237</td>\n",
              "    </tr>\n",
              "    <tr>\n",
              "      <th>...</th>\n",
              "      <td>...</td>\n",
              "      <td>...</td>\n",
              "      <td>...</td>\n",
              "      <td>...</td>\n",
              "      <td>...</td>\n",
              "      <td>...</td>\n",
              "      <td>...</td>\n",
              "      <td>...</td>\n",
              "      <td>...</td>\n",
              "      <td>...</td>\n",
              "      <td>...</td>\n",
              "      <td>...</td>\n",
              "      <td>...</td>\n",
              "      <td>...</td>\n",
              "    </tr>\n",
              "    <tr>\n",
              "      <th>440093</th>\n",
              "      <td>10439406</td>\n",
              "      <td>NaN</td>\n",
              "      <td>NaN</td>\n",
              "      <td>NaN</td>\n",
              "      <td>NaN</td>\n",
              "      <td>NaN</td>\n",
              "      <td>NaN</td>\n",
              "      <td>NaN</td>\n",
              "      <td>23382</td>\n",
              "      <td>Card</td>\n",
              "      <td>NaN</td>\n",
              "      <td>Female</td>\n",
              "      <td>51</td>\n",
              "      <td>18919</td>\n",
              "    </tr>\n",
              "    <tr>\n",
              "      <th>440094</th>\n",
              "      <td>10439409</td>\n",
              "      <td>NaN</td>\n",
              "      <td>NaN</td>\n",
              "      <td>NaN</td>\n",
              "      <td>NaN</td>\n",
              "      <td>NaN</td>\n",
              "      <td>NaN</td>\n",
              "      <td>NaN</td>\n",
              "      <td>21420</td>\n",
              "      <td>Card</td>\n",
              "      <td>NaN</td>\n",
              "      <td>Female</td>\n",
              "      <td>18</td>\n",
              "      <td>4531</td>\n",
              "    </tr>\n",
              "    <tr>\n",
              "      <th>440095</th>\n",
              "      <td>10439413</td>\n",
              "      <td>NaN</td>\n",
              "      <td>NaN</td>\n",
              "      <td>NaN</td>\n",
              "      <td>NaN</td>\n",
              "      <td>NaN</td>\n",
              "      <td>NaN</td>\n",
              "      <td>NaN</td>\n",
              "      <td>49888</td>\n",
              "      <td>Card</td>\n",
              "      <td>NaN</td>\n",
              "      <td>Male</td>\n",
              "      <td>23</td>\n",
              "      <td>3226</td>\n",
              "    </tr>\n",
              "    <tr>\n",
              "      <th>440096</th>\n",
              "      <td>10439418</td>\n",
              "      <td>NaN</td>\n",
              "      <td>NaN</td>\n",
              "      <td>NaN</td>\n",
              "      <td>NaN</td>\n",
              "      <td>NaN</td>\n",
              "      <td>NaN</td>\n",
              "      <td>NaN</td>\n",
              "      <td>46456</td>\n",
              "      <td>Cash</td>\n",
              "      <td>NaN</td>\n",
              "      <td>Male</td>\n",
              "      <td>20</td>\n",
              "      <td>30662</td>\n",
              "    </tr>\n",
              "    <tr>\n",
              "      <th>440097</th>\n",
              "      <td>10439820</td>\n",
              "      <td>NaN</td>\n",
              "      <td>NaN</td>\n",
              "      <td>NaN</td>\n",
              "      <td>NaN</td>\n",
              "      <td>NaN</td>\n",
              "      <td>NaN</td>\n",
              "      <td>NaN</td>\n",
              "      <td>14971</td>\n",
              "      <td>Card</td>\n",
              "      <td>NaN</td>\n",
              "      <td>Male</td>\n",
              "      <td>30</td>\n",
              "      <td>15346</td>\n",
              "    </tr>\n",
              "  </tbody>\n",
              "</table>\n",
              "<p>440098 rows × 14 columns</p>\n",
              "</div>\n",
              "      <button class=\"colab-df-convert\" onclick=\"convertToInteractive('df-c58cadec-7152-4849-afe5-969a276bc7c0')\"\n",
              "              title=\"Convert this dataframe to an interactive table.\"\n",
              "              style=\"display:none;\">\n",
              "        \n",
              "  <svg xmlns=\"http://www.w3.org/2000/svg\" height=\"24px\"viewBox=\"0 0 24 24\"\n",
              "       width=\"24px\">\n",
              "    <path d=\"M0 0h24v24H0V0z\" fill=\"none\"/>\n",
              "    <path d=\"M18.56 5.44l.94 2.06.94-2.06 2.06-.94-2.06-.94-.94-2.06-.94 2.06-2.06.94zm-11 1L8.5 8.5l.94-2.06 2.06-.94-2.06-.94L8.5 2.5l-.94 2.06-2.06.94zm10 10l.94 2.06.94-2.06 2.06-.94-2.06-.94-.94-2.06-.94 2.06-2.06.94z\"/><path d=\"M17.41 7.96l-1.37-1.37c-.4-.4-.92-.59-1.43-.59-.52 0-1.04.2-1.43.59L10.3 9.45l-7.72 7.72c-.78.78-.78 2.05 0 2.83L4 21.41c.39.39.9.59 1.41.59.51 0 1.02-.2 1.41-.59l7.78-7.78 2.81-2.81c.8-.78.8-2.07 0-2.86zM5.41 20L4 18.59l7.72-7.72 1.47 1.35L5.41 20z\"/>\n",
              "  </svg>\n",
              "      </button>\n",
              "      \n",
              "  <style>\n",
              "    .colab-df-container {\n",
              "      display:flex;\n",
              "      flex-wrap:wrap;\n",
              "      gap: 12px;\n",
              "    }\n",
              "\n",
              "    .colab-df-convert {\n",
              "      background-color: #E8F0FE;\n",
              "      border: none;\n",
              "      border-radius: 50%;\n",
              "      cursor: pointer;\n",
              "      display: none;\n",
              "      fill: #1967D2;\n",
              "      height: 32px;\n",
              "      padding: 0 0 0 0;\n",
              "      width: 32px;\n",
              "    }\n",
              "\n",
              "    .colab-df-convert:hover {\n",
              "      background-color: #E2EBFA;\n",
              "      box-shadow: 0px 1px 2px rgba(60, 64, 67, 0.3), 0px 1px 3px 1px rgba(60, 64, 67, 0.15);\n",
              "      fill: #174EA6;\n",
              "    }\n",
              "\n",
              "    [theme=dark] .colab-df-convert {\n",
              "      background-color: #3B4455;\n",
              "      fill: #D2E3FC;\n",
              "    }\n",
              "\n",
              "    [theme=dark] .colab-df-convert:hover {\n",
              "      background-color: #434B5C;\n",
              "      box-shadow: 0px 1px 3px 1px rgba(0, 0, 0, 0.15);\n",
              "      filter: drop-shadow(0px 1px 2px rgba(0, 0, 0, 0.3));\n",
              "      fill: #FFFFFF;\n",
              "    }\n",
              "  </style>\n",
              "\n",
              "      <script>\n",
              "        const buttonEl =\n",
              "          document.querySelector('#df-c58cadec-7152-4849-afe5-969a276bc7c0 button.colab-df-convert');\n",
              "        buttonEl.style.display =\n",
              "          google.colab.kernel.accessAllowed ? 'block' : 'none';\n",
              "\n",
              "        async function convertToInteractive(key) {\n",
              "          const element = document.querySelector('#df-c58cadec-7152-4849-afe5-969a276bc7c0');\n",
              "          const dataTable =\n",
              "            await google.colab.kernel.invokeFunction('convertToInteractive',\n",
              "                                                     [key], {});\n",
              "          if (!dataTable) return;\n",
              "\n",
              "          const docLinkHtml = 'Like what you see? Visit the ' +\n",
              "            '<a target=\"_blank\" href=https://colab.research.google.com/notebooks/data_table.ipynb>data table notebook</a>'\n",
              "            + ' to learn more about interactive tables.';\n",
              "          element.innerHTML = '';\n",
              "          dataTable['output_type'] = 'display_data';\n",
              "          await google.colab.output.renderOutput(dataTable, element);\n",
              "          const docLink = document.createElement('div');\n",
              "          docLink.innerHTML = docLinkHtml;\n",
              "          element.appendChild(docLink);\n",
              "        }\n",
              "      </script>\n",
              "    </div>\n",
              "  </div>\n",
              "  "
            ]
          },
          "metadata": {},
          "execution_count": 39
        }
      ]
    },
    {
      "cell_type": "code",
      "source": [
        "datadf = pd.merge(merged_data_df2, citydata)"
      ],
      "metadata": {
        "id": "FRfI8-ugrdzH"
      },
      "execution_count": 40,
      "outputs": []
    },
    {
      "cell_type": "code",
      "source": [
        "datadf"
      ],
      "metadata": {
        "colab": {
          "base_uri": "https://localhost:8080/",
          "height": 661
        },
        "id": "KiQRtuVuFDgo",
        "outputId": "b4cc6156-3950-41d8-e08b-84245bfabbdf"
      },
      "execution_count": 41,
      "outputs": [
        {
          "output_type": "execute_result",
          "data": {
            "text/plain": [
              "        Transaction_ID  Date_of_Travel     Company           City  \\\n",
              "0             10000011          2016.0    Pink Cab     ATLANTA GA   \n",
              "1             10351127          2018.0  Yellow Cab     ATLANTA GA   \n",
              "2             10412921          2018.0  Yellow Cab     ATLANTA GA   \n",
              "3             10000012          2016.0    Pink Cab     ATLANTA GA   \n",
              "4             10320494          2018.0  Yellow Cab     ATLANTA GA   \n",
              "...                ...             ...         ...            ...   \n",
              "359387        10307228          2018.0  Yellow Cab  WASHINGTON DC   \n",
              "359388        10319775          2018.0  Yellow Cab  WASHINGTON DC   \n",
              "359389        10347676          2018.0  Yellow Cab  WASHINGTON DC   \n",
              "359390        10358624          2018.0  Yellow Cab  WASHINGTON DC   \n",
              "359391        10370709          2018.0  Yellow Cab  WASHINGTON DC   \n",
              "\n",
              "        KM_Travelled  Price_Charged  Cost_of_Trip  month  Customer_ID  \\\n",
              "0              30.45         370.95      313.6350    1.0        29290   \n",
              "1              26.19         598.70      317.4228    7.0        29290   \n",
              "2              42.55         792.05      597.4020   11.0        29290   \n",
              "3              28.62         358.52      334.8540    1.0        27703   \n",
              "4              36.38         721.10      467.1192    4.0        27703   \n",
              "...              ...            ...           ...    ...          ...   \n",
              "359387         38.40         668.93      525.3120    3.0        51406   \n",
              "359388          3.57          67.60       44.5536    4.0        51406   \n",
              "359389         23.46         331.97      337.8240    7.0        51406   \n",
              "359390         27.60         358.23      364.3200    8.0        51406   \n",
              "359391         34.24         453.11      427.3152    8.0        51406   \n",
              "\n",
              "       Payment_Mode    Profit  Gender  Age  Income  Population   Users  \n",
              "0              Card   57.3150    Male   28   10813      814885   24701  \n",
              "1              Cash  281.2772    Male   28   10813      814885   24701  \n",
              "2              Card  194.6480    Male   28   10813      814885   24701  \n",
              "3              Card   23.6660    Male   27    9237      814885   24701  \n",
              "4              Card  253.9808    Male   27    9237      814885   24701  \n",
              "...             ...       ...     ...  ...     ...         ...     ...  \n",
              "359387         Cash  143.6180  Female   29    6829      418859  127001  \n",
              "359388         Cash   23.0464  Female   29    6829      418859  127001  \n",
              "359389         Card   -5.8540  Female   29    6829      418859  127001  \n",
              "359390         Cash   -6.0900  Female   29    6829      418859  127001  \n",
              "359391         Card   25.7948  Female   29    6829      418859  127001  \n",
              "\n",
              "[359392 rows x 16 columns]"
            ],
            "text/html": [
              "\n",
              "  <div id=\"df-7a2a9121-d68a-4c10-a2d0-d6135520b724\">\n",
              "    <div class=\"colab-df-container\">\n",
              "      <div>\n",
              "<style scoped>\n",
              "    .dataframe tbody tr th:only-of-type {\n",
              "        vertical-align: middle;\n",
              "    }\n",
              "\n",
              "    .dataframe tbody tr th {\n",
              "        vertical-align: top;\n",
              "    }\n",
              "\n",
              "    .dataframe thead th {\n",
              "        text-align: right;\n",
              "    }\n",
              "</style>\n",
              "<table border=\"1\" class=\"dataframe\">\n",
              "  <thead>\n",
              "    <tr style=\"text-align: right;\">\n",
              "      <th></th>\n",
              "      <th>Transaction_ID</th>\n",
              "      <th>Date_of_Travel</th>\n",
              "      <th>Company</th>\n",
              "      <th>City</th>\n",
              "      <th>KM_Travelled</th>\n",
              "      <th>Price_Charged</th>\n",
              "      <th>Cost_of_Trip</th>\n",
              "      <th>month</th>\n",
              "      <th>Customer_ID</th>\n",
              "      <th>Payment_Mode</th>\n",
              "      <th>Profit</th>\n",
              "      <th>Gender</th>\n",
              "      <th>Age</th>\n",
              "      <th>Income</th>\n",
              "      <th>Population</th>\n",
              "      <th>Users</th>\n",
              "    </tr>\n",
              "  </thead>\n",
              "  <tbody>\n",
              "    <tr>\n",
              "      <th>0</th>\n",
              "      <td>10000011</td>\n",
              "      <td>2016.0</td>\n",
              "      <td>Pink Cab</td>\n",
              "      <td>ATLANTA GA</td>\n",
              "      <td>30.45</td>\n",
              "      <td>370.95</td>\n",
              "      <td>313.6350</td>\n",
              "      <td>1.0</td>\n",
              "      <td>29290</td>\n",
              "      <td>Card</td>\n",
              "      <td>57.3150</td>\n",
              "      <td>Male</td>\n",
              "      <td>28</td>\n",
              "      <td>10813</td>\n",
              "      <td>814885</td>\n",
              "      <td>24701</td>\n",
              "    </tr>\n",
              "    <tr>\n",
              "      <th>1</th>\n",
              "      <td>10351127</td>\n",
              "      <td>2018.0</td>\n",
              "      <td>Yellow Cab</td>\n",
              "      <td>ATLANTA GA</td>\n",
              "      <td>26.19</td>\n",
              "      <td>598.70</td>\n",
              "      <td>317.4228</td>\n",
              "      <td>7.0</td>\n",
              "      <td>29290</td>\n",
              "      <td>Cash</td>\n",
              "      <td>281.2772</td>\n",
              "      <td>Male</td>\n",
              "      <td>28</td>\n",
              "      <td>10813</td>\n",
              "      <td>814885</td>\n",
              "      <td>24701</td>\n",
              "    </tr>\n",
              "    <tr>\n",
              "      <th>2</th>\n",
              "      <td>10412921</td>\n",
              "      <td>2018.0</td>\n",
              "      <td>Yellow Cab</td>\n",
              "      <td>ATLANTA GA</td>\n",
              "      <td>42.55</td>\n",
              "      <td>792.05</td>\n",
              "      <td>597.4020</td>\n",
              "      <td>11.0</td>\n",
              "      <td>29290</td>\n",
              "      <td>Card</td>\n",
              "      <td>194.6480</td>\n",
              "      <td>Male</td>\n",
              "      <td>28</td>\n",
              "      <td>10813</td>\n",
              "      <td>814885</td>\n",
              "      <td>24701</td>\n",
              "    </tr>\n",
              "    <tr>\n",
              "      <th>3</th>\n",
              "      <td>10000012</td>\n",
              "      <td>2016.0</td>\n",
              "      <td>Pink Cab</td>\n",
              "      <td>ATLANTA GA</td>\n",
              "      <td>28.62</td>\n",
              "      <td>358.52</td>\n",
              "      <td>334.8540</td>\n",
              "      <td>1.0</td>\n",
              "      <td>27703</td>\n",
              "      <td>Card</td>\n",
              "      <td>23.6660</td>\n",
              "      <td>Male</td>\n",
              "      <td>27</td>\n",
              "      <td>9237</td>\n",
              "      <td>814885</td>\n",
              "      <td>24701</td>\n",
              "    </tr>\n",
              "    <tr>\n",
              "      <th>4</th>\n",
              "      <td>10320494</td>\n",
              "      <td>2018.0</td>\n",
              "      <td>Yellow Cab</td>\n",
              "      <td>ATLANTA GA</td>\n",
              "      <td>36.38</td>\n",
              "      <td>721.10</td>\n",
              "      <td>467.1192</td>\n",
              "      <td>4.0</td>\n",
              "      <td>27703</td>\n",
              "      <td>Card</td>\n",
              "      <td>253.9808</td>\n",
              "      <td>Male</td>\n",
              "      <td>27</td>\n",
              "      <td>9237</td>\n",
              "      <td>814885</td>\n",
              "      <td>24701</td>\n",
              "    </tr>\n",
              "    <tr>\n",
              "      <th>...</th>\n",
              "      <td>...</td>\n",
              "      <td>...</td>\n",
              "      <td>...</td>\n",
              "      <td>...</td>\n",
              "      <td>...</td>\n",
              "      <td>...</td>\n",
              "      <td>...</td>\n",
              "      <td>...</td>\n",
              "      <td>...</td>\n",
              "      <td>...</td>\n",
              "      <td>...</td>\n",
              "      <td>...</td>\n",
              "      <td>...</td>\n",
              "      <td>...</td>\n",
              "      <td>...</td>\n",
              "      <td>...</td>\n",
              "    </tr>\n",
              "    <tr>\n",
              "      <th>359387</th>\n",
              "      <td>10307228</td>\n",
              "      <td>2018.0</td>\n",
              "      <td>Yellow Cab</td>\n",
              "      <td>WASHINGTON DC</td>\n",
              "      <td>38.40</td>\n",
              "      <td>668.93</td>\n",
              "      <td>525.3120</td>\n",
              "      <td>3.0</td>\n",
              "      <td>51406</td>\n",
              "      <td>Cash</td>\n",
              "      <td>143.6180</td>\n",
              "      <td>Female</td>\n",
              "      <td>29</td>\n",
              "      <td>6829</td>\n",
              "      <td>418859</td>\n",
              "      <td>127001</td>\n",
              "    </tr>\n",
              "    <tr>\n",
              "      <th>359388</th>\n",
              "      <td>10319775</td>\n",
              "      <td>2018.0</td>\n",
              "      <td>Yellow Cab</td>\n",
              "      <td>WASHINGTON DC</td>\n",
              "      <td>3.57</td>\n",
              "      <td>67.60</td>\n",
              "      <td>44.5536</td>\n",
              "      <td>4.0</td>\n",
              "      <td>51406</td>\n",
              "      <td>Cash</td>\n",
              "      <td>23.0464</td>\n",
              "      <td>Female</td>\n",
              "      <td>29</td>\n",
              "      <td>6829</td>\n",
              "      <td>418859</td>\n",
              "      <td>127001</td>\n",
              "    </tr>\n",
              "    <tr>\n",
              "      <th>359389</th>\n",
              "      <td>10347676</td>\n",
              "      <td>2018.0</td>\n",
              "      <td>Yellow Cab</td>\n",
              "      <td>WASHINGTON DC</td>\n",
              "      <td>23.46</td>\n",
              "      <td>331.97</td>\n",
              "      <td>337.8240</td>\n",
              "      <td>7.0</td>\n",
              "      <td>51406</td>\n",
              "      <td>Card</td>\n",
              "      <td>-5.8540</td>\n",
              "      <td>Female</td>\n",
              "      <td>29</td>\n",
              "      <td>6829</td>\n",
              "      <td>418859</td>\n",
              "      <td>127001</td>\n",
              "    </tr>\n",
              "    <tr>\n",
              "      <th>359390</th>\n",
              "      <td>10358624</td>\n",
              "      <td>2018.0</td>\n",
              "      <td>Yellow Cab</td>\n",
              "      <td>WASHINGTON DC</td>\n",
              "      <td>27.60</td>\n",
              "      <td>358.23</td>\n",
              "      <td>364.3200</td>\n",
              "      <td>8.0</td>\n",
              "      <td>51406</td>\n",
              "      <td>Cash</td>\n",
              "      <td>-6.0900</td>\n",
              "      <td>Female</td>\n",
              "      <td>29</td>\n",
              "      <td>6829</td>\n",
              "      <td>418859</td>\n",
              "      <td>127001</td>\n",
              "    </tr>\n",
              "    <tr>\n",
              "      <th>359391</th>\n",
              "      <td>10370709</td>\n",
              "      <td>2018.0</td>\n",
              "      <td>Yellow Cab</td>\n",
              "      <td>WASHINGTON DC</td>\n",
              "      <td>34.24</td>\n",
              "      <td>453.11</td>\n",
              "      <td>427.3152</td>\n",
              "      <td>8.0</td>\n",
              "      <td>51406</td>\n",
              "      <td>Card</td>\n",
              "      <td>25.7948</td>\n",
              "      <td>Female</td>\n",
              "      <td>29</td>\n",
              "      <td>6829</td>\n",
              "      <td>418859</td>\n",
              "      <td>127001</td>\n",
              "    </tr>\n",
              "  </tbody>\n",
              "</table>\n",
              "<p>359392 rows × 16 columns</p>\n",
              "</div>\n",
              "      <button class=\"colab-df-convert\" onclick=\"convertToInteractive('df-7a2a9121-d68a-4c10-a2d0-d6135520b724')\"\n",
              "              title=\"Convert this dataframe to an interactive table.\"\n",
              "              style=\"display:none;\">\n",
              "        \n",
              "  <svg xmlns=\"http://www.w3.org/2000/svg\" height=\"24px\"viewBox=\"0 0 24 24\"\n",
              "       width=\"24px\">\n",
              "    <path d=\"M0 0h24v24H0V0z\" fill=\"none\"/>\n",
              "    <path d=\"M18.56 5.44l.94 2.06.94-2.06 2.06-.94-2.06-.94-.94-2.06-.94 2.06-2.06.94zm-11 1L8.5 8.5l.94-2.06 2.06-.94-2.06-.94L8.5 2.5l-.94 2.06-2.06.94zm10 10l.94 2.06.94-2.06 2.06-.94-2.06-.94-.94-2.06-.94 2.06-2.06.94z\"/><path d=\"M17.41 7.96l-1.37-1.37c-.4-.4-.92-.59-1.43-.59-.52 0-1.04.2-1.43.59L10.3 9.45l-7.72 7.72c-.78.78-.78 2.05 0 2.83L4 21.41c.39.39.9.59 1.41.59.51 0 1.02-.2 1.41-.59l7.78-7.78 2.81-2.81c.8-.78.8-2.07 0-2.86zM5.41 20L4 18.59l7.72-7.72 1.47 1.35L5.41 20z\"/>\n",
              "  </svg>\n",
              "      </button>\n",
              "      \n",
              "  <style>\n",
              "    .colab-df-container {\n",
              "      display:flex;\n",
              "      flex-wrap:wrap;\n",
              "      gap: 12px;\n",
              "    }\n",
              "\n",
              "    .colab-df-convert {\n",
              "      background-color: #E8F0FE;\n",
              "      border: none;\n",
              "      border-radius: 50%;\n",
              "      cursor: pointer;\n",
              "      display: none;\n",
              "      fill: #1967D2;\n",
              "      height: 32px;\n",
              "      padding: 0 0 0 0;\n",
              "      width: 32px;\n",
              "    }\n",
              "\n",
              "    .colab-df-convert:hover {\n",
              "      background-color: #E2EBFA;\n",
              "      box-shadow: 0px 1px 2px rgba(60, 64, 67, 0.3), 0px 1px 3px 1px rgba(60, 64, 67, 0.15);\n",
              "      fill: #174EA6;\n",
              "    }\n",
              "\n",
              "    [theme=dark] .colab-df-convert {\n",
              "      background-color: #3B4455;\n",
              "      fill: #D2E3FC;\n",
              "    }\n",
              "\n",
              "    [theme=dark] .colab-df-convert:hover {\n",
              "      background-color: #434B5C;\n",
              "      box-shadow: 0px 1px 3px 1px rgba(0, 0, 0, 0.15);\n",
              "      filter: drop-shadow(0px 1px 2px rgba(0, 0, 0, 0.3));\n",
              "      fill: #FFFFFF;\n",
              "    }\n",
              "  </style>\n",
              "\n",
              "      <script>\n",
              "        const buttonEl =\n",
              "          document.querySelector('#df-7a2a9121-d68a-4c10-a2d0-d6135520b724 button.colab-df-convert');\n",
              "        buttonEl.style.display =\n",
              "          google.colab.kernel.accessAllowed ? 'block' : 'none';\n",
              "\n",
              "        async function convertToInteractive(key) {\n",
              "          const element = document.querySelector('#df-7a2a9121-d68a-4c10-a2d0-d6135520b724');\n",
              "          const dataTable =\n",
              "            await google.colab.kernel.invokeFunction('convertToInteractive',\n",
              "                                                     [key], {});\n",
              "          if (!dataTable) return;\n",
              "\n",
              "          const docLinkHtml = 'Like what you see? Visit the ' +\n",
              "            '<a target=\"_blank\" href=https://colab.research.google.com/notebooks/data_table.ipynb>data table notebook</a>'\n",
              "            + ' to learn more about interactive tables.';\n",
              "          element.innerHTML = '';\n",
              "          dataTable['output_type'] = 'display_data';\n",
              "          await google.colab.output.renderOutput(dataTable, element);\n",
              "          const docLink = document.createElement('div');\n",
              "          docLink.innerHTML = docLinkHtml;\n",
              "          element.appendChild(docLink);\n",
              "        }\n",
              "      </script>\n",
              "    </div>\n",
              "  </div>\n",
              "  "
            ]
          },
          "metadata": {},
          "execution_count": 41
        }
      ]
    },
    {
      "cell_type": "code",
      "source": [
        "datadf.isnull().sum()"
      ],
      "metadata": {
        "id": "t5nIdwZ5r3vR",
        "colab": {
          "base_uri": "https://localhost:8080/"
        },
        "outputId": "4be438df-75cb-4ad3-a480-93f21b04f1ff"
      },
      "execution_count": 42,
      "outputs": [
        {
          "output_type": "execute_result",
          "data": {
            "text/plain": [
              "Transaction_ID    0\n",
              "Date_of_Travel    0\n",
              "Company           0\n",
              "City              0\n",
              "KM_Travelled      0\n",
              "Price_Charged     0\n",
              "Cost_of_Trip      0\n",
              "month             0\n",
              "Customer_ID       0\n",
              "Payment_Mode      0\n",
              "Profit            0\n",
              "Gender            0\n",
              "Age               0\n",
              "Income            0\n",
              "Population        0\n",
              "Users             0\n",
              "dtype: int64"
            ]
          },
          "metadata": {},
          "execution_count": 42
        }
      ]
    },
    {
      "cell_type": "code",
      "source": [
        "datadf.duplicated().sum()"
      ],
      "metadata": {
        "id": "qUfNajKOs7Cs",
        "colab": {
          "base_uri": "https://localhost:8080/"
        },
        "outputId": "1331d2bc-9daf-44ba-fea5-8dc5e5c7a565"
      },
      "execution_count": 43,
      "outputs": [
        {
          "output_type": "execute_result",
          "data": {
            "text/plain": [
              "0"
            ]
          },
          "metadata": {},
          "execution_count": 43
        }
      ]
    },
    {
      "cell_type": "code",
      "source": [
        "datadf.describe()"
      ],
      "metadata": {
        "colab": {
          "base_uri": "https://localhost:8080/",
          "height": 364
        },
        "id": "Xs6rV7OutGYN",
        "outputId": "16eeb949-25d4-4653-b316-f4436281e93e"
      },
      "execution_count": 44,
      "outputs": [
        {
          "output_type": "execute_result",
          "data": {
            "text/plain": [
              "       Transaction_ID  Date_of_Travel   KM_Travelled  Price_Charged  \\\n",
              "count    3.593920e+05   359392.000000  359392.000000  359392.000000   \n",
              "mean     1.022076e+07     2017.045199      22.567254     423.443311   \n",
              "std      1.268058e+05        0.800239      12.233526     274.378911   \n",
              "min      1.000001e+07     2016.000000       1.900000      15.600000   \n",
              "25%      1.011081e+07     2016.000000      12.000000     206.437500   \n",
              "50%      1.022104e+07     2017.000000      22.440000     386.360000   \n",
              "75%      1.033094e+07     2018.000000      32.960000     583.660000   \n",
              "max      1.044011e+07     2018.000000      48.000000    2048.030000   \n",
              "\n",
              "        Cost_of_Trip          month    Customer_ID         Profit  \\\n",
              "count  359392.000000  359392.000000  359392.000000  359392.000000   \n",
              "mean      286.190113       7.500434   19191.652115     137.253198   \n",
              "std       157.993661       3.445095   21012.412463     160.311840   \n",
              "min        19.000000       1.000000       1.000000    -220.060000   \n",
              "25%       151.200000       5.000000    2705.000000      28.012000   \n",
              "50%       282.480000       8.000000    7459.000000      81.962000   \n",
              "75%       413.683200      10.000000   36078.000000     190.030000   \n",
              "max       691.200000      12.000000   60000.000000    1463.966000   \n",
              "\n",
              "                 Age         Income    Population          Users  \n",
              "count  359392.000000  359392.000000  3.593920e+05  359392.000000  \n",
              "mean       35.336705   15048.822937  3.132198e+06  158365.582267  \n",
              "std        12.594234    7969.409482  3.315194e+06  100850.051020  \n",
              "min        18.000000    2000.000000  2.489680e+05    3643.000000  \n",
              "25%        25.000000    8424.000000  6.712380e+05   80021.000000  \n",
              "50%        33.000000   14685.000000  1.595037e+06  144132.000000  \n",
              "75%        42.000000   21035.000000  8.405837e+06  302149.000000  \n",
              "max        65.000000   35000.000000  8.405837e+06  302149.000000  "
            ],
            "text/html": [
              "\n",
              "  <div id=\"df-663046b5-2d22-4b34-910e-a3a8070f58e6\">\n",
              "    <div class=\"colab-df-container\">\n",
              "      <div>\n",
              "<style scoped>\n",
              "    .dataframe tbody tr th:only-of-type {\n",
              "        vertical-align: middle;\n",
              "    }\n",
              "\n",
              "    .dataframe tbody tr th {\n",
              "        vertical-align: top;\n",
              "    }\n",
              "\n",
              "    .dataframe thead th {\n",
              "        text-align: right;\n",
              "    }\n",
              "</style>\n",
              "<table border=\"1\" class=\"dataframe\">\n",
              "  <thead>\n",
              "    <tr style=\"text-align: right;\">\n",
              "      <th></th>\n",
              "      <th>Transaction_ID</th>\n",
              "      <th>Date_of_Travel</th>\n",
              "      <th>KM_Travelled</th>\n",
              "      <th>Price_Charged</th>\n",
              "      <th>Cost_of_Trip</th>\n",
              "      <th>month</th>\n",
              "      <th>Customer_ID</th>\n",
              "      <th>Profit</th>\n",
              "      <th>Age</th>\n",
              "      <th>Income</th>\n",
              "      <th>Population</th>\n",
              "      <th>Users</th>\n",
              "    </tr>\n",
              "  </thead>\n",
              "  <tbody>\n",
              "    <tr>\n",
              "      <th>count</th>\n",
              "      <td>3.593920e+05</td>\n",
              "      <td>359392.000000</td>\n",
              "      <td>359392.000000</td>\n",
              "      <td>359392.000000</td>\n",
              "      <td>359392.000000</td>\n",
              "      <td>359392.000000</td>\n",
              "      <td>359392.000000</td>\n",
              "      <td>359392.000000</td>\n",
              "      <td>359392.000000</td>\n",
              "      <td>359392.000000</td>\n",
              "      <td>3.593920e+05</td>\n",
              "      <td>359392.000000</td>\n",
              "    </tr>\n",
              "    <tr>\n",
              "      <th>mean</th>\n",
              "      <td>1.022076e+07</td>\n",
              "      <td>2017.045199</td>\n",
              "      <td>22.567254</td>\n",
              "      <td>423.443311</td>\n",
              "      <td>286.190113</td>\n",
              "      <td>7.500434</td>\n",
              "      <td>19191.652115</td>\n",
              "      <td>137.253198</td>\n",
              "      <td>35.336705</td>\n",
              "      <td>15048.822937</td>\n",
              "      <td>3.132198e+06</td>\n",
              "      <td>158365.582267</td>\n",
              "    </tr>\n",
              "    <tr>\n",
              "      <th>std</th>\n",
              "      <td>1.268058e+05</td>\n",
              "      <td>0.800239</td>\n",
              "      <td>12.233526</td>\n",
              "      <td>274.378911</td>\n",
              "      <td>157.993661</td>\n",
              "      <td>3.445095</td>\n",
              "      <td>21012.412463</td>\n",
              "      <td>160.311840</td>\n",
              "      <td>12.594234</td>\n",
              "      <td>7969.409482</td>\n",
              "      <td>3.315194e+06</td>\n",
              "      <td>100850.051020</td>\n",
              "    </tr>\n",
              "    <tr>\n",
              "      <th>min</th>\n",
              "      <td>1.000001e+07</td>\n",
              "      <td>2016.000000</td>\n",
              "      <td>1.900000</td>\n",
              "      <td>15.600000</td>\n",
              "      <td>19.000000</td>\n",
              "      <td>1.000000</td>\n",
              "      <td>1.000000</td>\n",
              "      <td>-220.060000</td>\n",
              "      <td>18.000000</td>\n",
              "      <td>2000.000000</td>\n",
              "      <td>2.489680e+05</td>\n",
              "      <td>3643.000000</td>\n",
              "    </tr>\n",
              "    <tr>\n",
              "      <th>25%</th>\n",
              "      <td>1.011081e+07</td>\n",
              "      <td>2016.000000</td>\n",
              "      <td>12.000000</td>\n",
              "      <td>206.437500</td>\n",
              "      <td>151.200000</td>\n",
              "      <td>5.000000</td>\n",
              "      <td>2705.000000</td>\n",
              "      <td>28.012000</td>\n",
              "      <td>25.000000</td>\n",
              "      <td>8424.000000</td>\n",
              "      <td>6.712380e+05</td>\n",
              "      <td>80021.000000</td>\n",
              "    </tr>\n",
              "    <tr>\n",
              "      <th>50%</th>\n",
              "      <td>1.022104e+07</td>\n",
              "      <td>2017.000000</td>\n",
              "      <td>22.440000</td>\n",
              "      <td>386.360000</td>\n",
              "      <td>282.480000</td>\n",
              "      <td>8.000000</td>\n",
              "      <td>7459.000000</td>\n",
              "      <td>81.962000</td>\n",
              "      <td>33.000000</td>\n",
              "      <td>14685.000000</td>\n",
              "      <td>1.595037e+06</td>\n",
              "      <td>144132.000000</td>\n",
              "    </tr>\n",
              "    <tr>\n",
              "      <th>75%</th>\n",
              "      <td>1.033094e+07</td>\n",
              "      <td>2018.000000</td>\n",
              "      <td>32.960000</td>\n",
              "      <td>583.660000</td>\n",
              "      <td>413.683200</td>\n",
              "      <td>10.000000</td>\n",
              "      <td>36078.000000</td>\n",
              "      <td>190.030000</td>\n",
              "      <td>42.000000</td>\n",
              "      <td>21035.000000</td>\n",
              "      <td>8.405837e+06</td>\n",
              "      <td>302149.000000</td>\n",
              "    </tr>\n",
              "    <tr>\n",
              "      <th>max</th>\n",
              "      <td>1.044011e+07</td>\n",
              "      <td>2018.000000</td>\n",
              "      <td>48.000000</td>\n",
              "      <td>2048.030000</td>\n",
              "      <td>691.200000</td>\n",
              "      <td>12.000000</td>\n",
              "      <td>60000.000000</td>\n",
              "      <td>1463.966000</td>\n",
              "      <td>65.000000</td>\n",
              "      <td>35000.000000</td>\n",
              "      <td>8.405837e+06</td>\n",
              "      <td>302149.000000</td>\n",
              "    </tr>\n",
              "  </tbody>\n",
              "</table>\n",
              "</div>\n",
              "      <button class=\"colab-df-convert\" onclick=\"convertToInteractive('df-663046b5-2d22-4b34-910e-a3a8070f58e6')\"\n",
              "              title=\"Convert this dataframe to an interactive table.\"\n",
              "              style=\"display:none;\">\n",
              "        \n",
              "  <svg xmlns=\"http://www.w3.org/2000/svg\" height=\"24px\"viewBox=\"0 0 24 24\"\n",
              "       width=\"24px\">\n",
              "    <path d=\"M0 0h24v24H0V0z\" fill=\"none\"/>\n",
              "    <path d=\"M18.56 5.44l.94 2.06.94-2.06 2.06-.94-2.06-.94-.94-2.06-.94 2.06-2.06.94zm-11 1L8.5 8.5l.94-2.06 2.06-.94-2.06-.94L8.5 2.5l-.94 2.06-2.06.94zm10 10l.94 2.06.94-2.06 2.06-.94-2.06-.94-.94-2.06-.94 2.06-2.06.94z\"/><path d=\"M17.41 7.96l-1.37-1.37c-.4-.4-.92-.59-1.43-.59-.52 0-1.04.2-1.43.59L10.3 9.45l-7.72 7.72c-.78.78-.78 2.05 0 2.83L4 21.41c.39.39.9.59 1.41.59.51 0 1.02-.2 1.41-.59l7.78-7.78 2.81-2.81c.8-.78.8-2.07 0-2.86zM5.41 20L4 18.59l7.72-7.72 1.47 1.35L5.41 20z\"/>\n",
              "  </svg>\n",
              "      </button>\n",
              "      \n",
              "  <style>\n",
              "    .colab-df-container {\n",
              "      display:flex;\n",
              "      flex-wrap:wrap;\n",
              "      gap: 12px;\n",
              "    }\n",
              "\n",
              "    .colab-df-convert {\n",
              "      background-color: #E8F0FE;\n",
              "      border: none;\n",
              "      border-radius: 50%;\n",
              "      cursor: pointer;\n",
              "      display: none;\n",
              "      fill: #1967D2;\n",
              "      height: 32px;\n",
              "      padding: 0 0 0 0;\n",
              "      width: 32px;\n",
              "    }\n",
              "\n",
              "    .colab-df-convert:hover {\n",
              "      background-color: #E2EBFA;\n",
              "      box-shadow: 0px 1px 2px rgba(60, 64, 67, 0.3), 0px 1px 3px 1px rgba(60, 64, 67, 0.15);\n",
              "      fill: #174EA6;\n",
              "    }\n",
              "\n",
              "    [theme=dark] .colab-df-convert {\n",
              "      background-color: #3B4455;\n",
              "      fill: #D2E3FC;\n",
              "    }\n",
              "\n",
              "    [theme=dark] .colab-df-convert:hover {\n",
              "      background-color: #434B5C;\n",
              "      box-shadow: 0px 1px 3px 1px rgba(0, 0, 0, 0.15);\n",
              "      filter: drop-shadow(0px 1px 2px rgba(0, 0, 0, 0.3));\n",
              "      fill: #FFFFFF;\n",
              "    }\n",
              "  </style>\n",
              "\n",
              "      <script>\n",
              "        const buttonEl =\n",
              "          document.querySelector('#df-663046b5-2d22-4b34-910e-a3a8070f58e6 button.colab-df-convert');\n",
              "        buttonEl.style.display =\n",
              "          google.colab.kernel.accessAllowed ? 'block' : 'none';\n",
              "\n",
              "        async function convertToInteractive(key) {\n",
              "          const element = document.querySelector('#df-663046b5-2d22-4b34-910e-a3a8070f58e6');\n",
              "          const dataTable =\n",
              "            await google.colab.kernel.invokeFunction('convertToInteractive',\n",
              "                                                     [key], {});\n",
              "          if (!dataTable) return;\n",
              "\n",
              "          const docLinkHtml = 'Like what you see? Visit the ' +\n",
              "            '<a target=\"_blank\" href=https://colab.research.google.com/notebooks/data_table.ipynb>data table notebook</a>'\n",
              "            + ' to learn more about interactive tables.';\n",
              "          element.innerHTML = '';\n",
              "          dataTable['output_type'] = 'display_data';\n",
              "          await google.colab.output.renderOutput(dataTable, element);\n",
              "          const docLink = document.createElement('div');\n",
              "          docLink.innerHTML = docLinkHtml;\n",
              "          element.appendChild(docLink);\n",
              "        }\n",
              "      </script>\n",
              "    </div>\n",
              "  </div>\n",
              "  "
            ]
          },
          "metadata": {},
          "execution_count": 44
        }
      ]
    },
    {
      "cell_type": "code",
      "source": [
        "datadf.shape"
      ],
      "metadata": {
        "colab": {
          "base_uri": "https://localhost:8080/"
        },
        "id": "69OWXbxFtMlG",
        "outputId": "4b527903-5142-4b4e-9af2-c02585aae3d4"
      },
      "execution_count": 45,
      "outputs": [
        {
          "output_type": "execute_result",
          "data": {
            "text/plain": [
              "(359392, 16)"
            ]
          },
          "metadata": {},
          "execution_count": 45
        }
      ]
    },
    {
      "cell_type": "code",
      "source": [
        "datadf.columns"
      ],
      "metadata": {
        "id": "gZEDmJnTuhvD",
        "colab": {
          "base_uri": "https://localhost:8080/"
        },
        "outputId": "b5702cc6-fd5a-4534-c163-0b777f917fee"
      },
      "execution_count": 46,
      "outputs": [
        {
          "output_type": "execute_result",
          "data": {
            "text/plain": [
              "Index(['Transaction_ID', 'Date_of_Travel', 'Company', 'City', 'KM_Travelled',\n",
              "       'Price_Charged', 'Cost_of_Trip', 'month', 'Customer_ID', 'Payment_Mode',\n",
              "       'Profit', 'Gender', 'Age', 'Income', 'Population', 'Users'],\n",
              "      dtype='object')"
            ]
          },
          "metadata": {},
          "execution_count": 46
        }
      ]
    },
    {
      "cell_type": "code",
      "source": [
        "datadf['City'].value_counts()"
      ],
      "metadata": {
        "id": "a_3n9Ir-uz7-",
        "colab": {
          "base_uri": "https://localhost:8080/"
        },
        "outputId": "df9dae47-1d9b-4045-bf2e-6683aa4624ea"
      },
      "execution_count": 47,
      "outputs": [
        {
          "output_type": "execute_result",
          "data": {
            "text/plain": [
              "NEW YORK NY       99885\n",
              "CHICAGO IL        56625\n",
              "LOS ANGELES CA    48033\n",
              "WASHINGTON DC     43737\n",
              "BOSTON MA         29692\n",
              "SAN DIEGO CA      20488\n",
              "SILICON VALLEY     8519\n",
              "SEATTLE WA         7997\n",
              "ATLANTA GA         7557\n",
              "DALLAS TX          7017\n",
              "MIAMI FL           6454\n",
              "AUSTIN TX          4896\n",
              "ORANGE COUNTY      3982\n",
              "DENVER CO          3825\n",
              "NASHVILLE TN       3010\n",
              "SACRAMENTO CA      2367\n",
              "PHOENIX AZ         2064\n",
              "TUCSON AZ          1931\n",
              "PITTSBURGH PA      1313\n",
              "Name: City, dtype: int64"
            ]
          },
          "metadata": {},
          "execution_count": 47
        }
      ]
    },
    {
      "cell_type": "code",
      "source": [
        "datadf['Gender'].value_counts()"
      ],
      "metadata": {
        "colab": {
          "base_uri": "https://localhost:8080/"
        },
        "id": "-eryD9t0u2Ce",
        "outputId": "3267e762-df39-474b-d4bc-dde6b9976fe3"
      },
      "execution_count": 48,
      "outputs": [
        {
          "output_type": "execute_result",
          "data": {
            "text/plain": [
              "Male      205912\n",
              "Female    153480\n",
              "Name: Gender, dtype: int64"
            ]
          },
          "metadata": {},
          "execution_count": 48
        }
      ]
    },
    {
      "cell_type": "code",
      "source": [
        "datadf['Payment_Mode'].value_counts()"
      ],
      "metadata": {
        "colab": {
          "base_uri": "https://localhost:8080/"
        },
        "id": "dn0VDD_Au3ru",
        "outputId": "91f7b5f8-10a0-4c48-fdcf-aa2ac555c3bd"
      },
      "execution_count": 49,
      "outputs": [
        {
          "output_type": "execute_result",
          "data": {
            "text/plain": [
              "Card    215504\n",
              "Cash    143888\n",
              "Name: Payment_Mode, dtype: int64"
            ]
          },
          "metadata": {},
          "execution_count": 49
        }
      ]
    },
    {
      "cell_type": "code",
      "source": [
        "datadf.hist(figsize = (35,20))\n",
        "plt.show()\n",
        "#This shows the destribution of the data. None of the numeric variables are uniformly distributed. "
      ],
      "metadata": {
        "colab": {
          "base_uri": "https://localhost:8080/",
          "height": 801
        },
        "id": "x6sm65JOtwvN",
        "outputId": "35827569-2b8d-4a66-b800-e90bca0f0154"
      },
      "execution_count": 50,
      "outputs": [
        {
          "output_type": "display_data",
          "data": {
            "text/plain": [
              "<Figure size 2520x1440 with 12 Axes>"
            ],
            "image/png": "[encoded data removed]"
          },
          "metadata": {
            "needs_background": "light"
          }
        }
      ]
    },
    {
      "cell_type": "code",
      "source": [
        "datadf.columns"
      ],
      "metadata": {
        "colab": {
          "base_uri": "https://localhost:8080/"
        },
        "id": "bPcSRpPStW_h",
        "outputId": "96c95716-92aa-4990-8d36-74a498946adf"
      },
      "execution_count": 51,
      "outputs": [
        {
          "output_type": "execute_result",
          "data": {
            "text/plain": [
              "Index(['Transaction_ID', 'Date_of_Travel', 'Company', 'City', 'KM_Travelled',\n",
              "       'Price_Charged', 'Cost_of_Trip', 'month', 'Customer_ID', 'Payment_Mode',\n",
              "       'Profit', 'Gender', 'Age', 'Income', 'Population', 'Users'],\n",
              "      dtype='object')"
            ]
          },
          "metadata": {},
          "execution_count": 51
        }
      ]
    },
    {
      "cell_type": "code",
      "source": [
        "print(datadf.groupby('Company')['Profit'].mean())"
      ],
      "metadata": {
        "colab": {
          "base_uri": "https://localhost:8080/"
        },
        "id": "heVbLpGTeTpt",
        "outputId": "b46201cf-03b3-4fc5-a95d-93ce5de9761e"
      },
      "execution_count": 52,
      "outputs": [
        {
          "output_type": "stream",
          "name": "stdout",
          "text": [
            "Company\n",
            "Pink Cab       62.652174\n",
            "Yellow Cab    160.259986\n",
            "Name: Profit, dtype: float64\n"
          ]
        }
      ]
    },
    {
      "cell_type": "code",
      "source": [
        "datadf_numcol = datadf.select_dtypes(np.number).copy()\n",
        "datadf_numcol = datadf_numcol.drop(['Customer_ID', 'Transaction_ID'], axis = 1)"
      ],
      "metadata": {
        "id": "Yj9amIJNyMNy"
      },
      "execution_count": 53,
      "outputs": []
    },
    {
      "cell_type": "code",
      "source": [
        "coeff = datadf_numcol.corr()\n",
        "pval = datadf_numcol.corr(method=lambda x, y: pearsonr(x, y)[1]) - np.eye(*coeff.shape)\n",
        "p = pval.applymap(lambda x: ''.join(['*' for t in [0.01,0.05,0.1] if x<=t]))\n",
        "coeff.round(4).astype(str) + p\n",
        "#Source:https://stackoverflow.com/questions/25571882/pandas-columns-correlation-with-statistical-significance"
      ],
      "metadata": {
        "colab": {
          "base_uri": "https://localhost:8080/",
          "height": 363
        },
        "id": "EX6OHK6kjRPc",
        "outputId": "56ab364d-d0d2-45ad-d668-34ee3adc97f8"
      },
      "execution_count": 54,
      "outputs": [
        {
          "output_type": "execute_result",
          "data": {
            "text/plain": [
              "               Date_of_Travel KM_Travelled Price_Charged Cost_of_Trip  \\\n",
              "Date_of_Travel         1.0***      -0.0011    -0.0364***      -0.0018   \n",
              "KM_Travelled          -0.0011       1.0***     0.8358***    0.9818***   \n",
              "Price_Charged      -0.0364***    0.8358***        1.0***    0.8598***   \n",
              "Cost_of_Trip          -0.0018    0.9818***     0.8598***       1.0***   \n",
              "month              -0.0305***      -0.0019    -0.0611***   -0.0084***   \n",
              "Profit             -0.0606***    0.4628***     0.8642***    0.4861***   \n",
              "Age                   -0.0006      -0.0004      -0.0031*      -0.0002   \n",
              "Income                -0.0016      -0.0005       0.0032*      -0.0006   \n",
              "Population                0.0      -0.0023     0.3266***    0.0151***   \n",
              "Users                 -0.0008      -0.0004     0.2811***    0.0236***   \n",
              "\n",
              "                     month      Profit         Age     Income Population  \\\n",
              "Date_of_Travel  -0.0305***  -0.0606***     -0.0006    -0.0016        0.0   \n",
              "KM_Travelled       -0.0019   0.4628***     -0.0004    -0.0005    -0.0023   \n",
              "Price_Charged   -0.0611***   0.8642***    -0.0031*    0.0032*  0.3266***   \n",
              "Cost_of_Trip    -0.0084***   0.4861***     -0.0002    -0.0006  0.0151***   \n",
              "month               1.0***  -0.0964***     -0.0022     0.0003  0.0646***   \n",
              "Profit          -0.0964***      1.0***  -0.0051***  0.0061***  0.5441***   \n",
              "Age                -0.0022  -0.0051***      1.0***   0.0039**  -0.009***   \n",
              "Income              0.0003   0.0061***    0.0039**     1.0***  0.0119***   \n",
              "Population       0.0646***   0.5441***   -0.009***  0.0119***     1.0***   \n",
              "Users            0.0366***   0.4578***  -0.0059***  0.0105***  0.9155***   \n",
              "\n",
              "                     Users  \n",
              "Date_of_Travel     -0.0008  \n",
              "KM_Travelled       -0.0004  \n",
              "Price_Charged    0.2811***  \n",
              "Cost_of_Trip     0.0236***  \n",
              "month            0.0366***  \n",
              "Profit           0.4578***  \n",
              "Age             -0.0059***  \n",
              "Income           0.0105***  \n",
              "Population       0.9155***  \n",
              "Users               1.0***  "
            ],
            "text/html": [
              "\n",
              "  <div id=\"df-31da7169-f19f-43ea-912c-adf5c99609bd\">\n",
              "    <div class=\"colab-df-container\">\n",
              "      <div>\n",
              "<style scoped>\n",
              "    .dataframe tbody tr th:only-of-type {\n",
              "        vertical-align: middle;\n",
              "    }\n",
              "\n",
              "    .dataframe tbody tr th {\n",
              "        vertical-align: top;\n",
              "    }\n",
              "\n",
              "    .dataframe thead th {\n",
              "        text-align: right;\n",
              "    }\n",
              "</style>\n",
              "<table border=\"1\" class=\"dataframe\">\n",
              "  <thead>\n",
              "    <tr style=\"text-align: right;\">\n",
              "      <th></th>\n",
              "      <th>Date_of_Travel</th>\n",
              "      <th>KM_Travelled</th>\n",
              "      <th>Price_Charged</th>\n",
              "      <th>Cost_of_Trip</th>\n",
              "      <th>month</th>\n",
              "      <th>Profit</th>\n",
              "      <th>Age</th>\n",
              "      <th>Income</th>\n",
              "      <th>Population</th>\n",
              "      <th>Users</th>\n",
              "    </tr>\n",
              "  </thead>\n",
              "  <tbody>\n",
              "    <tr>\n",
              "      <th>Date_of_Travel</th>\n",
              "      <td>1.0***</td>\n",
              "      <td>-0.0011</td>\n",
              "      <td>-0.0364***</td>\n",
              "      <td>-0.0018</td>\n",
              "      <td>-0.0305***</td>\n",
              "      <td>-0.0606***</td>\n",
              "      <td>-0.0006</td>\n",
              "      <td>-0.0016</td>\n",
              "      <td>0.0</td>\n",
              "      <td>-0.0008</td>\n",
              "    </tr>\n",
              "    <tr>\n",
              "      <th>KM_Travelled</th>\n",
              "      <td>-0.0011</td>\n",
              "      <td>1.0***</td>\n",
              "      <td>0.8358***</td>\n",
              "      <td>0.9818***</td>\n",
              "      <td>-0.0019</td>\n",
              "      <td>0.4628***</td>\n",
              "      <td>-0.0004</td>\n",
              "      <td>-0.0005</td>\n",
              "      <td>-0.0023</td>\n",
              "      <td>-0.0004</td>\n",
              "    </tr>\n",
              "    <tr>\n",
              "      <th>Price_Charged</th>\n",
              "      <td>-0.0364***</td>\n",
              "      <td>0.8358***</td>\n",
              "      <td>1.0***</td>\n",
              "      <td>0.8598***</td>\n",
              "      <td>-0.0611***</td>\n",
              "      <td>0.8642***</td>\n",
              "      <td>-0.0031*</td>\n",
              "      <td>0.0032*</td>\n",
              "      <td>0.3266***</td>\n",
              "      <td>0.2811***</td>\n",
              "    </tr>\n",
              "    <tr>\n",
              "      <th>Cost_of_Trip</th>\n",
              "      <td>-0.0018</td>\n",
              "      <td>0.9818***</td>\n",
              "      <td>0.8598***</td>\n",
              "      <td>1.0***</td>\n",
              "      <td>-0.0084***</td>\n",
              "      <td>0.4861***</td>\n",
              "      <td>-0.0002</td>\n",
              "      <td>-0.0006</td>\n",
              "      <td>0.0151***</td>\n",
              "      <td>0.0236***</td>\n",
              "    </tr>\n",
              "    <tr>\n",
              "      <th>month</th>\n",
              "      <td>-0.0305***</td>\n",
              "      <td>-0.0019</td>\n",
              "      <td>-0.0611***</td>\n",
              "      <td>-0.0084***</td>\n",
              "      <td>1.0***</td>\n",
              "      <td>-0.0964***</td>\n",
              "      <td>-0.0022</td>\n",
              "      <td>0.0003</td>\n",
              "      <td>0.0646***</td>\n",
              "      <td>0.0366***</td>\n",
              "    </tr>\n",
              "    <tr>\n",
              "      <th>Profit</th>\n",
              "      <td>-0.0606***</td>\n",
              "      <td>0.4628***</td>\n",
              "      <td>0.8642***</td>\n",
              "      <td>0.4861***</td>\n",
              "      <td>-0.0964***</td>\n",
              "      <td>1.0***</td>\n",
              "      <td>-0.0051***</td>\n",
              "      <td>0.0061***</td>\n",
              "      <td>0.5441***</td>\n",
              "      <td>0.4578***</td>\n",
              "    </tr>\n",
              "    <tr>\n",
              "      <th>Age</th>\n",
              "      <td>-0.0006</td>\n",
              "      <td>-0.0004</td>\n",
              "      <td>-0.0031*</td>\n",
              "      <td>-0.0002</td>\n",
              "      <td>-0.0022</td>\n",
              "      <td>-0.0051***</td>\n",
              "      <td>1.0***</td>\n",
              "      <td>0.0039**</td>\n",
              "      <td>-0.009***</td>\n",
              "      <td>-0.0059***</td>\n",
              "    </tr>\n",
              "    <tr>\n",
              "      <th>Income</th>\n",
              "      <td>-0.0016</td>\n",
              "      <td>-0.0005</td>\n",
              "      <td>0.0032*</td>\n",
              "      <td>-0.0006</td>\n",
              "      <td>0.0003</td>\n",
              "      <td>0.0061***</td>\n",
              "      <td>0.0039**</td>\n",
              "      <td>1.0***</td>\n",
              "      <td>0.0119***</td>\n",
              "      <td>0.0105***</td>\n",
              "    </tr>\n",
              "    <tr>\n",
              "      <th>Population</th>\n",
              "      <td>0.0</td>\n",
              "      <td>-0.0023</td>\n",
              "      <td>0.3266***</td>\n",
              "      <td>0.0151***</td>\n",
              "      <td>0.0646***</td>\n",
              "      <td>0.5441***</td>\n",
              "      <td>-0.009***</td>\n",
              "      <td>0.0119***</td>\n",
              "      <td>1.0***</td>\n",
              "      <td>0.9155***</td>\n",
              "    </tr>\n",
              "    <tr>\n",
              "      <th>Users</th>\n",
              "      <td>-0.0008</td>\n",
              "      <td>-0.0004</td>\n",
              "      <td>0.2811***</td>\n",
              "      <td>0.0236***</td>\n",
              "      <td>0.0366***</td>\n",
              "      <td>0.4578***</td>\n",
              "      <td>-0.0059***</td>\n",
              "      <td>0.0105***</td>\n",
              "      <td>0.9155***</td>\n",
              "      <td>1.0***</td>\n",
              "    </tr>\n",
              "  </tbody>\n",
              "</table>\n",
              "</div>\n",
              "      <button class=\"colab-df-convert\" onclick=\"convertToInteractive('df-31da7169-f19f-43ea-912c-adf5c99609bd')\"\n",
              "              title=\"Convert this dataframe to an interactive table.\"\n",
              "              style=\"display:none;\">\n",
              "        \n",
              "  <svg xmlns=\"http://www.w3.org/2000/svg\" height=\"24px\"viewBox=\"0 0 24 24\"\n",
              "       width=\"24px\">\n",
              "    <path d=\"M0 0h24v24H0V0z\" fill=\"none\"/>\n",
              "    <path d=\"M18.56 5.44l.94 2.06.94-2.06 2.06-.94-2.06-.94-.94-2.06-.94 2.06-2.06.94zm-11 1L8.5 8.5l.94-2.06 2.06-.94-2.06-.94L8.5 2.5l-.94 2.06-2.06.94zm10 10l.94 2.06.94-2.06 2.06-.94-2.06-.94-.94-2.06-.94 2.06-2.06.94z\"/><path d=\"M17.41 7.96l-1.37-1.37c-.4-.4-.92-.59-1.43-.59-.52 0-1.04.2-1.43.59L10.3 9.45l-7.72 7.72c-.78.78-.78 2.05 0 2.83L4 21.41c.39.39.9.59 1.41.59.51 0 1.02-.2 1.41-.59l7.78-7.78 2.81-2.81c.8-.78.8-2.07 0-2.86zM5.41 20L4 18.59l7.72-7.72 1.47 1.35L5.41 20z\"/>\n",
              "  </svg>\n",
              "      </button>\n",
              "      \n",
              "  <style>\n",
              "    .colab-df-container {\n",
              "      display:flex;\n",
              "      flex-wrap:wrap;\n",
              "      gap: 12px;\n",
              "    }\n",
              "\n",
              "    .colab-df-convert {\n",
              "      background-color: #E8F0FE;\n",
              "      border: none;\n",
              "      border-radius: 50%;\n",
              "      cursor: pointer;\n",
              "      display: none;\n",
              "      fill: #1967D2;\n",
              "      height: 32px;\n",
              "      padding: 0 0 0 0;\n",
              "      width: 32px;\n",
              "    }\n",
              "\n",
              "    .colab-df-convert:hover {\n",
              "      background-color: #E2EBFA;\n",
              "      box-shadow: 0px 1px 2px rgba(60, 64, 67, 0.3), 0px 1px 3px 1px rgba(60, 64, 67, 0.15);\n",
              "      fill: #174EA6;\n",
              "    }\n",
              "\n",
              "    [theme=dark] .colab-df-convert {\n",
              "      background-color: #3B4455;\n",
              "      fill: #D2E3FC;\n",
              "    }\n",
              "\n",
              "    [theme=dark] .colab-df-convert:hover {\n",
              "      background-color: #434B5C;\n",
              "      box-shadow: 0px 1px 3px 1px rgba(0, 0, 0, 0.15);\n",
              "      filter: drop-shadow(0px 1px 2px rgba(0, 0, 0, 0.3));\n",
              "      fill: #FFFFFF;\n",
              "    }\n",
              "  </style>\n",
              "\n",
              "      <script>\n",
              "        const buttonEl =\n",
              "          document.querySelector('#df-31da7169-f19f-43ea-912c-adf5c99609bd button.colab-df-convert');\n",
              "        buttonEl.style.display =\n",
              "          google.colab.kernel.accessAllowed ? 'block' : 'none';\n",
              "\n",
              "        async function convertToInteractive(key) {\n",
              "          const element = document.querySelector('#df-31da7169-f19f-43ea-912c-adf5c99609bd');\n",
              "          const dataTable =\n",
              "            await google.colab.kernel.invokeFunction('convertToInteractive',\n",
              "                                                     [key], {});\n",
              "          if (!dataTable) return;\n",
              "\n",
              "          const docLinkHtml = 'Like what you see? Visit the ' +\n",
              "            '<a target=\"_blank\" href=https://colab.research.google.com/notebooks/data_table.ipynb>data table notebook</a>'\n",
              "            + ' to learn more about interactive tables.';\n",
              "          element.innerHTML = '';\n",
              "          dataTable['output_type'] = 'display_data';\n",
              "          await google.colab.output.renderOutput(dataTable, element);\n",
              "          const docLink = document.createElement('div');\n",
              "          docLink.innerHTML = docLinkHtml;\n",
              "          element.appendChild(docLink);\n",
              "        }\n",
              "      </script>\n",
              "    </div>\n",
              "  </div>\n",
              "  "
            ]
          },
          "metadata": {},
          "execution_count": 54
        }
      ]
    },
    {
      "cell_type": "code",
      "source": [
        "kendcorr = datadf_numcol.corr(method= 'kendall')\n",
        "kendcorr"
      ],
      "metadata": {
        "colab": {
          "base_uri": "https://localhost:8080/",
          "height": 363
        },
        "id": "l8TWy3VizWi1",
        "outputId": "004b0516-e7e3-410a-8432-2e1fe15d860c"
      },
      "execution_count": 55,
      "outputs": [
        {
          "output_type": "execute_result",
          "data": {
            "text/plain": [
              "                Date_of_Travel  KM_Travelled  Price_Charged  Cost_of_Trip  \\\n",
              "Date_of_Travel        1.000000     -0.000880      -0.022611     -0.001484   \n",
              "KM_Travelled         -0.000880      1.000000       0.719373      0.898328   \n",
              "Price_Charged        -0.022611      0.719373       1.000000      0.749388   \n",
              "Cost_of_Trip         -0.001484      0.898328       0.749388      1.000000   \n",
              "month                -0.020879     -0.001117      -0.028399     -0.005252   \n",
              "Profit               -0.046534      0.342466       0.608828      0.358186   \n",
              "Age                  -0.000253     -0.000071      -0.001343      0.000071   \n",
              "Income               -0.000999     -0.000278       0.001910     -0.000321   \n",
              "Population            0.001144     -0.000624       0.147392      0.006681   \n",
              "Users                -0.000467      0.000388       0.141022      0.016651   \n",
              "\n",
              "                   month    Profit       Age    Income  Population     Users  \n",
              "Date_of_Travel -0.020879 -0.046534 -0.000253 -0.000999    0.001144 -0.000467  \n",
              "KM_Travelled   -0.001117  0.342466 -0.000071 -0.000278   -0.000624  0.000388  \n",
              "Price_Charged  -0.028399  0.608828 -0.001343  0.001910    0.147392  0.141022  \n",
              "Cost_of_Trip   -0.005252  0.358186  0.000071 -0.000321    0.006681  0.016651  \n",
              "month           1.000000 -0.049632 -0.001015  0.000361    0.039583  0.020906  \n",
              "Profit         -0.049632  1.000000 -0.003045  0.003733    0.281676  0.247205  \n",
              "Age            -0.001015 -0.003045  1.000000  0.003299   -0.001123 -0.001860  \n",
              "Income          0.000361  0.003733  0.003299  1.000000    0.010656  0.008796  \n",
              "Population      0.039583  0.281676 -0.001123  0.010656    1.000000  0.749288  \n",
              "Users           0.020906  0.247205 -0.001860  0.008796    0.749288  1.000000  "
            ],
            "text/html": [
              "\n",
              "  <div id=\"df-bf0a0ffd-c92e-4502-b930-5bab8dad8c65\">\n",
              "    <div class=\"colab-df-container\">\n",
              "      <div>\n",
              "<style scoped>\n",
              "    .dataframe tbody tr th:only-of-type {\n",
              "        vertical-align: middle;\n",
              "    }\n",
              "\n",
              "    .dataframe tbody tr th {\n",
              "        vertical-align: top;\n",
              "    }\n",
              "\n",
              "    .dataframe thead th {\n",
              "        text-align: right;\n",
              "    }\n",
              "</style>\n",
              "<table border=\"1\" class=\"dataframe\">\n",
              "  <thead>\n",
              "    <tr style=\"text-align: right;\">\n",
              "      <th></th>\n",
              "      <th>Date_of_Travel</th>\n",
              "      <th>KM_Travelled</th>\n",
              "      <th>Price_Charged</th>\n",
              "      <th>Cost_of_Trip</th>\n",
              "      <th>month</th>\n",
              "      <th>Profit</th>\n",
              "      <th>Age</th>\n",
              "      <th>Income</th>\n",
              "      <th>Population</th>\n",
              "      <th>Users</th>\n",
              "    </tr>\n",
              "  </thead>\n",
              "  <tbody>\n",
              "    <tr>\n",
              "      <th>Date_of_Travel</th>\n",
              "      <td>1.000000</td>\n",
              "      <td>-0.000880</td>\n",
              "      <td>-0.022611</td>\n",
              "      <td>-0.001484</td>\n",
              "      <td>-0.020879</td>\n",
              "      <td>-0.046534</td>\n",
              "      <td>-0.000253</td>\n",
              "      <td>-0.000999</td>\n",
              "      <td>0.001144</td>\n",
              "      <td>-0.000467</td>\n",
              "    </tr>\n",
              "    <tr>\n",
              "      <th>KM_Travelled</th>\n",
              "      <td>-0.000880</td>\n",
              "      <td>1.000000</td>\n",
              "      <td>0.719373</td>\n",
              "      <td>0.898328</td>\n",
              "      <td>-0.001117</td>\n",
              "      <td>0.342466</td>\n",
              "      <td>-0.000071</td>\n",
              "      <td>-0.000278</td>\n",
              "      <td>-0.000624</td>\n",
              "      <td>0.000388</td>\n",
              "    </tr>\n",
              "    <tr>\n",
              "      <th>Price_Charged</th>\n",
              "      <td>-0.022611</td>\n",
              "      <td>0.719373</td>\n",
              "      <td>1.000000</td>\n",
              "      <td>0.749388</td>\n",
              "      <td>-0.028399</td>\n",
              "      <td>0.608828</td>\n",
              "      <td>-0.001343</td>\n",
              "      <td>0.001910</td>\n",
              "      <td>0.147392</td>\n",
              "      <td>0.141022</td>\n",
              "    </tr>\n",
              "    <tr>\n",
              "      <th>Cost_of_Trip</th>\n",
              "      <td>-0.001484</td>\n",
              "      <td>0.898328</td>\n",
              "      <td>0.749388</td>\n",
              "      <td>1.000000</td>\n",
              "      <td>-0.005252</td>\n",
              "      <td>0.358186</td>\n",
              "      <td>0.000071</td>\n",
              "      <td>-0.000321</td>\n",
              "      <td>0.006681</td>\n",
              "      <td>0.016651</td>\n",
              "    </tr>\n",
              "    <tr>\n",
              "      <th>month</th>\n",
              "      <td>-0.020879</td>\n",
              "      <td>-0.001117</td>\n",
              "      <td>-0.028399</td>\n",
              "      <td>-0.005252</td>\n",
              "      <td>1.000000</td>\n",
              "      <td>-0.049632</td>\n",
              "      <td>-0.001015</td>\n",
              "      <td>0.000361</td>\n",
              "      <td>0.039583</td>\n",
              "      <td>0.020906</td>\n",
              "    </tr>\n",
              "    <tr>\n",
              "      <th>Profit</th>\n",
              "      <td>-0.046534</td>\n",
              "      <td>0.342466</td>\n",
              "      <td>0.608828</td>\n",
              "      <td>0.358186</td>\n",
              "      <td>-0.049632</td>\n",
              "      <td>1.000000</td>\n",
              "      <td>-0.003045</td>\n",
              "      <td>0.003733</td>\n",
              "      <td>0.281676</td>\n",
              "      <td>0.247205</td>\n",
              "    </tr>\n",
              "    <tr>\n",
              "      <th>Age</th>\n",
              "      <td>-0.000253</td>\n",
              "      <td>-0.000071</td>\n",
              "      <td>-0.001343</td>\n",
              "      <td>0.000071</td>\n",
              "      <td>-0.001015</td>\n",
              "      <td>-0.003045</td>\n",
              "      <td>1.000000</td>\n",
              "      <td>0.003299</td>\n",
              "      <td>-0.001123</td>\n",
              "      <td>-0.001860</td>\n",
              "    </tr>\n",
              "    <tr>\n",
              "      <th>Income</th>\n",
              "      <td>-0.000999</td>\n",
              "      <td>-0.000278</td>\n",
              "      <td>0.001910</td>\n",
              "      <td>-0.000321</td>\n",
              "      <td>0.000361</td>\n",
              "      <td>0.003733</td>\n",
              "      <td>0.003299</td>\n",
              "      <td>1.000000</td>\n",
              "      <td>0.010656</td>\n",
              "      <td>0.008796</td>\n",
              "    </tr>\n",
              "    <tr>\n",
              "      <th>Population</th>\n",
              "      <td>0.001144</td>\n",
              "      <td>-0.000624</td>\n",
              "      <td>0.147392</td>\n",
              "      <td>0.006681</td>\n",
              "      <td>0.039583</td>\n",
              "      <td>0.281676</td>\n",
              "      <td>-0.001123</td>\n",
              "      <td>0.010656</td>\n",
              "      <td>1.000000</td>\n",
              "      <td>0.749288</td>\n",
              "    </tr>\n",
              "    <tr>\n",
              "      <th>Users</th>\n",
              "      <td>-0.000467</td>\n",
              "      <td>0.000388</td>\n",
              "      <td>0.141022</td>\n",
              "      <td>0.016651</td>\n",
              "      <td>0.020906</td>\n",
              "      <td>0.247205</td>\n",
              "      <td>-0.001860</td>\n",
              "      <td>0.008796</td>\n",
              "      <td>0.749288</td>\n",
              "      <td>1.000000</td>\n",
              "    </tr>\n",
              "  </tbody>\n",
              "</table>\n",
              "</div>\n",
              "      <button class=\"colab-df-convert\" onclick=\"convertToInteractive('df-bf0a0ffd-c92e-4502-b930-5bab8dad8c65')\"\n",
              "              title=\"Convert this dataframe to an interactive table.\"\n",
              "              style=\"display:none;\">\n",
              "        \n",
              "  <svg xmlns=\"http://www.w3.org/2000/svg\" height=\"24px\"viewBox=\"0 0 24 24\"\n",
              "       width=\"24px\">\n",
              "    <path d=\"M0 0h24v24H0V0z\" fill=\"none\"/>\n",
              "    <path d=\"M18.56 5.44l.94 2.06.94-2.06 2.06-.94-2.06-.94-.94-2.06-.94 2.06-2.06.94zm-11 1L8.5 8.5l.94-2.06 2.06-.94-2.06-.94L8.5 2.5l-.94 2.06-2.06.94zm10 10l.94 2.06.94-2.06 2.06-.94-2.06-.94-.94-2.06-.94 2.06-2.06.94z\"/><path d=\"M17.41 7.96l-1.37-1.37c-.4-.4-.92-.59-1.43-.59-.52 0-1.04.2-1.43.59L10.3 9.45l-7.72 7.72c-.78.78-.78 2.05 0 2.83L4 21.41c.39.39.9.59 1.41.59.51 0 1.02-.2 1.41-.59l7.78-7.78 2.81-2.81c.8-.78.8-2.07 0-2.86zM5.41 20L4 18.59l7.72-7.72 1.47 1.35L5.41 20z\"/>\n",
              "  </svg>\n",
              "      </button>\n",
              "      \n",
              "  <style>\n",
              "    .colab-df-container {\n",
              "      display:flex;\n",
              "      flex-wrap:wrap;\n",
              "      gap: 12px;\n",
              "    }\n",
              "\n",
              "    .colab-df-convert {\n",
              "      background-color: #E8F0FE;\n",
              "      border: none;\n",
              "      border-radius: 50%;\n",
              "      cursor: pointer;\n",
              "      display: none;\n",
              "      fill: #1967D2;\n",
              "      height: 32px;\n",
              "      padding: 0 0 0 0;\n",
              "      width: 32px;\n",
              "    }\n",
              "\n",
              "    .colab-df-convert:hover {\n",
              "      background-color: #E2EBFA;\n",
              "      box-shadow: 0px 1px 2px rgba(60, 64, 67, 0.3), 0px 1px 3px 1px rgba(60, 64, 67, 0.15);\n",
              "      fill: #174EA6;\n",
              "    }\n",
              "\n",
              "    [theme=dark] .colab-df-convert {\n",
              "      background-color: #3B4455;\n",
              "      fill: #D2E3FC;\n",
              "    }\n",
              "\n",
              "    [theme=dark] .colab-df-convert:hover {\n",
              "      background-color: #434B5C;\n",
              "      box-shadow: 0px 1px 3px 1px rgba(0, 0, 0, 0.15);\n",
              "      filter: drop-shadow(0px 1px 2px rgba(0, 0, 0, 0.3));\n",
              "      fill: #FFFFFF;\n",
              "    }\n",
              "  </style>\n",
              "\n",
              "      <script>\n",
              "        const buttonEl =\n",
              "          document.querySelector('#df-bf0a0ffd-c92e-4502-b930-5bab8dad8c65 button.colab-df-convert');\n",
              "        buttonEl.style.display =\n",
              "          google.colab.kernel.accessAllowed ? 'block' : 'none';\n",
              "\n",
              "        async function convertToInteractive(key) {\n",
              "          const element = document.querySelector('#df-bf0a0ffd-c92e-4502-b930-5bab8dad8c65');\n",
              "          const dataTable =\n",
              "            await google.colab.kernel.invokeFunction('convertToInteractive',\n",
              "                                                     [key], {});\n",
              "          if (!dataTable) return;\n",
              "\n",
              "          const docLinkHtml = 'Like what you see? Visit the ' +\n",
              "            '<a target=\"_blank\" href=https://colab.research.google.com/notebooks/data_table.ipynb>data table notebook</a>'\n",
              "            + ' to learn more about interactive tables.';\n",
              "          element.innerHTML = '';\n",
              "          dataTable['output_type'] = 'display_data';\n",
              "          await google.colab.output.renderOutput(dataTable, element);\n",
              "          const docLink = document.createElement('div');\n",
              "          docLink.innerHTML = docLinkHtml;\n",
              "          element.appendChild(docLink);\n",
              "        }\n",
              "      </script>\n",
              "    </div>\n",
              "  </div>\n",
              "  "
            ]
          },
          "metadata": {},
          "execution_count": 55
        }
      ]
    },
    {
      "cell_type": "code",
      "source": [
        "print('Mean Profit: {}'.format( datadf.groupby('Company')['Profit'].mean()), '\\n')\n",
        "print('Maximum Profit: {}'.format( datadf.groupby('Company')['Profit'].max()), '\\n')\n",
        "print('Minimum Profit: {}'.format( datadf.groupby('Company')['Profit'].min()))"
      ],
      "metadata": {
        "colab": {
          "base_uri": "https://localhost:8080/"
        },
        "id": "wuUAQnfRenUq",
        "outputId": "9ca93db3-27b8-4532-ac25-cce5d6912e97"
      },
      "execution_count": 56,
      "outputs": [
        {
          "output_type": "stream",
          "name": "stdout",
          "text": [
            "Mean Profit: Company\n",
            "Pink Cab       62.652174\n",
            "Yellow Cab    160.259986\n",
            "Name: Profit, dtype: float64 \n",
            "\n",
            "Maximum Profit: Company\n",
            "Pink Cab      1119.480\n",
            "Yellow Cab    1463.966\n",
            "Name: Profit, dtype: float64 \n",
            "\n",
            "Minimum Profit: Company\n",
            "Pink Cab     -220.0600\n",
            "Yellow Cab   -176.9308\n",
            "Name: Profit, dtype: float64\n"
          ]
        }
      ]
    },
    {
      "cell_type": "code",
      "source": [
        "plt.figure(figsize = (18,8))\n",
        "datadf.groupby('Company')['Profit'].hist(alpha = 0.8)\n",
        "plt.xlabel(\"Profit Margin\", size = 15)\n",
        "plt.ylabel('Frequency', size = 15)\n",
        "plt.title(\"Company Profit Margin Frequency\", size = 20)\n",
        "plt.legend(['Pink Cab', 'Yellow Cab'])\n",
        "plt.show()"
      ],
      "metadata": {
        "colab": {
          "base_uri": "https://localhost:8080/",
          "height": 523
        },
        "id": "E5YmjyC6eqCU",
        "outputId": "fca402e5-d1f5-4bd5-b6f1-57022db95bdc"
      },
      "execution_count": 57,
      "outputs": [
        {
          "output_type": "display_data",
          "data": {
            "text/plain": [
              "<Figure size 1296x576 with 1 Axes>"
            ],
            "image/png": "[encoded data removed]"
          },
          "metadata": {
            "needs_background": "light"
          }
        }
      ]
    },
    {
      "cell_type": "code",
      "source": [
        "PinkCab = datadf[datadf['Company'] == 'Pink Cab']\n",
        "YellowCab = datadf[datadf['Company'] == 'Yellow Cab']"
      ],
      "metadata": {
        "id": "KUi6WAuW3Lqb"
      },
      "execution_count": 58,
      "outputs": []
    },
    {
      "cell_type": "code",
      "source": [
        "PinkCab.rename(columns = {'Date_of_Travel': 'Year'}, inplace = True)\n",
        "YellowCab.rename(columns = {'Date_of_Travel': 'Year'}, inplace = True)"
      ],
      "metadata": {
        "colab": {
          "base_uri": "https://localhost:8080/"
        },
        "id": "HGbIGShm4x8I",
        "outputId": "44f995cd-667f-4430-e397-d74c6e64b168"
      },
      "execution_count": 59,
      "outputs": [
        {
          "output_type": "stream",
          "name": "stderr",
          "text": [
            "/usr/local/lib/python3.7/dist-packages/pandas/core/frame.py:5047: SettingWithCopyWarning: \n",
            "A value is trying to be set on a copy of a slice from a DataFrame\n",
            "\n",
            "See the caveats in the documentation: https://pandas.pydata.org/pandas-docs/stable/user_guide/indexing.html#returning-a-view-versus-a-copy\n",
            "  errors=errors,\n"
          ]
        }
      ]
    },
    {
      "cell_type": "code",
      "source": [
        "PinkCab.hist(figsize = (30,30), bins = 30)\n",
        "plt.suptitle(\"Pink Cab Company\", size = 40)\n",
        "plt.show()"
      ],
      "metadata": {
        "id": "0Qg09Af7F2U6",
        "colab": {
          "base_uri": "https://localhost:8080/",
          "height": 1000
        },
        "outputId": "a1002def-09ae-40c7-ba09-0163ef01e13e"
      },
      "execution_count": 60,
      "outputs": [
        {
          "output_type": "display_data",
          "data": {
            "text/plain": [
              "<Figure size 2160x2160 with 12 Axes>"
            ],
            "image/png": "[encoded data removed]"
          },
          "metadata": {
            "needs_background": "light"
          }
        }
      ]
    },
    {
      "cell_type": "code",
      "source": [
        "YellowCab.hist(figsize = (30,30), bins = 30)\n",
        "plt.suptitle(\"Yellow Cab Company\", size = 40)\n",
        "plt.show()"
      ],
      "metadata": {
        "id": "fh-LPopGIEf2",
        "colab": {
          "base_uri": "https://localhost:8080/",
          "height": 1000
        },
        "outputId": "bd05db90-677d-43bf-b86f-e786de86ae90"
      },
      "execution_count": 61,
      "outputs": [
        {
          "output_type": "display_data",
          "data": {
            "text/plain": [
              "<Figure size 2160x2160 with 12 Axes>"
            ],
            "image/png": "[encoded data removed]"
          },
          "metadata": {
            "needs_background": "light"
          }
        }
      ]
    },
    {
      "cell_type": "code",
      "source": [
        "bothcompany = datadf['Company'].value_counts()/datadf['Company'].size *100"
      ],
      "metadata": {
        "id": "K3DN5wXUuc1I"
      },
      "execution_count": 62,
      "outputs": []
    },
    {
      "cell_type": "code",
      "source": [
        "plt.figure(figsize = (8,8))\n",
        "plt.pie(bothcompany, shadow = True,  autopct='%1.0f%%',)\n",
        "plt.legend(['YellowCAB', 'PinkCAB'])\n",
        "plt.title('Activities Frequency of Both Company', size = 20)"
      ],
      "metadata": {
        "colab": {
          "base_uri": "https://localhost:8080/",
          "height": 504
        },
        "id": "a1HTFfjgZymv",
        "outputId": "246dd19b-2071-4e74-dd40-59c7b27bb305"
      },
      "execution_count": 63,
      "outputs": [
        {
          "output_type": "execute_result",
          "data": {
            "text/plain": [
              "Text(0.5, 1.0, 'Activities Frequency of Both Company')"
            ]
          },
          "metadata": {},
          "execution_count": 63
        },
        {
          "output_type": "display_data",
          "data": {
            "text/plain": [
              "<Figure size 576x576 with 1 Axes>"
            ],
            "image/png": "[encoded data removed]"
          },
          "metadata": {}
        }
      ]
    },
    {
      "cell_type": "code",
      "source": [
        "YellowCab['month'].value_counts()"
      ],
      "metadata": {
        "colab": {
          "base_uri": "https://localhost:8080/"
        },
        "id": "tuL73OsfZ4ca",
        "outputId": "81b2832a-31df-461c-d4db-25135d0cd018"
      },
      "execution_count": 64,
      "outputs": [
        {
          "output_type": "execute_result",
          "data": {
            "text/plain": [
              "12.0    35439\n",
              "11.0    31695\n",
              "10.0    30276\n",
              "9.0     27201\n",
              "8.0     23584\n",
              "7.0     21086\n",
              "6.0     18836\n",
              "5.0     18741\n",
              "1.0     18117\n",
              "3.0     17423\n",
              "4.0     17351\n",
              "2.0     14932\n",
              "Name: month, dtype: int64"
            ]
          },
          "metadata": {},
          "execution_count": 64
        }
      ]
    },
    {
      "cell_type": "code",
      "source": [
        "\n",
        "plt.figure(figsize = (15,10))\n",
        "plt.hist([YellowCab['month'], PinkCab['month']],  label=['YellowCAB', 'PinkCAB'])\n",
        "plt.title('Yellow and Pink Cab Travel Frequency per Month', size = 20)\n",
        "plt.xlabel(\"Months\", size = 15)\n",
        "plt.ylabel('Frequency', size = 15)\n",
        "plt.legend()"
      ],
      "metadata": {
        "colab": {
          "base_uri": "https://localhost:8080/",
          "height": 739
        },
        "id": "sJR7tlT_IdNQ",
        "outputId": "5d56e01c-9144-42b5-997b-2eaf6980014a"
      },
      "execution_count": 65,
      "outputs": [
        {
          "output_type": "stream",
          "name": "stderr",
          "text": [
            "/usr/local/lib/python3.7/dist-packages/numpy/core/fromnumeric.py:3208: VisibleDeprecationWarning: Creating an ndarray from ragged nested sequences (which is a list-or-tuple of lists-or-tuples-or ndarrays with different lengths or shapes) is deprecated. If you meant to do this, you must specify 'dtype=object' when creating the ndarray.\n",
            "  return asarray(a).size\n",
            "/usr/local/lib/python3.7/dist-packages/matplotlib/cbook/__init__.py:1376: VisibleDeprecationWarning: Creating an ndarray from ragged nested sequences (which is a list-or-tuple of lists-or-tuples-or ndarrays with different lengths or shapes) is deprecated. If you meant to do this, you must specify 'dtype=object' when creating the ndarray.\n",
            "  X = np.atleast_1d(X.T if isinstance(X, np.ndarray) else np.asarray(X))\n"
          ]
        },
        {
          "output_type": "execute_result",
          "data": {
            "text/plain": [
              "<matplotlib.legend.Legend at 0x7f624ff73cd0>"
            ]
          },
          "metadata": {},
          "execution_count": 65
        },
        {
          "output_type": "display_data",
          "data": {
            "text/plain": [
              "<Figure size 1080x720 with 1 Axes>"
            ],
            "image/png": "[encoded data removed]"
          },
          "metadata": {
            "needs_background": "light"
          }
        }
      ]
    },
    {
      "cell_type": "code",
      "source": [
        "\n",
        "plt.figure(figsize = (15,10))\n",
        "plt.hist([YellowCab['Year'], PinkCab['Year']], label=['YellowCAB', 'PinkCAB'])\n",
        "plt.title('Yellow and Pink Cab Travel Frequency per Year', size = 20)\n",
        "plt.xlabel(\"Year\", size = 15)\n",
        "plt.ylabel('Frequency', size = 15)\n",
        "plt.legend()"
      ],
      "metadata": {
        "colab": {
          "base_uri": "https://localhost:8080/",
          "height": 739
        },
        "id": "gAV-Q-t3pFkV",
        "outputId": "b2c61fb7-a8ad-4fb6-ca5d-c9d1e56bcee2"
      },
      "execution_count": 66,
      "outputs": [
        {
          "output_type": "stream",
          "name": "stderr",
          "text": [
            "/usr/local/lib/python3.7/dist-packages/numpy/core/fromnumeric.py:3208: VisibleDeprecationWarning: Creating an ndarray from ragged nested sequences (which is a list-or-tuple of lists-or-tuples-or ndarrays with different lengths or shapes) is deprecated. If you meant to do this, you must specify 'dtype=object' when creating the ndarray.\n",
            "  return asarray(a).size\n",
            "/usr/local/lib/python3.7/dist-packages/matplotlib/cbook/__init__.py:1376: VisibleDeprecationWarning: Creating an ndarray from ragged nested sequences (which is a list-or-tuple of lists-or-tuples-or ndarrays with different lengths or shapes) is deprecated. If you meant to do this, you must specify 'dtype=object' when creating the ndarray.\n",
            "  X = np.atleast_1d(X.T if isinstance(X, np.ndarray) else np.asarray(X))\n"
          ]
        },
        {
          "output_type": "execute_result",
          "data": {
            "text/plain": [
              "<matplotlib.legend.Legend at 0x7f62503ea690>"
            ]
          },
          "metadata": {},
          "execution_count": 66
        },
        {
          "output_type": "display_data",
          "data": {
            "text/plain": [
              "<Figure size 1080x720 with 1 Axes>"
            ],
            "image/png": "[encoded data removed]"
          },
          "metadata": {
            "needs_background": "light"
          }
        }
      ]
    },
    {
      "cell_type": "code",
      "source": [
        "YellowCab['Profit'].max()"
      ],
      "metadata": {
        "colab": {
          "base_uri": "https://localhost:8080/"
        },
        "id": "Ht_zIAXmssLT",
        "outputId": "581ed0cd-27e8-4f13-eb93-55091ae66597"
      },
      "execution_count": 67,
      "outputs": [
        {
          "output_type": "execute_result",
          "data": {
            "text/plain": [
              "1463.9660000000003"
            ]
          },
          "metadata": {},
          "execution_count": 67
        }
      ]
    },
    {
      "cell_type": "code",
      "source": [
        "bins = np.linspace(1.5, 50, 30)\n",
        "plt.figure(figsize = (15,10))\n",
        "plt.hist([YellowCab['KM_Travelled'], PinkCab['KM_Travelled']], bins, label=['YellowCAB', 'PinkCAB'])\n",
        "plt.title('Yellow and Pink Cab KM Travelled Distribution', size = 20)\n",
        "plt.xlabel(\"KM Travelled\", size = 15)\n",
        "plt.ylabel('Frequency', size = 15)\n",
        "plt.legend()"
      ],
      "metadata": {
        "colab": {
          "base_uri": "https://localhost:8080/",
          "height": 739
        },
        "id": "W5OIKFnWN3Ge",
        "outputId": "6f76951a-804f-4bdb-f331-b2a2f4142d53"
      },
      "execution_count": 68,
      "outputs": [
        {
          "output_type": "stream",
          "name": "stderr",
          "text": [
            "/usr/local/lib/python3.7/dist-packages/numpy/core/fromnumeric.py:3208: VisibleDeprecationWarning: Creating an ndarray from ragged nested sequences (which is a list-or-tuple of lists-or-tuples-or ndarrays with different lengths or shapes) is deprecated. If you meant to do this, you must specify 'dtype=object' when creating the ndarray.\n",
            "  return asarray(a).size\n",
            "/usr/local/lib/python3.7/dist-packages/matplotlib/cbook/__init__.py:1376: VisibleDeprecationWarning: Creating an ndarray from ragged nested sequences (which is a list-or-tuple of lists-or-tuples-or ndarrays with different lengths or shapes) is deprecated. If you meant to do this, you must specify 'dtype=object' when creating the ndarray.\n",
            "  X = np.atleast_1d(X.T if isinstance(X, np.ndarray) else np.asarray(X))\n"
          ]
        },
        {
          "output_type": "execute_result",
          "data": {
            "text/plain": [
              "<matplotlib.legend.Legend at 0x7f6250ca7690>"
            ]
          },
          "metadata": {},
          "execution_count": 68
        },
        {
          "output_type": "display_data",
          "data": {
            "text/plain": [
              "<Figure size 1080x720 with 1 Axes>"
            ],
            "image/png": "[encoded data removed]"
          },
          "metadata": {
            "needs_background": "light"
          }
        }
      ]
    },
    {
      "cell_type": "code",
      "source": [
        "bins = np.linspace(0, 1750, 50)\n",
        "plt.figure(figsize = (15,10))\n",
        "plt.hist([YellowCab['Price_Charged'], PinkCab['Price_Charged']], bins, label=['YellowCAB', 'PinkCAB'])\n",
        "plt.title('Yellow and Pink Cab Price_charged', size = 20)\n",
        "plt.xlabel(\"Price Charged\", size = 15)\n",
        "plt.ylabel('Frequency', size = 15)\n",
        "plt.legend()"
      ],
      "metadata": {
        "id": "2V4YdvykViDo",
        "colab": {
          "base_uri": "https://localhost:8080/",
          "height": 739
        },
        "outputId": "50253def-6707-42fe-fb54-6508f5ab74c1"
      },
      "execution_count": 69,
      "outputs": [
        {
          "output_type": "stream",
          "name": "stderr",
          "text": [
            "/usr/local/lib/python3.7/dist-packages/numpy/core/fromnumeric.py:3208: VisibleDeprecationWarning: Creating an ndarray from ragged nested sequences (which is a list-or-tuple of lists-or-tuples-or ndarrays with different lengths or shapes) is deprecated. If you meant to do this, you must specify 'dtype=object' when creating the ndarray.\n",
            "  return asarray(a).size\n",
            "/usr/local/lib/python3.7/dist-packages/matplotlib/cbook/__init__.py:1376: VisibleDeprecationWarning: Creating an ndarray from ragged nested sequences (which is a list-or-tuple of lists-or-tuples-or ndarrays with different lengths or shapes) is deprecated. If you meant to do this, you must specify 'dtype=object' when creating the ndarray.\n",
            "  X = np.atleast_1d(X.T if isinstance(X, np.ndarray) else np.asarray(X))\n"
          ]
        },
        {
          "output_type": "execute_result",
          "data": {
            "text/plain": [
              "<matplotlib.legend.Legend at 0x7f625060f210>"
            ]
          },
          "metadata": {},
          "execution_count": 69
        },
        {
          "output_type": "display_data",
          "data": {
            "text/plain": [
              "<Figure size 1080x720 with 1 Axes>"
            ],
            "image/png": "[encoded data removed]"
          },
          "metadata": {
            "needs_background": "light"
          }
        }
      ]
    },
    {
      "cell_type": "code",
      "source": [
        "sum(YellowCab['Customer_ID'].value_counts() > 1)"
      ],
      "metadata": {
        "colab": {
          "base_uri": "https://localhost:8080/"
        },
        "id": "kNutqC5zmn_F",
        "outputId": "6423f80b-ad00-487b-d536-2d13d98213af"
      },
      "execution_count": 70,
      "outputs": [
        {
          "output_type": "execute_result",
          "data": {
            "text/plain": [
              "27865"
            ]
          },
          "metadata": {},
          "execution_count": 70
        }
      ]
    },
    {
      "cell_type": "code",
      "source": [
        "sns.boxplot((YellowCab['Price_Charged']/YellowCab['KM_Travelled']))\n",
        "plt.title('Yellow Cab Company')\n",
        "plt.show()\n"
      ],
      "metadata": {
        "colab": {
          "base_uri": "https://localhost:8080/",
          "height": 336
        },
        "id": "M-QbEiXHfyUO",
        "outputId": "09fee3e4-2b7b-43c5-ed51-742480e2d9cd"
      },
      "execution_count": 71,
      "outputs": [
        {
          "output_type": "stream",
          "name": "stderr",
          "text": [
            "/usr/local/lib/python3.7/dist-packages/seaborn/_decorators.py:43: FutureWarning: Pass the following variable as a keyword arg: x. From version 0.12, the only valid positional argument will be `data`, and passing other arguments without an explicit keyword will result in an error or misinterpretation.\n",
            "  FutureWarning\n"
          ]
        },
        {
          "output_type": "display_data",
          "data": {
            "text/plain": [
              "<Figure size 432x288 with 1 Axes>"
            ],
            "image/png": "[encoded data removed]"
          },
          "metadata": {
            "needs_background": "light"
          }
        }
      ]
    },
    {
      "cell_type": "code",
      "source": [
        "sns.boxplot(PinkCab['Price_Charged']/PinkCab['KM_Travelled'])\n",
        "plt.title('Pink Cab Company')\n",
        "plt.show()"
      ],
      "metadata": {
        "colab": {
          "base_uri": "https://localhost:8080/",
          "height": 336
        },
        "id": "mD3erpSagBVp",
        "outputId": "4b41705a-29e5-4e43-ace9-d12e826117a7"
      },
      "execution_count": 72,
      "outputs": [
        {
          "output_type": "stream",
          "name": "stderr",
          "text": [
            "/usr/local/lib/python3.7/dist-packages/seaborn/_decorators.py:43: FutureWarning: Pass the following variable as a keyword arg: x. From version 0.12, the only valid positional argument will be `data`, and passing other arguments without an explicit keyword will result in an error or misinterpretation.\n",
            "  FutureWarning\n"
          ]
        },
        {
          "output_type": "display_data",
          "data": {
            "text/plain": [
              "<Figure size 432x288 with 1 Axes>"
            ],
            "image/png": "[encoded data removed]"
          },
          "metadata": {
            "needs_background": "light"
          }
        }
      ]
    },
    {
      "cell_type": "code",
      "source": [
        "Yellow_num2= YellowCab.select_dtypes(include = np.number).copy()\n",
        "for x in Yellow_num2: \n",
        "  sns.boxplot(Yellow_num2.loc[:,x])\n",
        "  plt.title('Yellow Cab Company')\n",
        "  plt.show()\n"
      ],
      "metadata": {
        "id": "s9Khps-dPdvq",
        "colab": {
          "base_uri": "https://localhost:8080/",
          "height": 1000
        },
        "outputId": "a825ed8d-4358-40de-8ff2-4c0779446463"
      },
      "execution_count": 73,
      "outputs": [
        {
          "output_type": "stream",
          "name": "stderr",
          "text": [
            "/usr/local/lib/python3.7/dist-packages/seaborn/_decorators.py:43: FutureWarning: Pass the following variable as a keyword arg: x. From version 0.12, the only valid positional argument will be `data`, and passing other arguments without an explicit keyword will result in an error or misinterpretation.\n",
            "  FutureWarning\n"
          ]
        },
        {
          "output_type": "display_data",
          "data": {
            "text/plain": [
              "<Figure size 432x288 with 1 Axes>"
            ],
            "image/png": "[encoded data removed]"
          },
          "metadata": {
            "needs_background": "light"
          }
        },
        {
          "output_type": "stream",
          "name": "stderr",
          "text": [
            "/usr/local/lib/python3.7/dist-packages/seaborn/_decorators.py:43: FutureWarning: Pass the following variable as a keyword arg: x. From version 0.12, the only valid positional argument will be `data`, and passing other arguments without an explicit keyword will result in an error or misinterpretation.\n",
            "  FutureWarning\n"
          ]
        },
        {
          "output_type": "display_data",
          "data": {
            "text/plain": [
              "<Figure size 432x288 with 1 Axes>"
            ],
            "image/png": "[encoded data removed]"
          },
          "metadata": {
            "needs_background": "light"
          }
        },
        {
          "output_type": "stream",
          "name": "stderr",
          "text": [
            "/usr/local/lib/python3.7/dist-packages/seaborn/_decorators.py:43: FutureWarning: Pass the following variable as a keyword arg: x. From version 0.12, the only valid positional argument will be `data`, and passing other arguments without an explicit keyword will result in an error or misinterpretation.\n",
            "  FutureWarning\n"
          ]
        },
        {
          "output_type": "display_data",
          "data": {
            "text/plain": [
              "<Figure size 432x288 with 1 Axes>"
            ],
            "image/png": "[encoded data removed]"
          },
          "metadata": {
            "needs_background": "light"
          }
        },
        {
          "output_type": "stream",
          "name": "stderr",
          "text": [
            "/usr/local/lib/python3.7/dist-packages/seaborn/_decorators.py:43: FutureWarning: Pass the following variable as a keyword arg: x. From version 0.12, the only valid positional argument will be `data`, and passing other arguments without an explicit keyword will result in an error or misinterpretation.\n",
            "  FutureWarning\n"
          ]
        },
        {
          "output_type": "display_data",
          "data": {
            "text/plain": [
              "<Figure size 432x288 with 1 Axes>"
            ],
            "image/png": "[encoded data removed]"
          },
          "metadata": {
            "needs_background": "light"
          }
        },
        {
          "output_type": "stream",
          "name": "stderr",
          "text": [
            "/usr/local/lib/python3.7/dist-packages/seaborn/_decorators.py:43: FutureWarning: Pass the following variable as a keyword arg: x. From version 0.12, the only valid positional argument will be `data`, and passing other arguments without an explicit keyword will result in an error or misinterpretation.\n",
            "  FutureWarning\n"
          ]
        },
        {
          "output_type": "display_data",
          "data": {
            "text/plain": [
              "<Figure size 432x288 with 1 Axes>"
            ],
            "image/png": "[encoded data removed]"
          },
          "metadata": {
            "needs_background": "light"
          }
        },
        {
          "output_type": "stream",
          "name": "stderr",
          "text": [
            "/usr/local/lib/python3.7/dist-packages/seaborn/_decorators.py:43: FutureWarning: Pass the following variable as a keyword arg: x. From version 0.12, the only valid positional argument will be `data`, and passing other arguments without an explicit keyword will result in an error or misinterpretation.\n",
            "  FutureWarning\n"
          ]
        },
        {
          "output_type": "display_data",
          "data": {
            "text/plain": [
              "<Figure size 432x288 with 1 Axes>"
            ],
            "image/png": "[encoded data removed]"
          },
          "metadata": {
            "needs_background": "light"
          }
        },
        {
          "output_type": "stream",
          "name": "stderr",
          "text": [
            "/usr/local/lib/python3.7/dist-packages/seaborn/_decorators.py:43: FutureWarning: Pass the following variable as a keyword arg: x. From version 0.12, the only valid positional argument will be `data`, and passing other arguments without an explicit keyword will result in an error or misinterpretation.\n",
            "  FutureWarning\n"
          ]
        },
        {
          "output_type": "display_data",
          "data": {
            "text/plain": [
              "<Figure size 432x288 with 1 Axes>"
            ],
            "image/png": "[encoded data removed]"
          },
          "metadata": {
            "needs_background": "light"
          }
        },
        {
          "output_type": "stream",
          "name": "stderr",
          "text": [
            "/usr/local/lib/python3.7/dist-packages/seaborn/_decorators.py:43: FutureWarning: Pass the following variable as a keyword arg: x. From version 0.12, the only valid positional argument will be `data`, and passing other arguments without an explicit keyword will result in an error or misinterpretation.\n",
            "  FutureWarning\n"
          ]
        },
        {
          "output_type": "display_data",
          "data": {
            "text/plain": [
              "<Figure size 432x288 with 1 Axes>"
            ],
            "image/png": "[encoded data removed]"
          },
          "metadata": {
            "needs_background": "light"
          }
        },
        {
          "output_type": "stream",
          "name": "stderr",
          "text": [
            "/usr/local/lib/python3.7/dist-packages/seaborn/_decorators.py:43: FutureWarning: Pass the following variable as a keyword arg: x. From version 0.12, the only valid positional argument will be `data`, and passing other arguments without an explicit keyword will result in an error or misinterpretation.\n",
            "  FutureWarning\n"
          ]
        },
        {
          "output_type": "display_data",
          "data": {
            "text/plain": [
              "<Figure size 432x288 with 1 Axes>"
            ],
            "image/png": "[encoded data removed]"
          },
          "metadata": {
            "needs_background": "light"
          }
        },
        {
          "output_type": "stream",
          "name": "stderr",
          "text": [
            "/usr/local/lib/python3.7/dist-packages/seaborn/_decorators.py:43: FutureWarning: Pass the following variable as a keyword arg: x. From version 0.12, the only valid positional argument will be `data`, and passing other arguments without an explicit keyword will result in an error or misinterpretation.\n",
            "  FutureWarning\n"
          ]
        },
        {
          "output_type": "display_data",
          "data": {
            "text/plain": [
              "<Figure size 432x288 with 1 Axes>"
            ],
            "image/png": "[encoded data removed]"
          },
          "metadata": {
            "needs_background": "light"
          }
        },
        {
          "output_type": "stream",
          "name": "stderr",
          "text": [
            "/usr/local/lib/python3.7/dist-packages/seaborn/_decorators.py:43: FutureWarning: Pass the following variable as a keyword arg: x. From version 0.12, the only valid positional argument will be `data`, and passing other arguments without an explicit keyword will result in an error or misinterpretation.\n",
            "  FutureWarning\n"
          ]
        },
        {
          "output_type": "display_data",
          "data": {
            "text/plain": [
              "<Figure size 432x288 with 1 Axes>"
            ],
            "image/png": "[encoded data removed]"
          },
          "metadata": {
            "needs_background": "light"
          }
        },
        {
          "output_type": "stream",
          "name": "stderr",
          "text": [
            "/usr/local/lib/python3.7/dist-packages/seaborn/_decorators.py:43: FutureWarning: Pass the following variable as a keyword arg: x. From version 0.12, the only valid positional argument will be `data`, and passing other arguments without an explicit keyword will result in an error or misinterpretation.\n",
            "  FutureWarning\n"
          ]
        },
        {
          "output_type": "display_data",
          "data": {
            "text/plain": [
              "<Figure size 432x288 with 1 Axes>"
            ],
            "image/png": "[encoded data removed]"
          },
          "metadata": {
            "needs_background": "light"
          }
        }
      ]
    },
    {
      "cell_type": "code",
      "source": [
        "Pink_num2= PinkCab.select_dtypes(include = np.number).copy()\n",
        "for x in Pink_num2: \n",
        "  sns.boxplot(Pink_num2.loc[:,x])\n",
        "  plt.title('Pink Cab Company')\n",
        "  plt.show()"
      ],
      "metadata": {
        "id": "Ashm8IyKXCau"
      },
      "execution_count": null,
      "outputs": []
    },
    {
      "cell_type": "code",
      "source": [
        "PinkCab_numcol = PinkCab.select_dtypes(np.number).copy()\n",
        "PinkCab_numcol = PinkCab_numcol.drop(['Customer_ID', 'Transaction_ID'], axis = 1)\n",
        "YellowCab_numcol = YellowCab.select_dtypes(np.number).copy()\n",
        "YellowCab_numcol = YellowCab_numcol.drop(['Customer_ID', 'Transaction_ID'], axis = 1)"
      ],
      "metadata": {
        "id": "Ar9RRIMh35YI"
      },
      "execution_count": 75,
      "outputs": []
    },
    {
      "cell_type": "code",
      "source": [
        "pinkcorr = PinkCab_numcol.corr()\n",
        "yellowcorr = YellowCab_numcol.corr()\n",
        "\n",
        "\n",
        "\n",
        "yelpval = YellowCab_numcol.corr(method=lambda x, y: pearsonr(x, y)[1]) - np.eye(*yellowcorr.shape)\n",
        "yp = yelpval.applymap(lambda x: ''.join(['*' for t in [0.01,0.05,0.1] if x<=t]))\n",
        "yellowcorr.round(4).astype(str) + yp\n",
        "\n",
        "#Source:https://stackoverflow.com/questions/25571882/pandas-columns-correlation-with-statistical-significance"
      ],
      "metadata": {
        "id": "oaQzYSPx3h_t"
      },
      "execution_count": null,
      "outputs": []
    },
    {
      "cell_type": "code",
      "source": [
        "pinkpval = pinkcorr.corr(method=lambda x, y: pearsonr(x, y)[1]) - np.eye(*pinkcorr.shape)\n",
        "pp = pinkpval.applymap(lambda x: ''.join(['*' for t in [0.01,0.05,0.1] if x<=t]))\n",
        "pinkcorr.round(4).astype(str) + pp\n",
        "#Source:https://stackoverflow.com/questions/25571882/pandas-columns-correlation-with-statistical-significance"
      ],
      "metadata": {
        "id": "jPAAk_bNs1zt"
      },
      "execution_count": null,
      "outputs": []
    },
    {
      "cell_type": "code",
      "source": [
        "def datanorm(df): \n",
        "  num = df.select_dtypes(include = [np.number]).copy()\n",
        "  df_num = ((num - num.min()))/((num.max() - num.min()))\n",
        "  return df_num"
      ],
      "metadata": {
        "id": "FbTxRm2pE-Wn"
      },
      "execution_count": 78,
      "outputs": []
    },
    {
      "cell_type": "code",
      "source": [
        "yellownorm = datanorm(YellowCab)\n",
        "pinknorm = datanorm(PinkCab)"
      ],
      "metadata": {
        "id": "c4_Nay28HbSJ"
      },
      "execution_count": 79,
      "outputs": []
    },
    {
      "cell_type": "code",
      "source": [
        "yellownorm['Year'] =  YellowCab['Year']\n",
        "yellownorm['month'] =  YellowCab[ 'month']"
      ],
      "metadata": {
        "id": "l9E-WcT0Nxs8"
      },
      "execution_count": 80,
      "outputs": []
    },
    {
      "cell_type": "code",
      "source": [
        "pinknorm['Year'] =  PinkCab['Year']\n",
        "pinknorm['month'] =  PinkCab['month']"
      ],
      "metadata": {
        "id": "HjXCQt0wO-Th"
      },
      "execution_count": 81,
      "outputs": []
    },
    {
      "cell_type": "code",
      "source": [
        "YellowCab_X = yellownorm.drop(['Price_Charged', 'Transaction_ID',  'Profit', 'Customer_ID'], axis=1)\n",
        "YellowCab_y = yellownorm['Profit'].copy()"
      ],
      "metadata": {
        "id": "TJ-Fyc2XETEu"
      },
      "execution_count": 82,
      "outputs": []
    },
    {
      "cell_type": "code",
      "source": [
        "PinkCab_X = pinknorm.drop(['Price_Charged', 'Transaction_ID','Profit', 'Customer_ID'], axis=1)\n",
        "PinkCab_y = pinknorm['Profit'].copy()"
      ],
      "metadata": {
        "id": "Hv_f9x4iMycc"
      },
      "execution_count": 83,
      "outputs": []
    },
    {
      "cell_type": "code",
      "source": [
        "from sklearn.model_selection import train_test_split\n",
        "from sklearn import svm, feature_selection, linear_model\n",
        "def selectedX(x,y): \n",
        "  estimator = linear_model.LinearRegression()\n",
        "  selector = feature_selection.RFE(estimator, n_features_to_select=7, verbose=0, step=1)\n",
        "  selector = selector.fit(x,y)\n",
        "  selected_features = YellowCab_X.loc[:, selector.support_]\n",
        "  return(selected_features)"
      ],
      "metadata": {
        "id": "KuKpc2KgOnSl"
      },
      "execution_count": 136,
      "outputs": []
    },
    {
      "cell_type": "code",
      "source": [
        "yellowselect = selectedX(YellowCab_X, YellowCab_y)\n"
      ],
      "metadata": {
        "id": "1aTISqCh01yl"
      },
      "execution_count": 137,
      "outputs": []
    },
    {
      "cell_type": "code",
      "source": [
        "pinkselect = selectedX(PinkCab_X, PinkCab_y)"
      ],
      "metadata": {
        "id": "kizUKcDWxcZC"
      },
      "execution_count": 138,
      "outputs": []
    },
    {
      "cell_type": "code",
      "source": [
        "yellowselect"
      ],
      "metadata": {
        "colab": {
          "base_uri": "https://localhost:8080/",
          "height": 424
        },
        "id": "IPPrXX8gtASE",
        "outputId": "250fc3e8-f883-4315-ba0f-948ba77048b3"
      },
      "execution_count": 140,
      "outputs": [
        {
          "output_type": "execute_result",
          "data": {
            "text/plain": [
              "          Year  KM_Travelled  Cost_of_Trip  month    Income  Population  \\\n",
              "1       2018.0      0.526898      0.440788    7.0  0.267093    0.069379   \n",
              "2       2018.0      0.881779      0.859668   11.0  0.267093    0.069379   \n",
              "4       2018.0      0.747939      0.664750    4.0  0.219330    0.069379   \n",
              "5       2018.0      0.092842      0.096811    5.0  0.219330    0.069379   \n",
              "8       2016.0      0.817787      0.705278    9.0  0.280095    0.069379   \n",
              "...        ...           ...           ...    ...       ...         ...   \n",
              "359387  2018.0      0.791757      0.751813    3.0  0.146351    0.020828   \n",
              "359388  2018.0      0.036226      0.032546    4.0  0.146351    0.020828   \n",
              "359389  2018.0      0.467679      0.471311    7.0  0.146351    0.020828   \n",
              "359390  2018.0      0.557484      0.510952    8.0  0.146351    0.020828   \n",
              "359391  2018.0      0.701518      0.605199    8.0  0.146351    0.020828   \n",
              "\n",
              "           Users  \n",
              "1       0.070545  \n",
              "2       0.070545  \n",
              "4       0.070545  \n",
              "5       0.070545  \n",
              "8       0.070545  \n",
              "...          ...  \n",
              "359387  0.413251  \n",
              "359388  0.413251  \n",
              "359389  0.413251  \n",
              "359390  0.413251  \n",
              "359391  0.413251  \n",
              "\n",
              "[274681 rows x 7 columns]"
            ],
            "text/html": [
              "\n",
              "  <div id=\"df-5a143a4b-b859-4496-a4f1-44eaf5e05480\">\n",
              "    <div class=\"colab-df-container\">\n",
              "      <div>\n",
              "<style scoped>\n",
              "    .dataframe tbody tr th:only-of-type {\n",
              "        vertical-align: middle;\n",
              "    }\n",
              "\n",
              "    .dataframe tbody tr th {\n",
              "        vertical-align: top;\n",
              "    }\n",
              "\n",
              "    .dataframe thead th {\n",
              "        text-align: right;\n",
              "    }\n",
              "</style>\n",
              "<table border=\"1\" class=\"dataframe\">\n",
              "  <thead>\n",
              "    <tr style=\"text-align: right;\">\n",
              "      <th></th>\n",
              "      <th>Year</th>\n",
              "      <th>KM_Travelled</th>\n",
              "      <th>Cost_of_Trip</th>\n",
              "      <th>month</th>\n",
              "      <th>Income</th>\n",
              "      <th>Population</th>\n",
              "      <th>Users</th>\n",
              "    </tr>\n",
              "  </thead>\n",
              "  <tbody>\n",
              "    <tr>\n",
              "      <th>1</th>\n",
              "      <td>2018.0</td>\n",
              "      <td>0.526898</td>\n",
              "      <td>0.440788</td>\n",
              "      <td>7.0</td>\n",
              "      <td>0.267093</td>\n",
              "      <td>0.069379</td>\n",
              "      <td>0.070545</td>\n",
              "    </tr>\n",
              "    <tr>\n",
              "      <th>2</th>\n",
              "      <td>2018.0</td>\n",
              "      <td>0.881779</td>\n",
              "      <td>0.859668</td>\n",
              "      <td>11.0</td>\n",
              "      <td>0.267093</td>\n",
              "      <td>0.069379</td>\n",
              "      <td>0.070545</td>\n",
              "    </tr>\n",
              "    <tr>\n",
              "      <th>4</th>\n",
              "      <td>2018.0</td>\n",
              "      <td>0.747939</td>\n",
              "      <td>0.664750</td>\n",
              "      <td>4.0</td>\n",
              "      <td>0.219330</td>\n",
              "      <td>0.069379</td>\n",
              "      <td>0.070545</td>\n",
              "    </tr>\n",
              "    <tr>\n",
              "      <th>5</th>\n",
              "      <td>2018.0</td>\n",
              "      <td>0.092842</td>\n",
              "      <td>0.096811</td>\n",
              "      <td>5.0</td>\n",
              "      <td>0.219330</td>\n",
              "      <td>0.069379</td>\n",
              "      <td>0.070545</td>\n",
              "    </tr>\n",
              "    <tr>\n",
              "      <th>8</th>\n",
              "      <td>2016.0</td>\n",
              "      <td>0.817787</td>\n",
              "      <td>0.705278</td>\n",
              "      <td>9.0</td>\n",
              "      <td>0.280095</td>\n",
              "      <td>0.069379</td>\n",
              "      <td>0.070545</td>\n",
              "    </tr>\n",
              "    <tr>\n",
              "      <th>...</th>\n",
              "      <td>...</td>\n",
              "      <td>...</td>\n",
              "      <td>...</td>\n",
              "      <td>...</td>\n",
              "      <td>...</td>\n",
              "      <td>...</td>\n",
              "      <td>...</td>\n",
              "    </tr>\n",
              "    <tr>\n",
              "      <th>359387</th>\n",
              "      <td>2018.0</td>\n",
              "      <td>0.791757</td>\n",
              "      <td>0.751813</td>\n",
              "      <td>3.0</td>\n",
              "      <td>0.146351</td>\n",
              "      <td>0.020828</td>\n",
              "      <td>0.413251</td>\n",
              "    </tr>\n",
              "    <tr>\n",
              "      <th>359388</th>\n",
              "      <td>2018.0</td>\n",
              "      <td>0.036226</td>\n",
              "      <td>0.032546</td>\n",
              "      <td>4.0</td>\n",
              "      <td>0.146351</td>\n",
              "      <td>0.020828</td>\n",
              "      <td>0.413251</td>\n",
              "    </tr>\n",
              "    <tr>\n",
              "      <th>359389</th>\n",
              "      <td>2018.0</td>\n",
              "      <td>0.467679</td>\n",
              "      <td>0.471311</td>\n",
              "      <td>7.0</td>\n",
              "      <td>0.146351</td>\n",
              "      <td>0.020828</td>\n",
              "      <td>0.413251</td>\n",
              "    </tr>\n",
              "    <tr>\n",
              "      <th>359390</th>\n",
              "      <td>2018.0</td>\n",
              "      <td>0.557484</td>\n",
              "      <td>0.510952</td>\n",
              "      <td>8.0</td>\n",
              "      <td>0.146351</td>\n",
              "      <td>0.020828</td>\n",
              "      <td>0.413251</td>\n",
              "    </tr>\n",
              "    <tr>\n",
              "      <th>359391</th>\n",
              "      <td>2018.0</td>\n",
              "      <td>0.701518</td>\n",
              "      <td>0.605199</td>\n",
              "      <td>8.0</td>\n",
              "      <td>0.146351</td>\n",
              "      <td>0.020828</td>\n",
              "      <td>0.413251</td>\n",
              "    </tr>\n",
              "  </tbody>\n",
              "</table>\n",
              "<p>274681 rows × 7 columns</p>\n",
              "</div>\n",
              "      <button class=\"colab-df-convert\" onclick=\"convertToInteractive('df-5a143a4b-b859-4496-a4f1-44eaf5e05480')\"\n",
              "              title=\"Convert this dataframe to an interactive table.\"\n",
              "              style=\"display:none;\">\n",
              "        \n",
              "  <svg xmlns=\"http://www.w3.org/2000/svg\" height=\"24px\"viewBox=\"0 0 24 24\"\n",
              "       width=\"24px\">\n",
              "    <path d=\"M0 0h24v24H0V0z\" fill=\"none\"/>\n",
              "    <path d=\"M18.56 5.44l.94 2.06.94-2.06 2.06-.94-2.06-.94-.94-2.06-.94 2.06-2.06.94zm-11 1L8.5 8.5l.94-2.06 2.06-.94-2.06-.94L8.5 2.5l-.94 2.06-2.06.94zm10 10l.94 2.06.94-2.06 2.06-.94-2.06-.94-.94-2.06-.94 2.06-2.06.94z\"/><path d=\"M17.41 7.96l-1.37-1.37c-.4-.4-.92-.59-1.43-.59-.52 0-1.04.2-1.43.59L10.3 9.45l-7.72 7.72c-.78.78-.78 2.05 0 2.83L4 21.41c.39.39.9.59 1.41.59.51 0 1.02-.2 1.41-.59l7.78-7.78 2.81-2.81c.8-.78.8-2.07 0-2.86zM5.41 20L4 18.59l7.72-7.72 1.47 1.35L5.41 20z\"/>\n",
              "  </svg>\n",
              "      </button>\n",
              "      \n",
              "  <style>\n",
              "    .colab-df-container {\n",
              "      display:flex;\n",
              "      flex-wrap:wrap;\n",
              "      gap: 12px;\n",
              "    }\n",
              "\n",
              "    .colab-df-convert {\n",
              "      background-color: #E8F0FE;\n",
              "      border: none;\n",
              "      border-radius: 50%;\n",
              "      cursor: pointer;\n",
              "      display: none;\n",
              "      fill: #1967D2;\n",
              "      height: 32px;\n",
              "      padding: 0 0 0 0;\n",
              "      width: 32px;\n",
              "    }\n",
              "\n",
              "    .colab-df-convert:hover {\n",
              "      background-color: #E2EBFA;\n",
              "      box-shadow: 0px 1px 2px rgba(60, 64, 67, 0.3), 0px 1px 3px 1px rgba(60, 64, 67, 0.15);\n",
              "      fill: #174EA6;\n",
              "    }\n",
              "\n",
              "    [theme=dark] .colab-df-convert {\n",
              "      background-color: #3B4455;\n",
              "      fill: #D2E3FC;\n",
              "    }\n",
              "\n",
              "    [theme=dark] .colab-df-convert:hover {\n",
              "      background-color: #434B5C;\n",
              "      box-shadow: 0px 1px 3px 1px rgba(0, 0, 0, 0.15);\n",
              "      filter: drop-shadow(0px 1px 2px rgba(0, 0, 0, 0.3));\n",
              "      fill: #FFFFFF;\n",
              "    }\n",
              "  </style>\n",
              "\n",
              "      <script>\n",
              "        const buttonEl =\n",
              "          document.querySelector('#df-5a143a4b-b859-4496-a4f1-44eaf5e05480 button.colab-df-convert');\n",
              "        buttonEl.style.display =\n",
              "          google.colab.kernel.accessAllowed ? 'block' : 'none';\n",
              "\n",
              "        async function convertToInteractive(key) {\n",
              "          const element = document.querySelector('#df-5a143a4b-b859-4496-a4f1-44eaf5e05480');\n",
              "          const dataTable =\n",
              "            await google.colab.kernel.invokeFunction('convertToInteractive',\n",
              "                                                     [key], {});\n",
              "          if (!dataTable) return;\n",
              "\n",
              "          const docLinkHtml = 'Like what you see? Visit the ' +\n",
              "            '<a target=\"_blank\" href=https://colab.research.google.com/notebooks/data_table.ipynb>data table notebook</a>'\n",
              "            + ' to learn more about interactive tables.';\n",
              "          element.innerHTML = '';\n",
              "          dataTable['output_type'] = 'display_data';\n",
              "          await google.colab.output.renderOutput(dataTable, element);\n",
              "          const docLink = document.createElement('div');\n",
              "          docLink.innerHTML = docLinkHtml;\n",
              "          element.appendChild(docLink);\n",
              "        }\n",
              "      </script>\n",
              "    </div>\n",
              "  </div>\n",
              "  "
            ]
          },
          "metadata": {},
          "execution_count": 140
        }
      ]
    },
    {
      "cell_type": "code",
      "source": [
        "pinkselects = pinknorm[pinkselect.columns]"
      ],
      "metadata": {
        "id": "u03z4O_MzUgF"
      },
      "execution_count": 87,
      "outputs": []
    },
    {
      "cell_type": "code",
      "source": [
        "pinkselect.info()"
      ],
      "metadata": {
        "colab": {
          "base_uri": "https://localhost:8080/"
        },
        "id": "1Zvq3ohLyUQU",
        "outputId": "38e813d0-444d-439a-b950-a15f4a27a77e"
      },
      "execution_count": 88,
      "outputs": [
        {
          "output_type": "stream",
          "name": "stdout",
          "text": [
            "<class 'pandas.core.frame.DataFrame'>\n",
            "Int64Index: 274681 entries, 1 to 359391\n",
            "Data columns (total 7 columns):\n",
            " #   Column        Non-Null Count   Dtype  \n",
            "---  ------        --------------   -----  \n",
            " 0   Year          274681 non-null  float64\n",
            " 1   KM_Travelled  274681 non-null  float64\n",
            " 2   Cost_of_Trip  274681 non-null  float64\n",
            " 3   month         274681 non-null  float64\n",
            " 4   Age           274681 non-null  float64\n",
            " 5   Population    274681 non-null  float64\n",
            " 6   Users         274681 non-null  float64\n",
            "dtypes: float64(7)\n",
            "memory usage: 16.8 MB\n"
          ]
        }
      ]
    },
    {
      "cell_type": "code",
      "source": [
        "#Beacuase profit is high correlated with Cost of Trip, it causes multicolinearity\n",
        "yellowselect "
      ],
      "metadata": {
        "colab": {
          "base_uri": "https://localhost:8080/",
          "height": 424
        },
        "id": "n9S5Kw-nKE2C",
        "outputId": "4c5d9615-806c-4d0d-c152-6fae4d8bebaf"
      },
      "execution_count": 89,
      "outputs": [
        {
          "output_type": "execute_result",
          "data": {
            "text/plain": [
              "          Year  KM_Travelled  Cost_of_Trip  month    Income  Population  \\\n",
              "1       2018.0      0.526898      0.440788    7.0  0.267093    0.069379   \n",
              "2       2018.0      0.881779      0.859668   11.0  0.267093    0.069379   \n",
              "4       2018.0      0.747939      0.664750    4.0  0.219330    0.069379   \n",
              "5       2018.0      0.092842      0.096811    5.0  0.219330    0.069379   \n",
              "8       2016.0      0.817787      0.705278    9.0  0.280095    0.069379   \n",
              "...        ...           ...           ...    ...       ...         ...   \n",
              "359387  2018.0      0.791757      0.751813    3.0  0.146351    0.020828   \n",
              "359388  2018.0      0.036226      0.032546    4.0  0.146351    0.020828   \n",
              "359389  2018.0      0.467679      0.471311    7.0  0.146351    0.020828   \n",
              "359390  2018.0      0.557484      0.510952    8.0  0.146351    0.020828   \n",
              "359391  2018.0      0.701518      0.605199    8.0  0.146351    0.020828   \n",
              "\n",
              "           Users  \n",
              "1       0.070545  \n",
              "2       0.070545  \n",
              "4       0.070545  \n",
              "5       0.070545  \n",
              "8       0.070545  \n",
              "...          ...  \n",
              "359387  0.413251  \n",
              "359388  0.413251  \n",
              "359389  0.413251  \n",
              "359390  0.413251  \n",
              "359391  0.413251  \n",
              "\n",
              "[274681 rows x 7 columns]"
            ],
            "text/html": [
              "\n",
              "  <div id=\"df-ef2eeca1-9953-436b-9f1a-26da761675be\">\n",
              "    <div class=\"colab-df-container\">\n",
              "      <div>\n",
              "<style scoped>\n",
              "    .dataframe tbody tr th:only-of-type {\n",
              "        vertical-align: middle;\n",
              "    }\n",
              "\n",
              "    .dataframe tbody tr th {\n",
              "        vertical-align: top;\n",
              "    }\n",
              "\n",
              "    .dataframe thead th {\n",
              "        text-align: right;\n",
              "    }\n",
              "</style>\n",
              "<table border=\"1\" class=\"dataframe\">\n",
              "  <thead>\n",
              "    <tr style=\"text-align: right;\">\n",
              "      <th></th>\n",
              "      <th>Year</th>\n",
              "      <th>KM_Travelled</th>\n",
              "      <th>Cost_of_Trip</th>\n",
              "      <th>month</th>\n",
              "      <th>Income</th>\n",
              "      <th>Population</th>\n",
              "      <th>Users</th>\n",
              "    </tr>\n",
              "  </thead>\n",
              "  <tbody>\n",
              "    <tr>\n",
              "      <th>1</th>\n",
              "      <td>2018.0</td>\n",
              "      <td>0.526898</td>\n",
              "      <td>0.440788</td>\n",
              "      <td>7.0</td>\n",
              "      <td>0.267093</td>\n",
              "      <td>0.069379</td>\n",
              "      <td>0.070545</td>\n",
              "    </tr>\n",
              "    <tr>\n",
              "      <th>2</th>\n",
              "      <td>2018.0</td>\n",
              "      <td>0.881779</td>\n",
              "      <td>0.859668</td>\n",
              "      <td>11.0</td>\n",
              "      <td>0.267093</td>\n",
              "      <td>0.069379</td>\n",
              "      <td>0.070545</td>\n",
              "    </tr>\n",
              "    <tr>\n",
              "      <th>4</th>\n",
              "      <td>2018.0</td>\n",
              "      <td>0.747939</td>\n",
              "      <td>0.664750</td>\n",
              "      <td>4.0</td>\n",
              "      <td>0.219330</td>\n",
              "      <td>0.069379</td>\n",
              "      <td>0.070545</td>\n",
              "    </tr>\n",
              "    <tr>\n",
              "      <th>5</th>\n",
              "      <td>2018.0</td>\n",
              "      <td>0.092842</td>\n",
              "      <td>0.096811</td>\n",
              "      <td>5.0</td>\n",
              "      <td>0.219330</td>\n",
              "      <td>0.069379</td>\n",
              "      <td>0.070545</td>\n",
              "    </tr>\n",
              "    <tr>\n",
              "      <th>8</th>\n",
              "      <td>2016.0</td>\n",
              "      <td>0.817787</td>\n",
              "      <td>0.705278</td>\n",
              "      <td>9.0</td>\n",
              "      <td>0.280095</td>\n",
              "      <td>0.069379</td>\n",
              "      <td>0.070545</td>\n",
              "    </tr>\n",
              "    <tr>\n",
              "      <th>...</th>\n",
              "      <td>...</td>\n",
              "      <td>...</td>\n",
              "      <td>...</td>\n",
              "      <td>...</td>\n",
              "      <td>...</td>\n",
              "      <td>...</td>\n",
              "      <td>...</td>\n",
              "    </tr>\n",
              "    <tr>\n",
              "      <th>359387</th>\n",
              "      <td>2018.0</td>\n",
              "      <td>0.791757</td>\n",
              "      <td>0.751813</td>\n",
              "      <td>3.0</td>\n",
              "      <td>0.146351</td>\n",
              "      <td>0.020828</td>\n",
              "      <td>0.413251</td>\n",
              "    </tr>\n",
              "    <tr>\n",
              "      <th>359388</th>\n",
              "      <td>2018.0</td>\n",
              "      <td>0.036226</td>\n",
              "      <td>0.032546</td>\n",
              "      <td>4.0</td>\n",
              "      <td>0.146351</td>\n",
              "      <td>0.020828</td>\n",
              "      <td>0.413251</td>\n",
              "    </tr>\n",
              "    <tr>\n",
              "      <th>359389</th>\n",
              "      <td>2018.0</td>\n",
              "      <td>0.467679</td>\n",
              "      <td>0.471311</td>\n",
              "      <td>7.0</td>\n",
              "      <td>0.146351</td>\n",
              "      <td>0.020828</td>\n",
              "      <td>0.413251</td>\n",
              "    </tr>\n",
              "    <tr>\n",
              "      <th>359390</th>\n",
              "      <td>2018.0</td>\n",
              "      <td>0.557484</td>\n",
              "      <td>0.510952</td>\n",
              "      <td>8.0</td>\n",
              "      <td>0.146351</td>\n",
              "      <td>0.020828</td>\n",
              "      <td>0.413251</td>\n",
              "    </tr>\n",
              "    <tr>\n",
              "      <th>359391</th>\n",
              "      <td>2018.0</td>\n",
              "      <td>0.701518</td>\n",
              "      <td>0.605199</td>\n",
              "      <td>8.0</td>\n",
              "      <td>0.146351</td>\n",
              "      <td>0.020828</td>\n",
              "      <td>0.413251</td>\n",
              "    </tr>\n",
              "  </tbody>\n",
              "</table>\n",
              "<p>274681 rows × 7 columns</p>\n",
              "</div>\n",
              "      <button class=\"colab-df-convert\" onclick=\"convertToInteractive('df-ef2eeca1-9953-436b-9f1a-26da761675be')\"\n",
              "              title=\"Convert this dataframe to an interactive table.\"\n",
              "              style=\"display:none;\">\n",
              "        \n",
              "  <svg xmlns=\"http://www.w3.org/2000/svg\" height=\"24px\"viewBox=\"0 0 24 24\"\n",
              "       width=\"24px\">\n",
              "    <path d=\"M0 0h24v24H0V0z\" fill=\"none\"/>\n",
              "    <path d=\"M18.56 5.44l.94 2.06.94-2.06 2.06-.94-2.06-.94-.94-2.06-.94 2.06-2.06.94zm-11 1L8.5 8.5l.94-2.06 2.06-.94-2.06-.94L8.5 2.5l-.94 2.06-2.06.94zm10 10l.94 2.06.94-2.06 2.06-.94-2.06-.94-.94-2.06-.94 2.06-2.06.94z\"/><path d=\"M17.41 7.96l-1.37-1.37c-.4-.4-.92-.59-1.43-.59-.52 0-1.04.2-1.43.59L10.3 9.45l-7.72 7.72c-.78.78-.78 2.05 0 2.83L4 21.41c.39.39.9.59 1.41.59.51 0 1.02-.2 1.41-.59l7.78-7.78 2.81-2.81c.8-.78.8-2.07 0-2.86zM5.41 20L4 18.59l7.72-7.72 1.47 1.35L5.41 20z\"/>\n",
              "  </svg>\n",
              "      </button>\n",
              "      \n",
              "  <style>\n",
              "    .colab-df-container {\n",
              "      display:flex;\n",
              "      flex-wrap:wrap;\n",
              "      gap: 12px;\n",
              "    }\n",
              "\n",
              "    .colab-df-convert {\n",
              "      background-color: #E8F0FE;\n",
              "      border: none;\n",
              "      border-radius: 50%;\n",
              "      cursor: pointer;\n",
              "      display: none;\n",
              "      fill: #1967D2;\n",
              "      height: 32px;\n",
              "      padding: 0 0 0 0;\n",
              "      width: 32px;\n",
              "    }\n",
              "\n",
              "    .colab-df-convert:hover {\n",
              "      background-color: #E2EBFA;\n",
              "      box-shadow: 0px 1px 2px rgba(60, 64, 67, 0.3), 0px 1px 3px 1px rgba(60, 64, 67, 0.15);\n",
              "      fill: #174EA6;\n",
              "    }\n",
              "\n",
              "    [theme=dark] .colab-df-convert {\n",
              "      background-color: #3B4455;\n",
              "      fill: #D2E3FC;\n",
              "    }\n",
              "\n",
              "    [theme=dark] .colab-df-convert:hover {\n",
              "      background-color: #434B5C;\n",
              "      box-shadow: 0px 1px 3px 1px rgba(0, 0, 0, 0.15);\n",
              "      filter: drop-shadow(0px 1px 2px rgba(0, 0, 0, 0.3));\n",
              "      fill: #FFFFFF;\n",
              "    }\n",
              "  </style>\n",
              "\n",
              "      <script>\n",
              "        const buttonEl =\n",
              "          document.querySelector('#df-ef2eeca1-9953-436b-9f1a-26da761675be button.colab-df-convert');\n",
              "        buttonEl.style.display =\n",
              "          google.colab.kernel.accessAllowed ? 'block' : 'none';\n",
              "\n",
              "        async function convertToInteractive(key) {\n",
              "          const element = document.querySelector('#df-ef2eeca1-9953-436b-9f1a-26da761675be');\n",
              "          const dataTable =\n",
              "            await google.colab.kernel.invokeFunction('convertToInteractive',\n",
              "                                                     [key], {});\n",
              "          if (!dataTable) return;\n",
              "\n",
              "          const docLinkHtml = 'Like what you see? Visit the ' +\n",
              "            '<a target=\"_blank\" href=https://colab.research.google.com/notebooks/data_table.ipynb>data table notebook</a>'\n",
              "            + ' to learn more about interactive tables.';\n",
              "          element.innerHTML = '';\n",
              "          dataTable['output_type'] = 'display_data';\n",
              "          await google.colab.output.renderOutput(dataTable, element);\n",
              "          const docLink = document.createElement('div');\n",
              "          docLink.innerHTML = docLinkHtml;\n",
              "          element.appendChild(docLink);\n",
              "        }\n",
              "      </script>\n",
              "    </div>\n",
              "  </div>\n",
              "  "
            ]
          },
          "metadata": {},
          "execution_count": 89
        }
      ]
    },
    {
      "cell_type": "code",
      "source": [
        "trainX, testX, trainY, testY = train_test_split(yellowselect, YellowCab_y, test_size=0.2)\n",
        "lm = linear_model.LinearRegression()\n",
        "lm.fit(trainX, trainY)\n",
        "# Inspect the calculated model equations\n",
        "print(\"Y-axis intercept {:6.4f}\".format(lm.intercept_))\n",
        "print(\"Weight coefficients:\")\n",
        "for feat, coef in zip(yellowselect, lm.coef_):\n",
        "    print(\" {:>20}: {:6.4f}\".format(feat, coef))\n",
        "# The value of R^2\n",
        "print(\"R squared for the training data is {:4.3f}\".format(lm.score(trainX, trainY)))\n",
        "print(\"Score against test data: {:4.3f}\".format(lm.score(testX, testY)))"
      ],
      "metadata": {
        "colab": {
          "base_uri": "https://localhost:8080/"
        },
        "id": "LrZodrJ4Ztcg",
        "outputId": "c3745746-675f-4ac2-c4f4-37dd2e155387"
      },
      "execution_count": 90,
      "outputs": [
        {
          "output_type": "stream",
          "name": "stdout",
          "text": [
            "Y-axis intercept 17.2252\n",
            "Weight coefficients:\n",
            "                 Year: -0.0085\n",
            "         KM_Travelled: 0.5741\n",
            "         Cost_of_Trip: -0.4119\n",
            "                month: -0.0047\n",
            "               Income: -0.0001\n",
            "           Population: 0.2303\n",
            "                Users: -0.1155\n",
            "R squared for the training data is 0.640\n",
            "Score against test data: 0.643\n"
          ]
        }
      ]
    },
    {
      "cell_type": "code",
      "source": [
        "sum(YellowCab_y)"
      ],
      "metadata": {
        "colab": {
          "base_uri": "https://localhost:8080/"
        },
        "id": "2K-jc8wRyQ3R",
        "outputId": "2e66b518-a6c5-44e0-95fc-4a658e05a10b"
      },
      "execution_count": 91,
      "outputs": [
        {
          "output_type": "execute_result",
          "data": {
            "text/plain": [
              "56444.68454420752"
            ]
          },
          "metadata": {},
          "execution_count": 91
        }
      ]
    },
    {
      "cell_type": "code",
      "source": [
        "print('Yellow Cab Company Forecasted profit: {}'.format(((sum(lm.predict(yellowselect)) - (sum(YellowCab_y))) /  (sum(YellowCab_y)))  * 100))"
      ],
      "metadata": {
        "colab": {
          "base_uri": "https://localhost:8080/"
        },
        "id": "jQ1Sqzshzx2x",
        "outputId": "19b1240b-5348-4b71-b13b-0ea78274758d"
      },
      "execution_count": 92,
      "outputs": [
        {
          "output_type": "stream",
          "name": "stdout",
          "text": [
            "Yellow Cab Company Forecasted profit: -0.013371662531638849\n"
          ]
        }
      ]
    },
    {
      "cell_type": "code",
      "source": [
        "(((sum(lm.predict(yellowselect))) - (sum(YellowCab_y)))/ sum(YellowCab_y)) * 100"
      ],
      "metadata": {
        "colab": {
          "base_uri": "https://localhost:8080/"
        },
        "id": "wsVd11ppv_IS",
        "outputId": "e53a8fbb-a3d5-450a-96e2-ad5c9ae7e362"
      },
      "execution_count": 93,
      "outputs": [
        {
          "output_type": "execute_result",
          "data": {
            "text/plain": [
              "-0.013371662531638849"
            ]
          },
          "metadata": {},
          "execution_count": 93
        }
      ]
    },
    {
      "cell_type": "code",
      "source": [
        "import statsmodels.formula.api as smf\n",
        "model = smf.ols(formula='Profit ~ Year\t+ KM_Travelled\t+ Cost_of_Trip +\tmonth \t+ Income + Population\t+ Users', data=yellownorm).fit()\n",
        "print(model.params)\n",
        "print('R squared is: ', model.rsquared)\n",
        "model.summary()"
      ],
      "metadata": {
        "colab": {
          "base_uri": "https://localhost:8080/",
          "height": 788
        },
        "id": "h_Snnc-7QvHt",
        "outputId": "fe14c445-6aa8-4fda-f4f5-10ae11ba537c"
      },
      "execution_count": 94,
      "outputs": [
        {
          "output_type": "stream",
          "name": "stdout",
          "text": [
            "Intercept       17.416524\n",
            "Year            -0.008571\n",
            "KM_Travelled     0.572665\n",
            "Cost_of_Trip    -0.410065\n",
            "month           -0.004756\n",
            "Income          -0.000258\n",
            "Population       0.230478\n",
            "Users           -0.115600\n",
            "dtype: float64\n",
            "R squared is:  0.6407508858875939\n"
          ]
        },
        {
          "output_type": "execute_result",
          "data": {
            "text/plain": [
              "<class 'statsmodels.iolib.summary.Summary'>\n",
              "\"\"\"\n",
              "                            OLS Regression Results                            \n",
              "==============================================================================\n",
              "Dep. Variable:                 Profit   R-squared:                       0.641\n",
              "Model:                            OLS   Adj. R-squared:                  0.641\n",
              "Method:                 Least Squares   F-statistic:                 6.999e+04\n",
              "Date:                Thu, 23 Jun 2022   Prob (F-statistic):               0.00\n",
              "Time:                        12:36:15   Log-Likelihood:             3.7067e+05\n",
              "No. Observations:              274681   AIC:                        -7.413e+05\n",
              "Df Residuals:                  274673   BIC:                        -7.412e+05\n",
              "Df Model:                           7                                         \n",
              "Covariance Type:            nonrobust                                         \n",
              "================================================================================\n",
              "                   coef    std err          t      P>|t|      [0.025      0.975]\n",
              "--------------------------------------------------------------------------------\n",
              "Intercept       17.4165      0.302     57.685      0.000      16.825      18.008\n",
              "Year            -0.0086      0.000    -57.262      0.000      -0.009      -0.008\n",
              "KM_Travelled     0.5727      0.004    145.674      0.000       0.565       0.580\n",
              "Cost_of_Trip    -0.4101      0.004    -95.588      0.000      -0.418      -0.402\n",
              "month           -0.0048   3.47e-05   -137.206      0.000      -0.005      -0.005\n",
              "Income          -0.0003      0.000     -0.521      0.603      -0.001       0.001\n",
              "Population       0.2305      0.001    309.861      0.000       0.229       0.232\n",
              "Users           -0.1156      0.001   -124.374      0.000      -0.117      -0.114\n",
              "==============================================================================\n",
              "Omnibus:                    50674.954   Durbin-Watson:                   1.806\n",
              "Prob(Omnibus):                  0.000   Jarque-Bera (JB):           185952.238\n",
              "Skew:                           0.902   Prob(JB):                         0.00\n",
              "Kurtosis:                       6.604   Cond. No.                     5.09e+06\n",
              "==============================================================================\n",
              "\n",
              "Warnings:\n",
              "[1] Standard Errors assume that the covariance matrix of the errors is correctly specified.\n",
              "[2] The condition number is large, 5.09e+06. This might indicate that there are\n",
              "strong multicollinearity or other numerical problems.\n",
              "\"\"\""
            ],
            "text/html": [
              "<table class=\"simpletable\">\n",
              "<caption>OLS Regression Results</caption>\n",
              "<tr>\n",
              "  <th>Dep. Variable:</th>         <td>Profit</td>      <th>  R-squared:         </th>  <td>   0.641</td> \n",
              "</tr>\n",
              "<tr>\n",
              "  <th>Model:</th>                   <td>OLS</td>       <th>  Adj. R-squared:    </th>  <td>   0.641</td> \n",
              "</tr>\n",
              "<tr>\n",
              "  <th>Method:</th>             <td>Least Squares</td>  <th>  F-statistic:       </th>  <td>6.999e+04</td>\n",
              "</tr>\n",
              "<tr>\n",
              "  <th>Date:</th>             <td>Thu, 23 Jun 2022</td> <th>  Prob (F-statistic):</th>   <td>  0.00</td>  \n",
              "</tr>\n",
              "<tr>\n",
              "  <th>Time:</th>                 <td>12:36:15</td>     <th>  Log-Likelihood:    </th> <td>3.7067e+05</td>\n",
              "</tr>\n",
              "<tr>\n",
              "  <th>No. Observations:</th>      <td>274681</td>      <th>  AIC:               </th> <td>-7.413e+05</td>\n",
              "</tr>\n",
              "<tr>\n",
              "  <th>Df Residuals:</th>          <td>274673</td>      <th>  BIC:               </th> <td>-7.412e+05</td>\n",
              "</tr>\n",
              "<tr>\n",
              "  <th>Df Model:</th>              <td>     7</td>      <th>                     </th>      <td> </td>    \n",
              "</tr>\n",
              "<tr>\n",
              "  <th>Covariance Type:</th>      <td>nonrobust</td>    <th>                     </th>      <td> </td>    \n",
              "</tr>\n",
              "</table>\n",
              "<table class=\"simpletable\">\n",
              "<tr>\n",
              "        <td></td>          <th>coef</th>     <th>std err</th>      <th>t</th>      <th>P>|t|</th>  <th>[0.025</th>    <th>0.975]</th>  \n",
              "</tr>\n",
              "<tr>\n",
              "  <th>Intercept</th>    <td>   17.4165</td> <td>    0.302</td> <td>   57.685</td> <td> 0.000</td> <td>   16.825</td> <td>   18.008</td>\n",
              "</tr>\n",
              "<tr>\n",
              "  <th>Year</th>         <td>   -0.0086</td> <td>    0.000</td> <td>  -57.262</td> <td> 0.000</td> <td>   -0.009</td> <td>   -0.008</td>\n",
              "</tr>\n",
              "<tr>\n",
              "  <th>KM_Travelled</th> <td>    0.5727</td> <td>    0.004</td> <td>  145.674</td> <td> 0.000</td> <td>    0.565</td> <td>    0.580</td>\n",
              "</tr>\n",
              "<tr>\n",
              "  <th>Cost_of_Trip</th> <td>   -0.4101</td> <td>    0.004</td> <td>  -95.588</td> <td> 0.000</td> <td>   -0.418</td> <td>   -0.402</td>\n",
              "</tr>\n",
              "<tr>\n",
              "  <th>month</th>        <td>   -0.0048</td> <td> 3.47e-05</td> <td> -137.206</td> <td> 0.000</td> <td>   -0.005</td> <td>   -0.005</td>\n",
              "</tr>\n",
              "<tr>\n",
              "  <th>Income</th>       <td>   -0.0003</td> <td>    0.000</td> <td>   -0.521</td> <td> 0.603</td> <td>   -0.001</td> <td>    0.001</td>\n",
              "</tr>\n",
              "<tr>\n",
              "  <th>Population</th>   <td>    0.2305</td> <td>    0.001</td> <td>  309.861</td> <td> 0.000</td> <td>    0.229</td> <td>    0.232</td>\n",
              "</tr>\n",
              "<tr>\n",
              "  <th>Users</th>        <td>   -0.1156</td> <td>    0.001</td> <td> -124.374</td> <td> 0.000</td> <td>   -0.117</td> <td>   -0.114</td>\n",
              "</tr>\n",
              "</table>\n",
              "<table class=\"simpletable\">\n",
              "<tr>\n",
              "  <th>Omnibus:</th>       <td>50674.954</td> <th>  Durbin-Watson:     </th>  <td>   1.806</td> \n",
              "</tr>\n",
              "<tr>\n",
              "  <th>Prob(Omnibus):</th>  <td> 0.000</td>   <th>  Jarque-Bera (JB):  </th> <td>185952.238</td>\n",
              "</tr>\n",
              "<tr>\n",
              "  <th>Skew:</th>           <td> 0.902</td>   <th>  Prob(JB):          </th>  <td>    0.00</td> \n",
              "</tr>\n",
              "<tr>\n",
              "  <th>Kurtosis:</th>       <td> 6.604</td>   <th>  Cond. No.          </th>  <td>5.09e+06</td> \n",
              "</tr>\n",
              "</table><br/><br/>Warnings:<br/>[1] Standard Errors assume that the covariance matrix of the errors is correctly specified.<br/>[2] The condition number is large, 5.09e+06. This might indicate that there are<br/>strong multicollinearity or other numerical problems."
            ]
          },
          "metadata": {},
          "execution_count": 94
        }
      ]
    },
    {
      "cell_type": "code",
      "source": [
        "trainX, testX, trainY, testY = train_test_split(pinkselects, PinkCab_y, test_size=0.2)\n",
        "lm2 = linear_model.LinearRegression()\n",
        "lm2.fit(trainX, trainY)\n",
        "# Inspect the calculated model equations\n",
        "print(\"Y-axis intercept {:6.4f}\".format(lm.intercept_))\n",
        "print(\"Weight coefficients:\")\n",
        "for feat, coef in zip(pinkselect, lm.coef_):\n",
        "    print(\" {:>20}: {:6.4f}\".format(feat, coef))\n",
        "# The value of R^2\n",
        "print(\"R squared for the training data is {:4.3f}\".format(lm.score(trainX, trainY)))\n",
        "print(\"Score against test data: {:4.3f}\".format(lm.score(testX, testY)))"
      ],
      "metadata": {
        "colab": {
          "base_uri": "https://localhost:8080/"
        },
        "id": "cLOYnE4sPXXK",
        "outputId": "25a3975c-827c-409b-958a-8a5dfc961d99"
      },
      "execution_count": 95,
      "outputs": [
        {
          "output_type": "stream",
          "name": "stdout",
          "text": [
            "Y-axis intercept 17.2252\n",
            "Weight coefficients:\n",
            "                 Year: -0.0085\n",
            "         KM_Travelled: 0.5741\n",
            "         Cost_of_Trip: -0.4119\n",
            "                month: -0.0047\n",
            "                  Age: -0.0001\n",
            "           Population: 0.2303\n",
            "                Users: -0.1155\n",
            "R squared for the training data is -0.406\n",
            "Score against test data: -0.424\n"
          ]
        },
        {
          "output_type": "stream",
          "name": "stderr",
          "text": [
            "/usr/local/lib/python3.7/dist-packages/sklearn/base.py:493: FutureWarning: The feature names should match those that were passed during fit. Starting version 1.2, an error will be raised.\n",
            "Feature names unseen at fit time:\n",
            "- Age\n",
            "Feature names seen at fit time, yet now missing:\n",
            "- Income\n",
            "\n",
            "  warnings.warn(message, FutureWarning)\n",
            "/usr/local/lib/python3.7/dist-packages/sklearn/base.py:493: FutureWarning: The feature names should match those that were passed during fit. Starting version 1.2, an error will be raised.\n",
            "Feature names unseen at fit time:\n",
            "- Age\n",
            "Feature names seen at fit time, yet now missing:\n",
            "- Income\n",
            "\n",
            "  warnings.warn(message, FutureWarning)\n"
          ]
        }
      ]
    },
    {
      "cell_type": "code",
      "source": [
        "print('Pink Cab Company Forecasted profit: {}'.format(((sum(lm2.predict(pinkselects)) - sum(PinkCab_y))/ (sum(PinkCab_y))) * 100))"
      ],
      "metadata": {
        "colab": {
          "base_uri": "https://localhost:8080/"
        },
        "id": "jl80SRMILzm5",
        "outputId": "224c17ad-7a9f-46f3-dd98-880960486c4c"
      },
      "execution_count": 96,
      "outputs": [
        {
          "output_type": "stream",
          "name": "stdout",
          "text": [
            "Pink Cab Company Forecasted profit: -0.013855923821378742\n"
          ]
        }
      ]
    },
    {
      "cell_type": "code",
      "source": [
        "import statsmodels.formula.api as smf\n",
        "model = smf.ols(formula='Price_Charged ~ Year\t+ KM_Travelled\t+ Cost_of_Trip +\tmonth \t+ Age + Population\t+ Users', data=pinknorm).fit()\n",
        "print(model.params)\n",
        "print('R squared is: ', model.rsquared)\n",
        "model.summary()"
      ],
      "metadata": {
        "id": "pIi2ytGBV4NC",
        "colab": {
          "base_uri": "https://localhost:8080/",
          "height": 788
        },
        "outputId": "1269875c-4ac0-4c81-c5b4-8dc983bc90da"
      },
      "execution_count": 97,
      "outputs": [
        {
          "output_type": "stream",
          "name": "stdout",
          "text": [
            "Intercept       9.641928\n",
            "Year           -0.004781\n",
            "KM_Travelled    0.386462\n",
            "Cost_of_Trip    0.010286\n",
            "month           0.000554\n",
            "Age            -0.000481\n",
            "Population      0.056707\n",
            "Users          -0.024813\n",
            "dtype: float64\n",
            "R squared is:  0.8749412452229592\n"
          ]
        },
        {
          "output_type": "execute_result",
          "data": {
            "text/plain": [
              "<class 'statsmodels.iolib.summary.Summary'>\n",
              "\"\"\"\n",
              "                            OLS Regression Results                            \n",
              "==============================================================================\n",
              "Dep. Variable:          Price_Charged   R-squared:                       0.875\n",
              "Model:                            OLS   Adj. R-squared:                  0.875\n",
              "Method:                 Least Squares   F-statistic:                 8.466e+04\n",
              "Date:                Thu, 23 Jun 2022   Prob (F-statistic):               0.00\n",
              "Time:                        12:36:15   Log-Likelihood:             1.5242e+05\n",
              "No. Observations:               84711   AIC:                        -3.048e+05\n",
              "Df Residuals:                   84703   BIC:                        -3.047e+05\n",
              "Df Model:                           7                                         \n",
              "Covariance Type:            nonrobust                                         \n",
              "================================================================================\n",
              "                   coef    std err          t      P>|t|      [0.025      0.975]\n",
              "--------------------------------------------------------------------------------\n",
              "Intercept        9.6419      0.347     27.772      0.000       8.961      10.322\n",
              "Year            -0.0048      0.000    -27.780      0.000      -0.005      -0.004\n",
              "KM_Travelled     0.3865      0.005     85.720      0.000       0.378       0.395\n",
              "Cost_of_Trip     0.0103      0.005      2.090      0.037       0.001       0.020\n",
              "month            0.0006   4.14e-05     13.388      0.000       0.000       0.001\n",
              "Age             -0.0005      0.001     -0.940      0.347      -0.001       0.001\n",
              "Population       0.0567      0.001     64.008      0.000       0.055       0.058\n",
              "Users           -0.0248      0.001    -26.528      0.000      -0.027      -0.023\n",
              "==============================================================================\n",
              "Omnibus:                    28357.610   Durbin-Watson:                   1.787\n",
              "Prob(Omnibus):                  0.000   Jarque-Bera (JB):           313866.134\n",
              "Skew:                           1.292   Prob(JB):                         0.00\n",
              "Kurtosis:                      12.069   Cond. No.                     5.09e+06\n",
              "==============================================================================\n",
              "\n",
              "Warnings:\n",
              "[1] Standard Errors assume that the covariance matrix of the errors is correctly specified.\n",
              "[2] The condition number is large, 5.09e+06. This might indicate that there are\n",
              "strong multicollinearity or other numerical problems.\n",
              "\"\"\""
            ],
            "text/html": [
              "<table class=\"simpletable\">\n",
              "<caption>OLS Regression Results</caption>\n",
              "<tr>\n",
              "  <th>Dep. Variable:</th>      <td>Price_Charged</td>  <th>  R-squared:         </th>  <td>   0.875</td> \n",
              "</tr>\n",
              "<tr>\n",
              "  <th>Model:</th>                   <td>OLS</td>       <th>  Adj. R-squared:    </th>  <td>   0.875</td> \n",
              "</tr>\n",
              "<tr>\n",
              "  <th>Method:</th>             <td>Least Squares</td>  <th>  F-statistic:       </th>  <td>8.466e+04</td>\n",
              "</tr>\n",
              "<tr>\n",
              "  <th>Date:</th>             <td>Thu, 23 Jun 2022</td> <th>  Prob (F-statistic):</th>   <td>  0.00</td>  \n",
              "</tr>\n",
              "<tr>\n",
              "  <th>Time:</th>                 <td>12:36:15</td>     <th>  Log-Likelihood:    </th> <td>1.5242e+05</td>\n",
              "</tr>\n",
              "<tr>\n",
              "  <th>No. Observations:</th>      <td> 84711</td>      <th>  AIC:               </th> <td>-3.048e+05</td>\n",
              "</tr>\n",
              "<tr>\n",
              "  <th>Df Residuals:</th>          <td> 84703</td>      <th>  BIC:               </th> <td>-3.047e+05</td>\n",
              "</tr>\n",
              "<tr>\n",
              "  <th>Df Model:</th>              <td>     7</td>      <th>                     </th>      <td> </td>    \n",
              "</tr>\n",
              "<tr>\n",
              "  <th>Covariance Type:</th>      <td>nonrobust</td>    <th>                     </th>      <td> </td>    \n",
              "</tr>\n",
              "</table>\n",
              "<table class=\"simpletable\">\n",
              "<tr>\n",
              "        <td></td>          <th>coef</th>     <th>std err</th>      <th>t</th>      <th>P>|t|</th>  <th>[0.025</th>    <th>0.975]</th>  \n",
              "</tr>\n",
              "<tr>\n",
              "  <th>Intercept</th>    <td>    9.6419</td> <td>    0.347</td> <td>   27.772</td> <td> 0.000</td> <td>    8.961</td> <td>   10.322</td>\n",
              "</tr>\n",
              "<tr>\n",
              "  <th>Year</th>         <td>   -0.0048</td> <td>    0.000</td> <td>  -27.780</td> <td> 0.000</td> <td>   -0.005</td> <td>   -0.004</td>\n",
              "</tr>\n",
              "<tr>\n",
              "  <th>KM_Travelled</th> <td>    0.3865</td> <td>    0.005</td> <td>   85.720</td> <td> 0.000</td> <td>    0.378</td> <td>    0.395</td>\n",
              "</tr>\n",
              "<tr>\n",
              "  <th>Cost_of_Trip</th> <td>    0.0103</td> <td>    0.005</td> <td>    2.090</td> <td> 0.037</td> <td>    0.001</td> <td>    0.020</td>\n",
              "</tr>\n",
              "<tr>\n",
              "  <th>month</th>        <td>    0.0006</td> <td> 4.14e-05</td> <td>   13.388</td> <td> 0.000</td> <td>    0.000</td> <td>    0.001</td>\n",
              "</tr>\n",
              "<tr>\n",
              "  <th>Age</th>          <td>   -0.0005</td> <td>    0.001</td> <td>   -0.940</td> <td> 0.347</td> <td>   -0.001</td> <td>    0.001</td>\n",
              "</tr>\n",
              "<tr>\n",
              "  <th>Population</th>   <td>    0.0567</td> <td>    0.001</td> <td>   64.008</td> <td> 0.000</td> <td>    0.055</td> <td>    0.058</td>\n",
              "</tr>\n",
              "<tr>\n",
              "  <th>Users</th>        <td>   -0.0248</td> <td>    0.001</td> <td>  -26.528</td> <td> 0.000</td> <td>   -0.027</td> <td>   -0.023</td>\n",
              "</tr>\n",
              "</table>\n",
              "<table class=\"simpletable\">\n",
              "<tr>\n",
              "  <th>Omnibus:</th>       <td>28357.610</td> <th>  Durbin-Watson:     </th>  <td>   1.787</td> \n",
              "</tr>\n",
              "<tr>\n",
              "  <th>Prob(Omnibus):</th>  <td> 0.000</td>   <th>  Jarque-Bera (JB):  </th> <td>313866.134</td>\n",
              "</tr>\n",
              "<tr>\n",
              "  <th>Skew:</th>           <td> 1.292</td>   <th>  Prob(JB):          </th>  <td>    0.00</td> \n",
              "</tr>\n",
              "<tr>\n",
              "  <th>Kurtosis:</th>       <td>12.069</td>   <th>  Cond. No.          </th>  <td>5.09e+06</td> \n",
              "</tr>\n",
              "</table><br/><br/>Warnings:<br/>[1] Standard Errors assume that the covariance matrix of the errors is correctly specified.<br/>[2] The condition number is large, 5.09e+06. This might indicate that there are<br/>strong multicollinearity or other numerical problems."
            ]
          },
          "metadata": {},
          "execution_count": 97
        }
      ]
    },
    {
      "cell_type": "code",
      "source": [
        "datadf3 = datadf.copy()"
      ],
      "metadata": {
        "id": "eEjFITUOZhxS"
      },
      "execution_count": 142,
      "outputs": []
    },
    {
      "cell_type": "code",
      "source": [
        "datadf3.loc[:,'Gender'][datadf3.loc[:,'Gender'] == 'Male'] = 1\n",
        "datadf3.loc[:,'Gender'][datadf3.loc[:,'Gender'] == 'Female'] = 0\n",
        "datadf3.loc[:,'Payment_Mode'][datadf3.loc[:,'Payment_Mode'] == 'Card'] = 1\n",
        "datadf3.loc[:,'Payment_Mode'][datadf3.loc[:,'Payment_Mode'] == 'Cash'] = 0\n",
        "datadf3.loc[:,'Company'][datadf3.loc[:,'Company'] == 'Pink Cab'] = 1\n",
        "datadf3.loc[:,'Company'][datadf3.loc[:,'Company'] == 'Yellow Cab'] = 0"
      ],
      "metadata": {
        "id": "mE69ooswYQx-",
        "colab": {
          "base_uri": "https://localhost:8080/"
        },
        "outputId": "6591e0f8-21d0-4bad-9b43-bf031e661418"
      },
      "execution_count": 143,
      "outputs": [
        {
          "output_type": "stream",
          "name": "stderr",
          "text": [
            "/usr/local/lib/python3.7/dist-packages/ipykernel_launcher.py:1: SettingWithCopyWarning: \n",
            "A value is trying to be set on a copy of a slice from a DataFrame\n",
            "\n",
            "See the caveats in the documentation: https://pandas.pydata.org/pandas-docs/stable/user_guide/indexing.html#returning-a-view-versus-a-copy\n",
            "  \"\"\"Entry point for launching an IPython kernel.\n",
            "/usr/local/lib/python3.7/dist-packages/ipykernel_launcher.py:2: SettingWithCopyWarning: \n",
            "A value is trying to be set on a copy of a slice from a DataFrame\n",
            "\n",
            "See the caveats in the documentation: https://pandas.pydata.org/pandas-docs/stable/user_guide/indexing.html#returning-a-view-versus-a-copy\n",
            "  \n",
            "/usr/local/lib/python3.7/dist-packages/ipykernel_launcher.py:3: SettingWithCopyWarning: \n",
            "A value is trying to be set on a copy of a slice from a DataFrame\n",
            "\n",
            "See the caveats in the documentation: https://pandas.pydata.org/pandas-docs/stable/user_guide/indexing.html#returning-a-view-versus-a-copy\n",
            "  This is separate from the ipykernel package so we can avoid doing imports until\n",
            "/usr/local/lib/python3.7/dist-packages/ipykernel_launcher.py:4: SettingWithCopyWarning: \n",
            "A value is trying to be set on a copy of a slice from a DataFrame\n",
            "\n",
            "See the caveats in the documentation: https://pandas.pydata.org/pandas-docs/stable/user_guide/indexing.html#returning-a-view-versus-a-copy\n",
            "  after removing the cwd from sys.path.\n",
            "/usr/local/lib/python3.7/dist-packages/ipykernel_launcher.py:5: SettingWithCopyWarning: \n",
            "A value is trying to be set on a copy of a slice from a DataFrame\n",
            "\n",
            "See the caveats in the documentation: https://pandas.pydata.org/pandas-docs/stable/user_guide/indexing.html#returning-a-view-versus-a-copy\n",
            "  \"\"\"\n",
            "/usr/local/lib/python3.7/dist-packages/ipykernel_launcher.py:6: SettingWithCopyWarning: \n",
            "A value is trying to be set on a copy of a slice from a DataFrame\n",
            "\n",
            "See the caveats in the documentation: https://pandas.pydata.org/pandas-docs/stable/user_guide/indexing.html#returning-a-view-versus-a-copy\n",
            "  \n"
          ]
        }
      ]
    },
    {
      "cell_type": "code",
      "source": [
        "#datadf3num = datadf3.select_dtypes(include = np.number).copy()"
      ],
      "metadata": {
        "id": "7vimU4ojhhz_"
      },
      "execution_count": 100,
      "outputs": []
    },
    {
      "cell_type": "code",
      "source": [
        "#datadf3norm = (datadf3num - datadf3num.min())/ (datadf3num.max() - datadf3num.min())"
      ],
      "metadata": {
        "id": "8JkRlZQHiUo0"
      },
      "execution_count": 101,
      "outputs": []
    },
    {
      "cell_type": "code",
      "source": [
        "#datadf3.loc[:, datadf3num.columns] = datadf3norm"
      ],
      "metadata": {
        "id": "mNdeU40KnjpR"
      },
      "execution_count": 102,
      "outputs": []
    },
    {
      "cell_type": "code",
      "source": [
        "datadf3 = pd.get_dummies(datadf3, columns  = ['City'])"
      ],
      "metadata": {
        "id": "znUEsJnKnmgC"
      },
      "execution_count": 144,
      "outputs": []
    },
    {
      "cell_type": "code",
      "source": [
        "X = datadf3.select_dtypes(include=[np.number]).copy()\n",
        "scaler = StandardScaler()\n",
        "\n",
        "X0 = scaler.fit_transform(X)\n",
        "X0 =  pd.DataFrame(X0, index=X.index, columns=X.columns)\n",
        "Y0 = datadf3['Company'].astype('int')"
      ],
      "metadata": {
        "id": "SKW6tRaesjIr"
      },
      "execution_count": 146,
      "outputs": []
    },
    {
      "cell_type": "code",
      "source": [
        "X0['Date_of_Travel'] =  datadf['Date_of_Travel']\n",
        "X0['month'] =  datadf[ 'month']\n",
        "X0 = X0.drop([  'Transaction_ID', 'Customer_ID'], axis = 1)"
      ],
      "metadata": {
        "id": "RNprXUBlh5Mp"
      },
      "execution_count": 147,
      "outputs": []
    },
    {
      "cell_type": "code",
      "source": [
        "#Showing the percentage of the responses\n",
        "print(Y0.value_counts()/Y0.size)\n",
        "\n",
        "Y0.hist(figsize = (10,10))\n",
        "plt.show()"
      ],
      "metadata": {
        "colab": {
          "base_uri": "https://localhost:8080/",
          "height": 644
        },
        "id": "aov4isK0jiQu",
        "outputId": "c5393cb2-753d-40e9-fae6-a15e0a9f3550"
      },
      "execution_count": 148,
      "outputs": [
        {
          "output_type": "stream",
          "name": "stdout",
          "text": [
            "0    0.764294\n",
            "1    0.235706\n",
            "Name: Company, dtype: float64\n"
          ]
        },
        {
          "output_type": "display_data",
          "data": {
            "text/plain": [
              "<Figure size 720x720 with 1 Axes>"
            ],
            "image/png": "[encoded data removed]"
          },
          "metadata": {
            "needs_background": "light"
          }
        }
      ]
    },
    {
      "cell_type": "code",
      "source": [
        "grouped = datadf3.groupby('Company').mean() \n",
        "grouped"
      ],
      "metadata": {
        "id": "OLgmTprHkSsd",
        "colab": {
          "base_uri": "https://localhost:8080/",
          "height": 254
        },
        "outputId": "48b234f6-760e-456d-9192-eecce0dad1ee"
      },
      "execution_count": 154,
      "outputs": [
        {
          "output_type": "execute_result",
          "data": {
            "text/plain": [
              "         Transaction_ID  Date_of_Travel  KM_Travelled  Price_Charged  \\\n",
              "Company                                                                \n",
              "0          1.021978e+07     2017.043738     22.569517     458.181990   \n",
              "1          1.022394e+07     2017.049934     22.559917     310.800856   \n",
              "\n",
              "         Cost_of_Trip    month   Customer_ID      Profit        Age  \\\n",
              "Company                                                               \n",
              "0          297.922004  7.40543  19428.831732  160.259986  35.341112   \n",
              "1          248.148682  7.80849  18422.581577   62.652174  35.322414   \n",
              "\n",
              "               Income  ...  City_NEW YORK NY  City_ORANGE COUNTY  \\\n",
              "Company                ...                                         \n",
              "0        15045.669817  ...          0.312792            0.008989   \n",
              "1        15059.047137  ...          0.164878            0.017861   \n",
              "\n",
              "         City_PHOENIX AZ  City_PITTSBURGH PA  City_SACRAMENTO CA  \\\n",
              "Company                                                            \n",
              "0               0.004369            0.002297            0.003761   \n",
              "1               0.010199            0.008051            0.015748   \n",
              "\n",
              "         City_SAN DIEGO CA  City_SEATTLE WA  City_SILICON VALLEY  \\\n",
              "Company                                                            \n",
              "0                 0.035736         0.019168             0.017191   \n",
              "1                 0.125981         0.032251             0.044823   \n",
              "\n",
              "         City_TUCSON AZ  City_WASHINGTON DC  \n",
              "Company                                      \n",
              "0              0.004121            0.145787  \n",
              "1              0.009432            0.043583  \n",
              "\n",
              "[2 rows x 31 columns]"
            ],
            "text/html": [
              "\n",
              "  <div id=\"df-3b3e48b8-3020-43db-a39f-e344dc98407d\">\n",
              "    <div class=\"colab-df-container\">\n",
              "      <div>\n",
              "<style scoped>\n",
              "    .dataframe tbody tr th:only-of-type {\n",
              "        vertical-align: middle;\n",
              "    }\n",
              "\n",
              "    .dataframe tbody tr th {\n",
              "        vertical-align: top;\n",
              "    }\n",
              "\n",
              "    .dataframe thead th {\n",
              "        text-align: right;\n",
              "    }\n",
              "</style>\n",
              "<table border=\"1\" class=\"dataframe\">\n",
              "  <thead>\n",
              "    <tr style=\"text-align: right;\">\n",
              "      <th></th>\n",
              "      <th>Transaction_ID</th>\n",
              "      <th>Date_of_Travel</th>\n",
              "      <th>KM_Travelled</th>\n",
              "      <th>Price_Charged</th>\n",
              "      <th>Cost_of_Trip</th>\n",
              "      <th>month</th>\n",
              "      <th>Customer_ID</th>\n",
              "      <th>Profit</th>\n",
              "      <th>Age</th>\n",
              "      <th>Income</th>\n",
              "      <th>...</th>\n",
              "      <th>City_NEW YORK NY</th>\n",
              "      <th>City_ORANGE COUNTY</th>\n",
              "      <th>City_PHOENIX AZ</th>\n",
              "      <th>City_PITTSBURGH PA</th>\n",
              "      <th>City_SACRAMENTO CA</th>\n",
              "      <th>City_SAN DIEGO CA</th>\n",
              "      <th>City_SEATTLE WA</th>\n",
              "      <th>City_SILICON VALLEY</th>\n",
              "      <th>City_TUCSON AZ</th>\n",
              "      <th>City_WASHINGTON DC</th>\n",
              "    </tr>\n",
              "    <tr>\n",
              "      <th>Company</th>\n",
              "      <th></th>\n",
              "      <th></th>\n",
              "      <th></th>\n",
              "      <th></th>\n",
              "      <th></th>\n",
              "      <th></th>\n",
              "      <th></th>\n",
              "      <th></th>\n",
              "      <th></th>\n",
              "      <th></th>\n",
              "      <th></th>\n",
              "      <th></th>\n",
              "      <th></th>\n",
              "      <th></th>\n",
              "      <th></th>\n",
              "      <th></th>\n",
              "      <th></th>\n",
              "      <th></th>\n",
              "      <th></th>\n",
              "      <th></th>\n",
              "      <th></th>\n",
              "    </tr>\n",
              "  </thead>\n",
              "  <tbody>\n",
              "    <tr>\n",
              "      <th>0</th>\n",
              "      <td>1.021978e+07</td>\n",
              "      <td>2017.043738</td>\n",
              "      <td>22.569517</td>\n",
              "      <td>458.181990</td>\n",
              "      <td>297.922004</td>\n",
              "      <td>7.40543</td>\n",
              "      <td>19428.831732</td>\n",
              "      <td>160.259986</td>\n",
              "      <td>35.341112</td>\n",
              "      <td>15045.669817</td>\n",
              "      <td>...</td>\n",
              "      <td>0.312792</td>\n",
              "      <td>0.008989</td>\n",
              "      <td>0.004369</td>\n",
              "      <td>0.002297</td>\n",
              "      <td>0.003761</td>\n",
              "      <td>0.035736</td>\n",
              "      <td>0.019168</td>\n",
              "      <td>0.017191</td>\n",
              "      <td>0.004121</td>\n",
              "      <td>0.145787</td>\n",
              "    </tr>\n",
              "    <tr>\n",
              "      <th>1</th>\n",
              "      <td>1.022394e+07</td>\n",
              "      <td>2017.049934</td>\n",
              "      <td>22.559917</td>\n",
              "      <td>310.800856</td>\n",
              "      <td>248.148682</td>\n",
              "      <td>7.80849</td>\n",
              "      <td>18422.581577</td>\n",
              "      <td>62.652174</td>\n",
              "      <td>35.322414</td>\n",
              "      <td>15059.047137</td>\n",
              "      <td>...</td>\n",
              "      <td>0.164878</td>\n",
              "      <td>0.017861</td>\n",
              "      <td>0.010199</td>\n",
              "      <td>0.008051</td>\n",
              "      <td>0.015748</td>\n",
              "      <td>0.125981</td>\n",
              "      <td>0.032251</td>\n",
              "      <td>0.044823</td>\n",
              "      <td>0.009432</td>\n",
              "      <td>0.043583</td>\n",
              "    </tr>\n",
              "  </tbody>\n",
              "</table>\n",
              "<p>2 rows × 31 columns</p>\n",
              "</div>\n",
              "      <button class=\"colab-df-convert\" onclick=\"convertToInteractive('df-3b3e48b8-3020-43db-a39f-e344dc98407d')\"\n",
              "              title=\"Convert this dataframe to an interactive table.\"\n",
              "              style=\"display:none;\">\n",
              "        \n",
              "  <svg xmlns=\"http://www.w3.org/2000/svg\" height=\"24px\"viewBox=\"0 0 24 24\"\n",
              "       width=\"24px\">\n",
              "    <path d=\"M0 0h24v24H0V0z\" fill=\"none\"/>\n",
              "    <path d=\"M18.56 5.44l.94 2.06.94-2.06 2.06-.94-2.06-.94-.94-2.06-.94 2.06-2.06.94zm-11 1L8.5 8.5l.94-2.06 2.06-.94-2.06-.94L8.5 2.5l-.94 2.06-2.06.94zm10 10l.94 2.06.94-2.06 2.06-.94-2.06-.94-.94-2.06-.94 2.06-2.06.94z\"/><path d=\"M17.41 7.96l-1.37-1.37c-.4-.4-.92-.59-1.43-.59-.52 0-1.04.2-1.43.59L10.3 9.45l-7.72 7.72c-.78.78-.78 2.05 0 2.83L4 21.41c.39.39.9.59 1.41.59.51 0 1.02-.2 1.41-.59l7.78-7.78 2.81-2.81c.8-.78.8-2.07 0-2.86zM5.41 20L4 18.59l7.72-7.72 1.47 1.35L5.41 20z\"/>\n",
              "  </svg>\n",
              "      </button>\n",
              "      \n",
              "  <style>\n",
              "    .colab-df-container {\n",
              "      display:flex;\n",
              "      flex-wrap:wrap;\n",
              "      gap: 12px;\n",
              "    }\n",
              "\n",
              "    .colab-df-convert {\n",
              "      background-color: #E8F0FE;\n",
              "      border: none;\n",
              "      border-radius: 50%;\n",
              "      cursor: pointer;\n",
              "      display: none;\n",
              "      fill: #1967D2;\n",
              "      height: 32px;\n",
              "      padding: 0 0 0 0;\n",
              "      width: 32px;\n",
              "    }\n",
              "\n",
              "    .colab-df-convert:hover {\n",
              "      background-color: #E2EBFA;\n",
              "      box-shadow: 0px 1px 2px rgba(60, 64, 67, 0.3), 0px 1px 3px 1px rgba(60, 64, 67, 0.15);\n",
              "      fill: #174EA6;\n",
              "    }\n",
              "\n",
              "    [theme=dark] .colab-df-convert {\n",
              "      background-color: #3B4455;\n",
              "      fill: #D2E3FC;\n",
              "    }\n",
              "\n",
              "    [theme=dark] .colab-df-convert:hover {\n",
              "      background-color: #434B5C;\n",
              "      box-shadow: 0px 1px 3px 1px rgba(0, 0, 0, 0.15);\n",
              "      filter: drop-shadow(0px 1px 2px rgba(0, 0, 0, 0.3));\n",
              "      fill: #FFFFFF;\n",
              "    }\n",
              "  </style>\n",
              "\n",
              "      <script>\n",
              "        const buttonEl =\n",
              "          document.querySelector('#df-3b3e48b8-3020-43db-a39f-e344dc98407d button.colab-df-convert');\n",
              "        buttonEl.style.display =\n",
              "          google.colab.kernel.accessAllowed ? 'block' : 'none';\n",
              "\n",
              "        async function convertToInteractive(key) {\n",
              "          const element = document.querySelector('#df-3b3e48b8-3020-43db-a39f-e344dc98407d');\n",
              "          const dataTable =\n",
              "            await google.colab.kernel.invokeFunction('convertToInteractive',\n",
              "                                                     [key], {});\n",
              "          if (!dataTable) return;\n",
              "\n",
              "          const docLinkHtml = 'Like what you see? Visit the ' +\n",
              "            '<a target=\"_blank\" href=https://colab.research.google.com/notebooks/data_table.ipynb>data table notebook</a>'\n",
              "            + ' to learn more about interactive tables.';\n",
              "          element.innerHTML = '';\n",
              "          dataTable['output_type'] = 'display_data';\n",
              "          await google.colab.output.renderOutput(dataTable, element);\n",
              "          const docLink = document.createElement('div');\n",
              "          docLink.innerHTML = docLinkHtml;\n",
              "          element.appendChild(docLink);\n",
              "        }\n",
              "      </script>\n",
              "    </div>\n",
              "  </div>\n",
              "  "
            ]
          },
          "metadata": {},
          "execution_count": 154
        }
      ]
    },
    {
      "cell_type": "code",
      "source": [
        ""
      ],
      "metadata": {
        "colab": {
          "base_uri": "https://localhost:8080/",
          "height": 143
        },
        "id": "jrIx2OpUwfQ2",
        "outputId": "c8c3d3bf-c275-46d6-b80f-b77a03e6c1d6"
      },
      "execution_count": 157,
      "outputs": [
        {
          "output_type": "execute_result",
          "data": {
            "text/plain": [
              "         Price_Charged  Cost_of_Trip      Profit        Age\n",
              "Company                                                    \n",
              "0           458.181990    297.922004  160.259986  35.341112\n",
              "1           310.800856    248.148682   62.652174  35.322414"
            ],
            "text/html": [
              "\n",
              "  <div id=\"df-bd826c19-a5bc-4196-a293-370f3c1748fa\">\n",
              "    <div class=\"colab-df-container\">\n",
              "      <div>\n",
              "<style scoped>\n",
              "    .dataframe tbody tr th:only-of-type {\n",
              "        vertical-align: middle;\n",
              "    }\n",
              "\n",
              "    .dataframe tbody tr th {\n",
              "        vertical-align: top;\n",
              "    }\n",
              "\n",
              "    .dataframe thead th {\n",
              "        text-align: right;\n",
              "    }\n",
              "</style>\n",
              "<table border=\"1\" class=\"dataframe\">\n",
              "  <thead>\n",
              "    <tr style=\"text-align: right;\">\n",
              "      <th></th>\n",
              "      <th>Price_Charged</th>\n",
              "      <th>Cost_of_Trip</th>\n",
              "      <th>Profit</th>\n",
              "      <th>Age</th>\n",
              "    </tr>\n",
              "    <tr>\n",
              "      <th>Company</th>\n",
              "      <th></th>\n",
              "      <th></th>\n",
              "      <th></th>\n",
              "      <th></th>\n",
              "    </tr>\n",
              "  </thead>\n",
              "  <tbody>\n",
              "    <tr>\n",
              "      <th>0</th>\n",
              "      <td>458.181990</td>\n",
              "      <td>297.922004</td>\n",
              "      <td>160.259986</td>\n",
              "      <td>35.341112</td>\n",
              "    </tr>\n",
              "    <tr>\n",
              "      <th>1</th>\n",
              "      <td>310.800856</td>\n",
              "      <td>248.148682</td>\n",
              "      <td>62.652174</td>\n",
              "      <td>35.322414</td>\n",
              "    </tr>\n",
              "  </tbody>\n",
              "</table>\n",
              "</div>\n",
              "      <button class=\"colab-df-convert\" onclick=\"convertToInteractive('df-bd826c19-a5bc-4196-a293-370f3c1748fa')\"\n",
              "              title=\"Convert this dataframe to an interactive table.\"\n",
              "              style=\"display:none;\">\n",
              "        \n",
              "  <svg xmlns=\"http://www.w3.org/2000/svg\" height=\"24px\"viewBox=\"0 0 24 24\"\n",
              "       width=\"24px\">\n",
              "    <path d=\"M0 0h24v24H0V0z\" fill=\"none\"/>\n",
              "    <path d=\"M18.56 5.44l.94 2.06.94-2.06 2.06-.94-2.06-.94-.94-2.06-.94 2.06-2.06.94zm-11 1L8.5 8.5l.94-2.06 2.06-.94-2.06-.94L8.5 2.5l-.94 2.06-2.06.94zm10 10l.94 2.06.94-2.06 2.06-.94-2.06-.94-.94-2.06-.94 2.06-2.06.94z\"/><path d=\"M17.41 7.96l-1.37-1.37c-.4-.4-.92-.59-1.43-.59-.52 0-1.04.2-1.43.59L10.3 9.45l-7.72 7.72c-.78.78-.78 2.05 0 2.83L4 21.41c.39.39.9.59 1.41.59.51 0 1.02-.2 1.41-.59l7.78-7.78 2.81-2.81c.8-.78.8-2.07 0-2.86zM5.41 20L4 18.59l7.72-7.72 1.47 1.35L5.41 20z\"/>\n",
              "  </svg>\n",
              "      </button>\n",
              "      \n",
              "  <style>\n",
              "    .colab-df-container {\n",
              "      display:flex;\n",
              "      flex-wrap:wrap;\n",
              "      gap: 12px;\n",
              "    }\n",
              "\n",
              "    .colab-df-convert {\n",
              "      background-color: #E8F0FE;\n",
              "      border: none;\n",
              "      border-radius: 50%;\n",
              "      cursor: pointer;\n",
              "      display: none;\n",
              "      fill: #1967D2;\n",
              "      height: 32px;\n",
              "      padding: 0 0 0 0;\n",
              "      width: 32px;\n",
              "    }\n",
              "\n",
              "    .colab-df-convert:hover {\n",
              "      background-color: #E2EBFA;\n",
              "      box-shadow: 0px 1px 2px rgba(60, 64, 67, 0.3), 0px 1px 3px 1px rgba(60, 64, 67, 0.15);\n",
              "      fill: #174EA6;\n",
              "    }\n",
              "\n",
              "    [theme=dark] .colab-df-convert {\n",
              "      background-color: #3B4455;\n",
              "      fill: #D2E3FC;\n",
              "    }\n",
              "\n",
              "    [theme=dark] .colab-df-convert:hover {\n",
              "      background-color: #434B5C;\n",
              "      box-shadow: 0px 1px 3px 1px rgba(0, 0, 0, 0.15);\n",
              "      filter: drop-shadow(0px 1px 2px rgba(0, 0, 0, 0.3));\n",
              "      fill: #FFFFFF;\n",
              "    }\n",
              "  </style>\n",
              "\n",
              "      <script>\n",
              "        const buttonEl =\n",
              "          document.querySelector('#df-bd826c19-a5bc-4196-a293-370f3c1748fa button.colab-df-convert');\n",
              "        buttonEl.style.display =\n",
              "          google.colab.kernel.accessAllowed ? 'block' : 'none';\n",
              "\n",
              "        async function convertToInteractive(key) {\n",
              "          const element = document.querySelector('#df-bd826c19-a5bc-4196-a293-370f3c1748fa');\n",
              "          const dataTable =\n",
              "            await google.colab.kernel.invokeFunction('convertToInteractive',\n",
              "                                                     [key], {});\n",
              "          if (!dataTable) return;\n",
              "\n",
              "          const docLinkHtml = 'Like what you see? Visit the ' +\n",
              "            '<a target=\"_blank\" href=https://colab.research.google.com/notebooks/data_table.ipynb>data table notebook</a>'\n",
              "            + ' to learn more about interactive tables.';\n",
              "          element.innerHTML = '';\n",
              "          dataTable['output_type'] = 'display_data';\n",
              "          await google.colab.output.renderOutput(dataTable, element);\n",
              "          const docLink = document.createElement('div');\n",
              "          docLink.innerHTML = docLinkHtml;\n",
              "          element.appendChild(docLink);\n",
              "        }\n",
              "      </script>\n",
              "    </div>\n",
              "  </div>\n",
              "  "
            ]
          },
          "metadata": {},
          "execution_count": 157
        }
      ]
    },
    {
      "cell_type": "code",
      "source": [
        "for x in grouped.loc[:,('Price_Charged', 'Cost_of_Trip', 'Profit', 'Age')]: \n",
        "  plt.figure(figsize = (8,8))\n",
        "  plt.pie(datadf3.groupby('Company').mean()[x], shadow = True,  autopct='%1.0f%%',)\n",
        "  plt.legend(['YellowCAB', 'PinkCAB'])\n",
        "  plt.title(x, size = 20)"
      ],
      "metadata": {
        "id": "O57cDXRMvdCt"
      },
      "execution_count": null,
      "outputs": []
    },
    {
      "cell_type": "code",
      "source": [
        "import statsmodels.api as sm\n",
        "logit_model=sm.Logit(Y0,X0)\n",
        "result=logit_model.fit()\n",
        "print(result.summary())"
      ],
      "metadata": {
        "colab": {
          "base_uri": "https://localhost:8080/"
        },
        "id": "0nXithr6knoA",
        "outputId": "9184f04b-3224-4487-80d9-d622f85619fb"
      },
      "execution_count": 159,
      "outputs": [
        {
          "output_type": "stream",
          "name": "stderr",
          "text": [
            "/usr/local/lib/python3.7/dist-packages/statsmodels/discrete/discrete_model.py:1736: RuntimeWarning: overflow encountered in exp\n",
            "  return 1/(1+np.exp(-X))\n"
          ]
        },
        {
          "output_type": "stream",
          "name": "stdout",
          "text": [
            "Warning: Maximum number of iterations has been exceeded.\n",
            "         Current function value: 0.015047\n",
            "         Iterations: 35\n"
          ]
        },
        {
          "output_type": "stream",
          "name": "stderr",
          "text": [
            "/usr/local/lib/python3.7/dist-packages/statsmodels/base/model.py:512: ConvergenceWarning: Maximum Likelihood optimization failed to converge. Check mle_retvals\n",
            "  \"Check mle_retvals\", ConvergenceWarning)\n"
          ]
        },
        {
          "output_type": "stream",
          "name": "stdout",
          "text": [
            "                           Logit Regression Results                           \n",
            "==============================================================================\n",
            "Dep. Variable:                Company   No. Observations:               359392\n",
            "Model:                          Logit   Df Residuals:                   359367\n",
            "Method:                           MLE   Df Model:                           24\n",
            "Date:                Thu, 23 Jun 2022   Pseudo R-squ.:                  0.9724\n",
            "Time:                        18:15:36   Log-Likelihood:                -5407.8\n",
            "converged:                      False   LL-Null:                   -1.9626e+05\n",
            "Covariance Type:            nonrobust   LLR p-value:                     0.000\n",
            "=======================================================================================\n",
            "                          coef    std err          z      P>|z|      [0.025      0.975]\n",
            "---------------------------------------------------------------------------------------\n",
            "Date_of_Travel         -0.3549      0.030    -11.663      0.000      -0.414      -0.295\n",
            "KM_Travelled         6810.2242    585.644     11.629      0.000    5662.383    7958.065\n",
            "Price_Charged       -2523.7794   1.36e+06     -0.002      0.999   -2.67e+06    2.67e+06\n",
            "Cost_of_Trip        -5874.7672   7.85e+05     -0.007      0.994   -1.54e+06    1.53e+06\n",
            "month                  -0.0146      0.008     -1.933      0.053      -0.029       0.000\n",
            "Profit               1470.2853   7.97e+05      0.002      0.999   -1.56e+06    1.56e+06\n",
            "Age                    -0.0466      0.025     -1.901      0.057      -0.095       0.001\n",
            "Income                 -0.0222      0.024     -0.905      0.366      -0.070       0.026\n",
            "Population              0.3698   5.48e+05   6.75e-07      1.000   -1.07e+06    1.07e+06\n",
            "Users                   0.0702        nan        nan        nan         nan         nan\n",
            "City_ATLANTA GA         0.0277   2.72e+05   1.02e-07      1.000   -5.33e+05    5.33e+05\n",
            "City_AUSTIN TX          0.1357   2.24e+05   6.06e-07      1.000   -4.39e+05    4.39e+05\n",
            "City_BOSTON MA         -0.2960   4.44e+05  -6.66e-07      1.000   -8.71e+05    8.71e+05\n",
            "City_CHICAGO IL        -0.5603   4.05e+05  -1.38e-06      1.000   -7.93e+05    7.93e+05\n",
            "City_DALLAS TX          0.0594   2.64e+05   2.25e-07      1.000   -5.18e+05    5.18e+05\n",
            "City_DENVER CO          0.0939      2e+05    4.7e-07      1.000   -3.91e+05    3.91e+05\n",
            "City_LOS ANGELES CA     0.2745   4.28e+05   6.41e-07      1.000   -8.39e+05    8.39e+05\n",
            "City_MIAMI FL           0.1318   2.59e+05   5.09e-07      1.000   -5.07e+05    5.07e+05\n",
            "City_NASHVILLE TN       0.1123   1.77e+05   6.34e-07      1.000   -3.47e+05    3.47e+05\n",
            "City_NEW YORK NY        0.3644        nan        nan        nan         nan         nan\n",
            "City_ORANGE COUNTY      0.0956   2.05e+05   4.67e-07      1.000   -4.01e+05    4.01e+05\n",
            "City_PHOENIX AZ         0.0564    1.5e+05   3.77e-07      1.000   -2.93e+05    2.93e+05\n",
            "City_PITTSBURGH PA      0.0134   1.19e+05   1.13e-07      1.000   -2.33e+05    2.33e+05\n",
            "City_SACRAMENTO CA      0.0525   1.58e+05   3.31e-07      1.000   -3.11e+05    3.11e+05\n",
            "City_SAN DIEGO CA       0.2727   3.91e+05   6.98e-07      1.000   -7.66e+05    7.66e+05\n",
            "City_SEATTLE WA         0.0571   2.78e+05   2.05e-07      1.000   -5.46e+05    5.46e+05\n",
            "City_SILICON VALLEY     0.3303   2.89e+05   1.14e-06      1.000   -5.66e+05    5.66e+05\n",
            "City_TUCSON AZ          0.0319   1.44e+05   2.22e-07      1.000   -2.82e+05    2.82e+05\n",
            "City_WASHINGTON DC     -0.5499   4.42e+05  -1.24e-06      1.000   -8.66e+05    8.66e+05\n",
            "=======================================================================================\n",
            "\n",
            "Possibly complete quasi-separation: A fraction 0.95 of observations can be\n",
            "perfectly predicted. This might indicate that there is complete\n",
            "quasi-separation. In this case some parameters will not be identified.\n"
          ]
        },
        {
          "output_type": "stream",
          "name": "stderr",
          "text": [
            "/usr/local/lib/python3.7/dist-packages/statsmodels/base/model.py:1286: RuntimeWarning: invalid value encountered in sqrt\n",
            "  bse_ = np.sqrt(np.diag(self.cov_params()))\n"
          ]
        }
      ]
    },
    {
      "cell_type": "code",
      "source": [
        "logit_model"
      ],
      "metadata": {
        "colab": {
          "base_uri": "https://localhost:8080/"
        },
        "id": "j0BS2EycqDJG",
        "outputId": "9006d48e-27ac-4ab6-d483-1830cbe706d9"
      },
      "execution_count": 109,
      "outputs": [
        {
          "output_type": "execute_result",
          "data": {
            "text/plain": [
              "<statsmodels.discrete.discrete_model.Logit at 0x7f625003b9d0>"
            ]
          },
          "metadata": {},
          "execution_count": 109
        }
      ]
    },
    {
      "cell_type": "code",
      "source": [
        "model = linear_model.LinearRegression()\n",
        "selected = feature_selection.RFE(model, n_features_to_select=7, verbose=0, step=1)\n",
        "selected = selected.fit(X0, Y0)\n",
        "r_features = X0.loc[:, selected.support_]\n",
        "print(\"R features are:\\n{}\".format(','.join(list(r_features))))"
      ],
      "metadata": {
        "colab": {
          "base_uri": "https://localhost:8080/"
        },
        "id": "OF7n5iOidHD1",
        "outputId": "c4732c8d-4489-493b-d055-2c7cd58ddcd8"
      },
      "execution_count": 160,
      "outputs": [
        {
          "output_type": "stream",
          "name": "stdout",
          "text": [
            "R features are:\n",
            "Price_Charged,Cost_of_Trip,Profit,Population,Users,City_LOS ANGELES CA,City_SAN DIEGO CA\n"
          ]
        }
      ]
    },
    {
      "cell_type": "code",
      "source": [
        "X2 = r_features\n",
        "Y = Y0\n",
        "trainX, testX, trainY, testY = train_test_split(X2, Y, test_size=0.3, random_state=0)\n",
        "model = linear_model.LogisticRegression()\n",
        "model.fit(trainX, trainY)\n",
        "print(\"Score from training data: {}\".format(model.score(trainX, trainY)))\n",
        "print(\"Score from test data: {}\".format(model.score(testX, testY)))\n",
        "print(\"Intercept:\\n {}\".format(model.intercept_))\n",
        "print(\"Coefficients:\\n\")\n",
        "for feat2, coef2 in zip(X2, model.coef_[0]):\n",
        "    print(\" {:>20}: {}\".format(feat2, coef2))"
      ],
      "metadata": {
        "colab": {
          "base_uri": "https://localhost:8080/"
        },
        "id": "1QE-USuojH9O",
        "outputId": "94f76663-98c2-4a92-e32a-0b3dfdc44f08"
      },
      "execution_count": 161,
      "outputs": [
        {
          "output_type": "stream",
          "name": "stdout",
          "text": [
            "Score from training data: 0.7897079984418104\n",
            "Score from test data: 0.7908512493275706\n",
            "Intercept:\n",
            " [-1.62284602]\n",
            "Coefficients:\n",
            "\n",
            "        Price_Charged: -0.48168410092685415\n",
            "         Cost_of_Trip: 0.4542841322736529\n",
            "               Profit: -1.272132944346992\n",
            "           Population: 1.8033398501791618\n",
            "                Users: -1.5237515816498781\n",
            "  City_LOS ANGELES CA: 0.5729970960379309\n",
            "    City_SAN DIEGO CA: 0.29281398074661175\n"
          ]
        }
      ]
    },
    {
      "cell_type": "code",
      "source": [
        "#This shows that every unit increase in the profit variable increases teh chances of selecting '0' (Yellow Cab) from variable Company\n",
        "#Considering that the accuracy value of the test and training data is close and high enough, we can say that the model is good. "
      ],
      "metadata": {
        "id": "67T90q8zyDy-"
      },
      "execution_count": null,
      "outputs": []
    },
    {
      "cell_type": "code",
      "source": [
        "predicted = model.predict(testX)\n",
        "print(\"Mean hits: {}\".format(np.mean(predicted==testY)))"
      ],
      "metadata": {
        "colab": {
          "base_uri": "https://localhost:8080/"
        },
        "id": "JDbu_eh8WFrB",
        "outputId": "d0b7dc66-64f1-4cd9-acbe-134fba2c51d5"
      },
      "execution_count": 162,
      "outputs": [
        {
          "output_type": "stream",
          "name": "stdout",
          "text": [
            "Mean hits: 0.7908512493275706\n"
          ]
        }
      ]
    },
    {
      "cell_type": "code",
      "source": [
        "from sklearn.metrics import confusion_matrix\n",
        "confusion_matrix2 = confusion_matrix(testY, predicted)\n",
        "print(confusion_matrix2)"
      ],
      "metadata": {
        "id": "Vo2QfDnXulIo",
        "outputId": "8793157d-9fa9-4714-ec9d-ece264460279",
        "colab": {
          "base_uri": "https://localhost:8080/"
        }
      },
      "execution_count": 163,
      "outputs": [
        {
          "output_type": "stream",
          "name": "stdout",
          "text": [
            "[[77497  5036]\n",
            " [17514  7771]]\n"
          ]
        }
      ]
    },
    {
      "cell_type": "markdown",
      "source": [
        "### Anova analysis for variables KM_travelled, Company and City in Cab data "
      ],
      "metadata": {
        "id": "Knc8H2NDXAyg"
      }
    },
    {
      "cell_type": "code",
      "source": [
        "YellowCab.columns"
      ],
      "metadata": {
        "colab": {
          "base_uri": "https://localhost:8080/"
        },
        "id": "IWdpUT4a2diP",
        "outputId": "620583ba-608a-4d99-dca0-a591f7ee3aea"
      },
      "execution_count": 114,
      "outputs": [
        {
          "output_type": "execute_result",
          "data": {
            "text/plain": [
              "Index(['Transaction_ID', 'Year', 'Company', 'City', 'KM_Travelled',\n",
              "       'Price_Charged', 'Cost_of_Trip', 'month', 'Customer_ID', 'Payment_Mode',\n",
              "       'Profit', 'Gender', 'Age', 'Income', 'Population', 'Users'],\n",
              "      dtype='object')"
            ]
          },
          "metadata": {},
          "execution_count": 114
        }
      ]
    },
    {
      "cell_type": "code",
      "source": [
        "yelcabmod2 = ols('KM_Travelled~City+Gender + Payment_Mode', data = YellowCab).fit()\n",
        "yelcabaov2 = sm.stats.anova_lm(yelcabmod2, type =2 )\n",
        "print(yelcabaov2)"
      ],
      "metadata": {
        "colab": {
          "base_uri": "https://localhost:8080/"
        },
        "id": "aUUPBgRWfFnx",
        "outputId": "c5bfbd85-71b9-4f1a-c339-b8c99fea3fb3"
      },
      "execution_count": 115,
      "outputs": [
        {
          "output_type": "stream",
          "name": "stdout",
          "text": [
            "                    df        sum_sq     mean_sq         F    PR(>F)\n",
            "City              18.0  2.988610e+03  166.033892  1.109275  0.334691\n",
            "Gender             1.0  6.965479e+01   69.654788  0.465365  0.495128\n",
            "Payment_Mode       1.0  1.957596e-02    0.019576  0.000131  0.990875\n",
            "Residual      274660.0  4.111051e+07  149.677807       NaN       NaN\n"
          ]
        }
      ]
    },
    {
      "cell_type": "code",
      "source": [
        "pinkcabmod2 = ols('KM_Travelled~City+Gender + Payment_Mode', data = PinkCab).fit()\n",
        "pinkcabaov2 = sm.stats.anova_lm(pinkcabmod2, type =2 )\n",
        "print(pinkcabaov2)"
      ],
      "metadata": {
        "colab": {
          "base_uri": "https://localhost:8080/"
        },
        "id": "W8C78A2N3ICZ",
        "outputId": "236927ea-6df3-4b44-c028-795a7848c58e"
      },
      "execution_count": 116,
      "outputs": [
        {
          "output_type": "stream",
          "name": "stdout",
          "text": [
            "                   df        sum_sq     mean_sq         F    PR(>F)\n",
            "City             18.0  2.596941e+03  144.274485  0.964388  0.498578\n",
            "Gender            1.0  4.964314e+01   49.643143  0.331834  0.564582\n",
            "Payment_Mode      1.0  1.269877e+02  126.987678  0.848836  0.356885\n",
            "Residual      84690.0  1.266981e+07  149.602191       NaN       NaN\n"
          ]
        }
      ]
    },
    {
      "cell_type": "markdown",
      "source": [
        "### Anova analysis for variables Cost of Trip, Company and City in Cab data "
      ],
      "metadata": {
        "id": "9cTkBeV7XS7t"
      }
    },
    {
      "cell_type": "code",
      "source": [
        "pinkcabmod3 = ols('Profit~City+Gender + Payment_Mode', data = PinkCab).fit()\n",
        "pinkcabaov3 = sm.stats.anova_lm(pinkcabmod3, type =2 )\n",
        "print(pinkcabaov3)"
      ],
      "metadata": {
        "colab": {
          "base_uri": "https://localhost:8080/"
        },
        "id": "qaHdjtMtfXzH",
        "outputId": "f0a18c24-df1c-47f5-f963-87f8901d509f"
      },
      "execution_count": 117,
      "outputs": [
        {
          "output_type": "stream",
          "name": "stdout",
          "text": [
            "                   df        sum_sq       mean_sq           F    PR(>F)\n",
            "City             18.0  5.174505e+07  2.874725e+06  531.306924  0.000000\n",
            "Gender            1.0  7.939247e+02  7.939247e+02    0.146733  0.701678\n",
            "Payment_Mode      1.0  1.579061e+03  1.579061e+03    0.291842  0.589044\n",
            "Residual      84690.0  4.582294e+08  5.410667e+03         NaN       NaN\n"
          ]
        }
      ]
    },
    {
      "cell_type": "code",
      "source": [
        "yelcabmod3 = ols('Profit~City+Gender + Payment_Mode', data = YellowCab).fit()\n",
        "yelcabaov3 = sm.stats.anova_lm(pinkcabmod3, type =2 )\n",
        "print(yelcabaov3)"
      ],
      "metadata": {
        "colab": {
          "base_uri": "https://localhost:8080/"
        },
        "id": "s3xKI4vk3pjD",
        "outputId": "29c58e49-1c77-45f6-c505-6c01fbe2a555"
      },
      "execution_count": 118,
      "outputs": [
        {
          "output_type": "stream",
          "name": "stdout",
          "text": [
            "                   df        sum_sq       mean_sq           F    PR(>F)\n",
            "City             18.0  5.174505e+07  2.874725e+06  531.306924  0.000000\n",
            "Gender            1.0  7.939247e+02  7.939247e+02    0.146733  0.701678\n",
            "Payment_Mode      1.0  1.579061e+03  1.579061e+03    0.291842  0.589044\n",
            "Residual      84690.0  4.582294e+08  5.410667e+03         NaN       NaN\n"
          ]
        }
      ]
    }
  ]
}